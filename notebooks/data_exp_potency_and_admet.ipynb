{
 "cells": [
  {
   "cell_type": "code",
   "execution_count": 19,
   "metadata": {
    "collapsed": true
   },
   "outputs": [
    {
     "name": "stderr",
     "output_type": "stream",
     "text": [
      "\u001B[32m2025-01-15 10:34:41.819\u001B[0m | \u001B[33m\u001B[1mWARNING \u001B[0m | \u001B[36mpolaris.dataset._base\u001B[0m:\u001B[36mzarr_root\u001B[0m:\u001B[36m179\u001B[0m - \u001B[33m\u001B[1mYou're loading data from a remote location. If the dataset is small enough, consider caching the dataset first using CompetitionSpecification.cache() for more performant data access.\u001B[0m\n",
      "\u001B[32m2025-01-15 10:34:42.645\u001B[0m | \u001B[1mINFO    \u001B[0m | \u001B[36mpolaris.dataset._base\u001B[0m:\u001B[36m_cache_zarr\u001B[0m:\u001B[36m374\u001B[0m - \u001B[1mCopying Zarr archive to /home/bause/.cache/polaris/datasets/62fc1125-06f1-4969-b459-6f63d83fc5c1/data.zarr. This may take a while.\u001B[0m\n",
      "\u001B[32m2025-01-15 10:34:43.329\u001B[0m | \u001B[1mINFO    \u001B[0m | \u001B[36mpolaris.hub.storage\u001B[0m:\u001B[36mcopy_to_destination\u001B[0m:\u001B[36m177\u001B[0m - \u001B[1mCopied 16 (0.07 MiB), skipped 0, of 16 keys. 100.00% completed.\u001B[0m\n"
     ]
    },
    {
     "data": {
      "text/plain": "'/home/bause/.cache/polaris/datasets/62fc1125-06f1-4969-b459-6f63d83fc5c1'"
     },
     "execution_count": 19,
     "metadata": {},
     "output_type": "execute_result"
    }
   ],
   "source": [
    "import polaris as po\n",
    "import math\n",
    "from rdkit import Chem\n",
    "from rdkit.Chem import Draw\n",
    "\n",
    "# competition = po.load_competition(\"asap-discovery/antiviral-potency-2025\")\n",
    "competition = po.load_competition(\"asap-discovery/antiviral-admet-2025\")\n",
    "competition.cache()"
   ]
  },
  {
   "cell_type": "code",
   "execution_count": 24,
   "outputs": [
    {
     "name": "stdout",
     "output_type": "stream",
     "text": [
      "Targets:\n",
      "['MLM', 'KSOL', 'MDR1-MDCKII', 'HLM', 'LogD']\n",
      "Dataset size:\n",
      "(560, 7)\n",
      "Train size:\n",
      "434\n",
      "Train size per target:\n",
      "{'MLM': 303, 'KSOL': 365, 'MDR1-MDCKII': 425, 'HLM': 301, 'LogD': 352}\n",
      "Test size:\n",
      "126\n"
     ]
    }
   ],
   "source": [
    "train, test = competition.get_train_test_split()\n",
    "\n",
    "print(\"Targets:\")\n",
    "print(train.target_cols)\n",
    "print(\"Dataset size:\")\n",
    "print(competition.size())\n",
    "print(\"Train size:\")\n",
    "print(len(train))\n",
    "\n",
    "print(\"Train size per target:\")\n",
    "# Filter nans out of train set\n",
    "# this should/could be one line :(\n",
    "num_of_values = dict()\n",
    "for target in train.target_cols:\n",
    "    values = 0\n",
    "    for i in range(0, len(train)):\n",
    "        if not math.isnan(train[i][1].get(target)):\n",
    "            values += 1\n",
    "    num_of_values[target] = values\n",
    "print(num_of_values)\n",
    "\n",
    "print(\"Test size:\")\n",
    "print(len(test))\n",
    "\n"
   ],
   "metadata": {
    "collapsed": false
   }
  },
  {
   "cell_type": "code",
   "execution_count": 23,
   "outputs": [
    {
     "name": "stdout",
     "output_type": "stream",
     "text": [
      "{'MLM': nan, 'KSOL': nan, 'MDR1-MDCKII': 2.0, 'HLM': nan, 'LogD': 0.3}\n",
      "{'MLM': nan, 'KSOL': 333.0, 'MDR1-MDCKII': 0.2, 'HLM': nan, 'LogD': 2.9}\n",
      "{'MLM': nan, 'KSOL': nan, 'MDR1-MDCKII': 0.5, 'HLM': nan, 'LogD': 0.4}\n"
     ]
    }
   ],
   "source": [
    "smiles = [smiles[0] for smiles in train]\n",
    "\n",
    "# Show the first 3 molecules\n",
    "mols = [Chem.MolFromSmiles(smiles[i]) for i in range(3)]\n",
    "Draw.MolsToGridImage(mols, molsPerRow=3, subImgSize=(300, 300))\n",
    "print(train[0][1])\n",
    "print(train[1][1])\n",
    "print(train[2][1])"
   ],
   "metadata": {
    "collapsed": false
   }
  },
  {
   "cell_type": "code",
   "execution_count": 16,
   "outputs": [],
   "source": [
    "# mol sizes\n",
    "\n",
    "# train\n",
    "smiles = [smiles[0] for smiles in train]\n",
    "\n",
    "mols = [Chem.MolFromSmiles(smiles[i]) for i in range(len(smiles))]\n",
    "mol_sizes = [mol.GetNumAtoms() for mol in mols]\n",
    "# mol weight\n",
    "\n",
    "# test\n",
    "smiles_test = [smiles[0] for smiles in train]\n",
    "\n",
    "mols_test = [Chem.MolFromSmiles(smiles_test[i]) for i in range(len(smiles_test))]\n",
    "mol_sizes_test = [mol.GetNumAtoms() for mol in mols_test]\n",
    "\n",
    "# print(mol_sizes_test)"
   ],
   "metadata": {
    "collapsed": false
   }
  },
  {
   "cell_type": "code",
   "execution_count": null,
   "outputs": [],
   "source": [],
   "metadata": {
    "collapsed": false
   }
  }
 ],
 "metadata": {
  "kernelspec": {
   "display_name": "Python 3",
   "language": "python",
   "name": "python3"
  },
  "language_info": {
   "codemirror_mode": {
    "name": "ipython",
    "version": 2
   },
   "file_extension": ".py",
   "mimetype": "text/x-python",
   "name": "python",
   "nbconvert_exporter": "python",
   "pygments_lexer": "ipython2",
   "version": "2.7.6"
  }
 },
 "nbformat": 4,
 "nbformat_minor": 0
}
