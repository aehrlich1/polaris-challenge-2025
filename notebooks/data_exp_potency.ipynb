{
 "cells": [
  {
   "metadata": {},
   "cell_type": "code",
   "outputs": [],
   "execution_count": null,
   "source": [
    "import polaris as po\n",
    "import math\n",
    "from pathlib import Path\n",
    "from rdkit import Chem\n",
    "from rdkit.Chem import Draw\n",
    "from rdkit.Chem.Descriptors import ExactMolWt, HeavyAtomMolWt\n",
    "from rdkit.Chem.Fingerprints import FingerprintMols\n",
    "from rdkit import DataStructs\n",
    "import numpy as np\n",
    "import seaborn as sns\n",
    "from matplotlib import pyplot as plt\n",
    "import pandas as pd\n",
    "\n",
    "competition_name: str = \"antiviral-potency-2025\"\n",
    "# competition_name: str = \"antiviral-admet-2025\"\n",
    "\n",
    "competition = po.load_competition(f\"asap-discovery/{competition_name}\")\n",
    "data_dir: Path = Path(f\"../data/{competition_name}\")\n",
    "\n",
    "competition.cache(data_dir)\n"
   ]
  },
  {
   "metadata": {},
   "cell_type": "code",
   "outputs": [],
   "execution_count": null,
   "source": [
    "train, test = competition.get_train_test_split()\n",
    "\n",
    "print(\"Targets:\")\n",
    "print(train.target_cols)\n",
    "print(\"Dataset size:\")\n",
    "print(competition.size())\n",
    "print(\"Train size:\")\n",
    "print(len(train))\n",
    "\n",
    "print(\"Train size per target:\")\n",
    "# Filter nans out of train set\n",
    "# this should/could be one line :(\n",
    "num_of_values = dict()\n",
    "for target in train.target_cols:\n",
    "    values = 0\n",
    "    for i in range(0, len(train)):\n",
    "        if not math.isnan(train[i][1].get(target)):\n",
    "            values += 1\n",
    "    num_of_values[target] = values\n",
    "print(num_of_values)\n",
    "\n",
    "print(\"Test size:\")\n",
    "print(len(test))\n",
    "\n"
   ]
  },
  {
   "metadata": {},
   "cell_type": "code",
   "outputs": [],
   "execution_count": null,
   "source": [
    "# the same, but better + min max avg\n",
    "for tgt in train.target_cols:\n",
    "    y = train.y[tgt]\n",
    "    mask = ~np.isnan(y)\n",
    "    print(tgt)\n",
    "    print(\"Number of samples \"+ str(sum(mask)))\n",
    "\n",
    "    print(\"min - avg - max\")\n",
    "    min = np.min(y[mask])\n",
    "    avg = np.average(y[mask])\n",
    "    max = np.max(y[mask])\n",
    "    print(str(min) + \" \" +\"{:.2f}\".format(avg)+ \" \" + str(max))\n",
    "\n",
    "\n",
    "    print(\"--------------------\")"
   ]
  },
  {
   "metadata": {},
   "cell_type": "code",
   "outputs": [],
   "execution_count": null,
   "source": [
    "# draw distribution for each target\n",
    "for tgt in train.target_cols:\n",
    "    y = train.y[tgt]\n",
    "    mask = ~np.isnan(y)\n",
    "    data = train.y[tgt][mask]\n",
    "    sns.displot(data=pd.DataFrame({tgt: data}),\n",
    "            x=tgt, kde=True, color='teal')\n",
    "plt.show()"
   ]
  },
  {
   "metadata": {},
   "cell_type": "code",
   "outputs": [],
   "execution_count": null,
   "source": [
    "# get mols from smiles\n",
    "smiles_train = [smiles[0] for smiles in train]\n",
    "mols_train = [Chem.MolFromSmiles(smiles_train[i]) for i in range(len(smiles_train))]\n",
    "\n",
    "\n",
    "smiles_test = test\n",
    "mols_test = [Chem.MolFromSmiles(smiles_test[i]) for i in range(len(smiles_test))]"
   ]
  },
  {
   "metadata": {},
   "cell_type": "code",
   "outputs": [],
   "execution_count": null,
   "source": [
    "# draw some molecules for each target for each category (min, avg, max)\n",
    "# Draw.MolsToGridImage(mols_test, molsPerRow=3, subImgSize=(300, 300))\n",
    "\n",
    "#for tgt in train.target_cols: # why doesn't it print those, if I loop it :(\n",
    "tgt = 'pIC50 (MERS-CoV Mpro)' #['pIC50 (MERS-CoV Mpro)', 'pIC50 (SARS-CoV-2 Mpro)']\n",
    "y = train.y[tgt]\n",
    "mask = ~np.isnan(y)\n",
    "min = np.min(y[mask])\n",
    "\n",
    "min_indices = np.where(y == min)[0]\n",
    "mols = [mols_train[i] for i in min_indices]\n",
    "Draw.MolsToGridImage(mols, molsPerRow=3, subImgSize=(300, 300))"
   ]
  },
  {
   "metadata": {},
   "cell_type": "code",
   "outputs": [],
   "execution_count": null,
   "source": [
    "max = np.max(y[mask])\n",
    "\n",
    "max_indices = np.where(y == max)[0]\n",
    "mols = [mols_train[i] for i in max_indices]\n",
    "Draw.MolsToGridImage(mols, molsPerRow=3, subImgSize=(300, 300))"
   ]
  },
  {
   "metadata": {},
   "cell_type": "code",
   "outputs": [],
   "execution_count": null,
   "source": [
    "avg = np.average(y[mask])\n",
    "\n",
    "avg_indices = [0] # todo: find avg indices\n",
    "mols = [mols_train[i] for i in avg_indices]\n",
    "Draw.MolsToGridImage(mols, molsPerRow=3, subImgSize=(300, 300))"
   ]
  },
  {
   "metadata": {},
   "cell_type": "code",
   "outputs": [],
   "execution_count": null,
   "source": [
    "# distribution of molecular weight\n",
    "# train\n",
    "\n",
    "weights = [ExactMolWt(mol) for mol in mols_train]\n",
    "sns.displot(data=pd.DataFrame({\"Weights Train\": weights}),\n",
    "            x=\"Weights Train\", kde=True, color='teal')\n",
    "plt.show()\n",
    "\n",
    "#test\n",
    "\n",
    "weights = [ExactMolWt(mol) for mol in mols_test]\n",
    "sns.displot(data=pd.DataFrame({\"Weights Test\": weights}),\n",
    "            x=\"Weights Test\", kde=True, color='teal')\n",
    "plt.show()\n"
   ]
  },
  {
   "metadata": {},
   "cell_type": "code",
   "outputs": [],
   "execution_count": null,
   "source": [
    "# distribution of molecular weight\n",
    "# train\n",
    "\n",
    "weights = [HeavyAtomMolWt(mol) for mol in mols_train]\n",
    "sns.displot(data=pd.DataFrame({\"Weights Train\": weights}),\n",
    "            x=\"Weights Train\", kde=True, color='teal')\n",
    "plt.show()\n",
    "\n",
    "#test\n",
    "\n",
    "weights = [HeavyAtomMolWt(mol) for mol in mols_test]\n",
    "sns.displot(data=pd.DataFrame({\"Weights Test\": weights}),\n",
    "            x=\"Weights Test\", kde=True, color='teal')\n",
    "plt.show()\n"
   ]
  },
  {
   "metadata": {},
   "cell_type": "code",
   "outputs": [],
   "execution_count": null,
   "source": [
    "# distribution of number of atoms\n",
    "# train\n",
    "\n",
    "weights = [mol.GetNumAtoms() for mol in mols_train]\n",
    "sns.displot(data=pd.DataFrame({\"Num Atoms Train\": weights}),\n",
    "            x=\"Num Atoms Train\", kde=True, color='teal')\n",
    "plt.show()\n",
    "\n",
    "#test\n",
    "\n",
    "weights = [mol.GetNumAtoms() for mol in mols_test]\n",
    "sns.displot(data=pd.DataFrame({\"Num Atoms Test\": weights}),\n",
    "            x=\"Num Atoms Test\", kde=True, color='teal')\n",
    "plt.show()\n"
   ]
  },
  {
   "metadata": {},
   "cell_type": "code",
   "outputs": [],
   "execution_count": null,
   "source": [
    "# distribution of similarity in train/test\n",
    "# train\n",
    "fps_train = [FingerprintMols.FingerprintMol(x) for x in mols_train]\n",
    "sim = []\n",
    "\n",
    "for i in range(len(fps_train)-1):\n",
    "    for j in range(i, len(fps_train)):\n",
    "        sim.append(DataStructs.TanimotoSimilarity(fps_train[i], fps_train[j]))\n",
    "\n",
    "sns.displot(data=pd.DataFrame({\"Similarity in Train\": sim}),\n",
    "            x=\"Similarity in Train\", kde=True, color='teal')\n",
    "plt.show()\n",
    "\n",
    "#test\n",
    "fps_test = [FingerprintMols.FingerprintMol(x) for x in mols_test]\n",
    "sim = []\n",
    "\n",
    "for i in range(len(fps_test)-1):\n",
    "    for j in range(i, len(fps_test)):\n",
    "        sim.append(DataStructs.TanimotoSimilarity(fps_test[i], fps_test[j]))\n",
    "\n",
    "\n",
    "sns.displot(data=pd.DataFrame({\"Similarity in Test\": sim}),\n",
    "            x=\"Similarity in Test\", kde=True, color='teal')\n",
    "plt.show()\n"
   ]
  },
  {
   "metadata": {},
   "cell_type": "code",
   "outputs": [],
   "execution_count": null,
   "source": [
    "# distribution of similarity between train and test\n",
    "sim = []\n",
    "for i in range(len(fps_train)):\n",
    "    for j in range(len(fps_test)):\n",
    "        sim.append(DataStructs.TanimotoSimilarity(fps_train[i], fps_test[j]))\n",
    "\n",
    "sns.displot(data=pd.DataFrame({\"Similarity between Train and Test\": sim}),\n",
    "            x=\"Similarity between Train and Test\", kde=True, color='teal')\n",
    "\n"
   ]
  },
  {
   "metadata": {},
   "cell_type": "code",
   "outputs": [],
   "execution_count": null,
   "source": [
    "# distribution of max similarity between train and test\n",
    "sim = []\n",
    "for i in range(len(fps_test)):\n",
    "    max = 0\n",
    "    for j in range(len(fps_train)):\n",
    "        simi = DataStructs.TanimotoSimilarity(fps_test[i], fps_train[j])\n",
    "        if simi > max:\n",
    "            max = simi\n",
    "    sim.append(max)\n",
    "\n",
    "sns.displot(data=pd.DataFrame({\"Max Similarity between Test and Train\": sim}),\n",
    "            x=\"Max Similarity between Test and Train\", kde=True, color='teal')\n"
   ]
  },
  {
   "metadata": {},
   "cell_type": "code",
   "outputs": [],
   "execution_count": null,
   "source": [
    "# scatter tgt vs mol weight\n",
    "for tgt in train.target_cols:\n",
    "    weights = [HeavyAtomMolWt(mol) for mol in mols_train]\n",
    "    sns.scatterplot(data=pd.DataFrame({\"Weights Train\": weights, tgt:train.y[tgt]}),\n",
    "            x=\"Weights Train\",y=tgt, color='teal')\n",
    "    plt.show()\n"
   ]
  },
  {
   "metadata": {},
   "cell_type": "code",
   "outputs": [],
   "execution_count": null,
   "source": ""
  },
  {
   "metadata": {},
   "cell_type": "code",
   "outputs": [],
   "execution_count": null,
   "source": [
    "print(train[0][1])\n",
    "print(train[1][1])\n",
    "print(train[2][1])"
   ]
  },
  {
   "metadata": {},
   "cell_type": "code",
   "outputs": [],
   "execution_count": null,
   "source": [
    "# mol sizes\n",
    "\n",
    "# train\n",
    "smiles = [smiles[0] for smiles in train]\n",
    "\n",
    "mols = [Chem.MolFromSmiles(smiles[i]) for i in range(len(smiles))]\n",
    "mol_sizes = [mol.GetNumAtoms() for mol in mols]\n",
    "# mol weight\n",
    "\n",
    "# test\n",
    "smiles_test = [smiles[0] for smiles in train]\n",
    "\n",
    "mols_test = [Chem.MolFromSmiles(smiles_test[i]) for i in range(len(smiles_test))]\n",
    "mol_sizes_test = [mol.GetNumAtoms() for mol in mols_test]\n",
    "\n",
    "\n",
    "# use atom weight\n",
    "# print(mol_sizes_test)"
   ]
  },
  {
   "metadata": {},
   "cell_type": "code",
   "outputs": [],
   "execution_count": null,
   "source": ""
  }
 ],
 "metadata": {
  "kernelspec": {
   "display_name": "Python 3",
   "language": "python",
   "name": "python3"
  },
  "language_info": {
   "codemirror_mode": {
    "name": "ipython",
    "version": 2
   },
   "file_extension": ".py",
   "mimetype": "text/x-python",
   "name": "python",
   "nbconvert_exporter": "python",
   "pygments_lexer": "ipython2",
   "version": "2.7.6"
  }
 },
 "nbformat": 4,
 "nbformat_minor": 0
}
