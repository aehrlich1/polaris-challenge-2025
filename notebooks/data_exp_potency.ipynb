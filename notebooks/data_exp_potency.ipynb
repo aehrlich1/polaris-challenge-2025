{
 "cells": [
  {
   "metadata": {
    "ExecuteTime": {
     "end_time": "2025-02-10T14:31:12.174300Z",
     "start_time": "2025-02-10T14:31:08.984370Z"
    }
   },
   "cell_type": "code",
   "source": [
    "import polaris as po\n",
    "import math\n",
    "from pathlib import Path\n",
    "from rdkit import Chem\n",
    "from rdkit.Chem import Draw\n",
    "from rdkit.Chem.Descriptors import ExactMolWt, HeavyAtomMolWt\n",
    "from rdkit.Chem.Fingerprints import FingerprintMols\n",
    "from rdkit import DataStructs\n",
    "import numpy as np\n",
    "import seaborn as sns\n",
    "from matplotlib import pyplot as plt\n",
    "import pandas as pd\n",
    "\n",
    "competition_name: str = \"antiviral-potency-2025\"\n",
    "# competition_name: str = \"antiviral-admet-2025\"\n",
    "\n",
    "competition = po.load_competition(f\"asap-discovery/{competition_name}\")\n",
    "data_dir: Path = Path(f\"../data/{competition_name}\")\n",
    "\n",
    "# competition.cache(data_dir)\n"
   ],
   "outputs": [
    {
     "data": {
      "text/plain": [
       "\u001B[2;36m[2025-02-10 15:31:11]\u001B[0m\u001B[2;36m \u001B[0m\u001B[34mINFO    \u001B[0m The version of Polaris that was used to create the artifact \u001B[1m(\u001B[0m\u001B[1;36m0.11\u001B[0m.\u001B[1;36m0\u001B[0m\u001B[1m)\u001B[0m \u001B]8;id=161064;file:///opt/homebrew/Caskroom/miniconda/base/envs/polaris/lib/python3.12/site-packages/polaris/_artifact.py\u001B\\\u001B[2m_artifact.py\u001B[0m\u001B]8;;\u001B\\\u001B[2m:\u001B[0m\u001B]8;id=726034;file:///opt/homebrew/Caskroom/miniconda/base/envs/polaris/lib/python3.12/site-packages/polaris/_artifact.py#92\u001B\\\u001B[2m92\u001B[0m\u001B]8;;\u001B\\\n",
       "\u001B[2;36m                      \u001B[0m         is different from the currently installed version of Polaris         \u001B[2m               \u001B[0m\n",
       "\u001B[2;36m                      \u001B[0m         \u001B[1m(\u001B[0m\u001B[1;36m0.11\u001B[0m.\u001B[1;36m7\u001B[0m\u001B[1m)\u001B[0m.                                                            \u001B[2m               \u001B[0m\n"
      ],
      "text/html": [
       "<pre style=\"white-space:pre;overflow-x:auto;line-height:normal;font-family:Menlo,'DejaVu Sans Mono',consolas,'Courier New',monospace\"><span style=\"color: #7fbfbf; text-decoration-color: #7fbfbf\">[2025-02-10 15:31:11] </span><span style=\"color: #000080; text-decoration-color: #000080\">INFO    </span> The version of Polaris that was used to create the artifact <span style=\"font-weight: bold\">(</span><span style=\"color: #008080; text-decoration-color: #008080; font-weight: bold\">0.11</span>.<span style=\"color: #008080; text-decoration-color: #008080; font-weight: bold\">0</span><span style=\"font-weight: bold\">)</span> <a href=\"file:///opt/homebrew/Caskroom/miniconda/base/envs/polaris/lib/python3.12/site-packages/polaris/_artifact.py\" target=\"_blank\"><span style=\"color: #7f7f7f; text-decoration-color: #7f7f7f\">_artifact.py</span></a><span style=\"color: #7f7f7f; text-decoration-color: #7f7f7f\">:</span><a href=\"file:///opt/homebrew/Caskroom/miniconda/base/envs/polaris/lib/python3.12/site-packages/polaris/_artifact.py#92\" target=\"_blank\"><span style=\"color: #7f7f7f; text-decoration-color: #7f7f7f\">92</span></a>\n",
       "<span style=\"color: #7fbfbf; text-decoration-color: #7fbfbf\">                      </span>         is different from the currently installed version of Polaris         <span style=\"color: #7f7f7f; text-decoration-color: #7f7f7f\">               </span>\n",
       "<span style=\"color: #7fbfbf; text-decoration-color: #7fbfbf\">                      </span>         <span style=\"font-weight: bold\">(</span><span style=\"color: #008080; text-decoration-color: #008080; font-weight: bold\">0.11</span>.<span style=\"color: #008080; text-decoration-color: #008080; font-weight: bold\">7</span><span style=\"font-weight: bold\">)</span>.                                                            <span style=\"color: #7f7f7f; text-decoration-color: #7f7f7f\">               </span>\n",
       "</pre>\n"
      ]
     },
     "metadata": {},
     "output_type": "display_data"
    },
    {
     "data": {
      "text/plain": [
       "\u001B[2;36m                     \u001B[0m\u001B[2;36m \u001B[0m\u001B[33mWARNING \u001B[0m You're loading data from a remote location. If the dataset is small     \u001B]8;id=104706;file:///opt/homebrew/Caskroom/miniconda/base/envs/polaris/lib/python3.12/site-packages/polaris/dataset/_base.py\u001B\\\u001B[2m_base.py\u001B[0m\u001B]8;;\u001B\\\u001B[2m:\u001B[0m\u001B]8;id=322270;file:///opt/homebrew/Caskroom/miniconda/base/envs/polaris/lib/python3.12/site-packages/polaris/dataset/_base.py#182\u001B\\\u001B[2m182\u001B[0m\u001B]8;;\u001B\\\n",
       "\u001B[2;36m                      \u001B[0m         enough, consider caching the dataset first using                        \u001B[2m            \u001B[0m\n",
       "\u001B[2;36m                      \u001B[0m         \u001B[1;35mCompetitionSpecification.cache\u001B[0m\u001B[1m(\u001B[0m\u001B[1m)\u001B[0m for more performant data access.       \u001B[2m            \u001B[0m\n"
      ],
      "text/html": [
       "<pre style=\"white-space:pre;overflow-x:auto;line-height:normal;font-family:Menlo,'DejaVu Sans Mono',consolas,'Courier New',monospace\"><span style=\"color: #7fbfbf; text-decoration-color: #7fbfbf\">                      </span><span style=\"color: #808000; text-decoration-color: #808000\">WARNING </span> You're loading data from a remote location. If the dataset is small     <a href=\"file:///opt/homebrew/Caskroom/miniconda/base/envs/polaris/lib/python3.12/site-packages/polaris/dataset/_base.py\" target=\"_blank\"><span style=\"color: #7f7f7f; text-decoration-color: #7f7f7f\">_base.py</span></a><span style=\"color: #7f7f7f; text-decoration-color: #7f7f7f\">:</span><a href=\"file:///opt/homebrew/Caskroom/miniconda/base/envs/polaris/lib/python3.12/site-packages/polaris/dataset/_base.py#182\" target=\"_blank\"><span style=\"color: #7f7f7f; text-decoration-color: #7f7f7f\">182</span></a>\n",
       "<span style=\"color: #7fbfbf; text-decoration-color: #7fbfbf\">                      </span>         enough, consider caching the dataset first using                        <span style=\"color: #7f7f7f; text-decoration-color: #7f7f7f\">            </span>\n",
       "<span style=\"color: #7fbfbf; text-decoration-color: #7fbfbf\">                      </span>         <span style=\"color: #800080; text-decoration-color: #800080; font-weight: bold\">CompetitionSpecification.cache</span><span style=\"font-weight: bold\">()</span> for more performant data access.       <span style=\"color: #7f7f7f; text-decoration-color: #7f7f7f\">            </span>\n",
       "</pre>\n"
      ]
     },
     "metadata": {},
     "output_type": "display_data"
    }
   ],
   "execution_count": 1
  },
  {
   "metadata": {
    "ExecuteTime": {
     "end_time": "2025-02-10T14:31:14.545283Z",
     "start_time": "2025-02-10T14:31:12.871266Z"
    }
   },
   "cell_type": "code",
   "source": [
    "train, test = competition.get_train_test_split()\n",
    "\n",
    "print(\"Targets:\")\n",
    "print(train.target_cols)\n",
    "print(\"Dataset size:\")\n",
    "print(competition.size())\n",
    "print(\"Train size:\")\n",
    "print(len(train))\n",
    "\n",
    "print(\"Train size per target:\")\n",
    "# Filter nans out of train set\n",
    "# this should/could be one line :(\n",
    "num_of_values = dict()\n",
    "for target in train.target_cols:\n",
    "    values = 0\n",
    "    for i in range(0, len(train)):\n",
    "        if not math.isnan(train[i][1].get(target)):\n",
    "            values += 1\n",
    "    num_of_values[target] = values\n",
    "print(num_of_values)\n",
    "\n",
    "print(\"Test size:\")\n",
    "print(len(test))\n",
    "\n"
   ],
   "outputs": [
    {
     "name": "stdout",
     "output_type": "stream",
     "text": [
      "Targets:\n",
      "['pIC50 (MERS-CoV Mpro)', 'pIC50 (SARS-CoV-2 Mpro)']\n",
      "Dataset size:\n",
      "(1328, 4)\n",
      "Train size:\n",
      "1031\n",
      "Train size per target:\n",
      "{'pIC50 (MERS-CoV Mpro)': 901, 'pIC50 (SARS-CoV-2 Mpro)': 842}\n",
      "Test size:\n",
      "297\n"
     ]
    }
   ],
   "execution_count": 2
  },
  {
   "metadata": {},
   "cell_type": "code",
   "outputs": [],
   "execution_count": null,
   "source": [
    "# the same, but better + min max avg\n",
    "for tgt in train.target_cols:\n",
    "    y = train.y[tgt]\n",
    "    mask = ~np.isnan(y)\n",
    "    print(tgt)\n",
    "    print(\"Number of samples \"+ str(sum(mask)))\n",
    "\n",
    "    print(\"min - avg - max\")\n",
    "    min = np.min(y[mask])\n",
    "    avg = np.average(y[mask])\n",
    "    max = np.max(y[mask])\n",
    "    print(str(min) + \" \" +\"{:.2f}\".format(avg)+ \" \" + str(max))\n",
    "\n",
    "\n",
    "    print(\"--------------------\")"
   ]
  },
  {
   "metadata": {},
   "cell_type": "code",
   "outputs": [],
   "execution_count": null,
   "source": [
    "# draw distribution for each target\n",
    "for tgt in train.target_cols:\n",
    "    y = train.y[tgt]\n",
    "    mask = ~np.isnan(y)\n",
    "    data = train.y[tgt][mask]\n",
    "    sns.displot(data=pd.DataFrame({tgt: data}),\n",
    "            x=tgt, kde=True, color='teal')\n",
    "plt.show()"
   ]
  },
  {
   "metadata": {},
   "cell_type": "code",
   "outputs": [],
   "execution_count": null,
   "source": [
    "# get mols from smiles\n",
    "smiles_train = [smiles[0] for smiles in train]\n",
    "mols_train = [Chem.MolFromSmiles(smiles_train[i]) for i in range(len(smiles_train))]\n",
    "\n",
    "\n",
    "smiles_test = test\n",
    "mols_test = [Chem.MolFromSmiles(smiles_test[i]) for i in range(len(smiles_test))]"
   ]
  },
  {
   "metadata": {},
   "cell_type": "code",
   "outputs": [],
   "execution_count": null,
   "source": [
    "# draw some molecules for each target for each category (min, avg, max)\n",
    "# Draw.MolsToGridImage(mols_test, molsPerRow=3, subImgSize=(300, 300))\n",
    "\n",
    "#for tgt in train.target_cols: # why doesn't it print those, if I loop it :(\n",
    "tgt = 'pIC50 (MERS-CoV Mpro)' #['pIC50 (MERS-CoV Mpro)', 'pIC50 (SARS-CoV-2 Mpro)']\n",
    "y = train.y[tgt]\n",
    "mask = ~np.isnan(y)\n",
    "min = np.min(y[mask])\n",
    "\n",
    "min_indices = np.where(y == min)[0]\n",
    "mols = [mols_train[i] for i in min_indices]\n",
    "Draw.MolsToGridImage(mols, molsPerRow=3, subImgSize=(300, 300))"
   ]
  },
  {
   "metadata": {},
   "cell_type": "code",
   "outputs": [],
   "execution_count": null,
   "source": [
    "max = np.max(y[mask])\n",
    "\n",
    "max_indices = np.where(y == max)[0]\n",
    "mols = [mols_train[i] for i in max_indices]\n",
    "Draw.MolsToGridImage(mols, molsPerRow=3, subImgSize=(300, 300))"
   ]
  },
  {
   "metadata": {},
   "cell_type": "code",
   "outputs": [],
   "execution_count": null,
   "source": [
    "avg = np.average(y[mask])\n",
    "\n",
    "avg_indices = [0] # todo: find avg indices\n",
    "mols = [mols_train[i] for i in avg_indices]\n",
    "Draw.MolsToGridImage(mols, molsPerRow=3, subImgSize=(300, 300))"
   ]
  },
  {
   "metadata": {},
   "cell_type": "code",
   "outputs": [],
   "execution_count": null,
   "source": [
    "# distribution of molecular weight\n",
    "# train\n",
    "\n",
    "weights = [ExactMolWt(mol) for mol in mols_train]\n",
    "sns.displot(data=pd.DataFrame({\"Weights Train\": weights}),\n",
    "            x=\"Weights Train\", kde=True, color='teal')\n",
    "plt.show()\n",
    "\n",
    "#test\n",
    "\n",
    "weights = [ExactMolWt(mol) for mol in mols_test]\n",
    "sns.displot(data=pd.DataFrame({\"Weights Test\": weights}),\n",
    "            x=\"Weights Test\", kde=True, color='teal')\n",
    "plt.show()\n"
   ]
  },
  {
   "metadata": {},
   "cell_type": "code",
   "outputs": [],
   "execution_count": null,
   "source": [
    "# distribution of molecular weight\n",
    "# train\n",
    "\n",
    "weights = [HeavyAtomMolWt(mol) for mol in mols_train]\n",
    "sns.displot(data=pd.DataFrame({\"Weights Train\": weights}),\n",
    "            x=\"Weights Train\", kde=True, color='teal')\n",
    "plt.show()\n",
    "\n",
    "#test\n",
    "\n",
    "weights = [HeavyAtomMolWt(mol) for mol in mols_test]\n",
    "sns.displot(data=pd.DataFrame({\"Weights Test\": weights}),\n",
    "            x=\"Weights Test\", kde=True, color='teal')\n",
    "plt.show()\n"
   ]
  },
  {
   "metadata": {},
   "cell_type": "code",
   "outputs": [],
   "execution_count": null,
   "source": [
    "# distribution of number of atoms\n",
    "# train\n",
    "\n",
    "weights = [mol.GetNumAtoms() for mol in mols_train]\n",
    "sns.displot(data=pd.DataFrame({\"Num Atoms Train\": weights}),\n",
    "            x=\"Num Atoms Train\", kde=True, color='teal')\n",
    "plt.show()\n",
    "\n",
    "#test\n",
    "\n",
    "weights = [mol.GetNumAtoms() for mol in mols_test]\n",
    "sns.displot(data=pd.DataFrame({\"Num Atoms Test\": weights}),\n",
    "            x=\"Num Atoms Test\", kde=True, color='teal')\n",
    "plt.show()\n"
   ]
  },
  {
   "metadata": {},
   "cell_type": "code",
   "outputs": [],
   "execution_count": null,
   "source": [
    "# distribution of similarity in train/test\n",
    "# train\n",
    "fps_train = [FingerprintMols.FingerprintMol(x) for x in mols_train]\n",
    "sim = []\n",
    "\n",
    "for i in range(len(fps_train)-1):\n",
    "    for j in range(i, len(fps_train)):\n",
    "        sim.append(DataStructs.TanimotoSimilarity(fps_train[i], fps_train[j]))\n",
    "\n",
    "sns.displot(data=pd.DataFrame({\"Similarity in Train\": sim}),\n",
    "            x=\"Similarity in Train\", kde=True, color='teal')\n",
    "plt.show()\n",
    "\n",
    "#test\n",
    "fps_test = [FingerprintMols.FingerprintMol(x) for x in mols_test]\n",
    "sim = []\n",
    "\n",
    "for i in range(len(fps_test)-1):\n",
    "    for j in range(i, len(fps_test)):\n",
    "        sim.append(DataStructs.TanimotoSimilarity(fps_test[i], fps_test[j]))\n",
    "\n",
    "\n",
    "sns.displot(data=pd.DataFrame({\"Similarity in Test\": sim}),\n",
    "            x=\"Similarity in Test\", kde=True, color='teal')\n",
    "plt.show()\n"
   ]
  },
  {
   "metadata": {},
   "cell_type": "code",
   "outputs": [],
   "execution_count": null,
   "source": [
    "# distribution of similarity between train and test\n",
    "sim = []\n",
    "for i in range(len(fps_train)):\n",
    "    for j in range(len(fps_test)):\n",
    "        sim.append(DataStructs.TanimotoSimilarity(fps_train[i], fps_test[j]))\n",
    "\n",
    "sns.displot(data=pd.DataFrame({\"Similarity between Train and Test\": sim}),\n",
    "            x=\"Similarity between Train and Test\", kde=True, color='teal')\n",
    "\n"
   ]
  },
  {
   "metadata": {},
   "cell_type": "code",
   "outputs": [],
   "execution_count": null,
   "source": [
    "# distribution of max similarity between train and test\n",
    "sim = []\n",
    "for i in range(len(fps_test)):\n",
    "    max = 0\n",
    "    for j in range(len(fps_train)):\n",
    "        simi = DataStructs.TanimotoSimilarity(fps_test[i], fps_train[j])\n",
    "        if simi > max:\n",
    "            max = simi\n",
    "    sim.append(max)\n",
    "\n",
    "sns.displot(data=pd.DataFrame({\"Max Similarity between Test and Train\": sim}),\n",
    "            x=\"Max Similarity between Test and Train\", kde=True, color='teal')\n"
   ]
  },
  {
   "metadata": {},
   "cell_type": "code",
   "outputs": [],
   "execution_count": null,
   "source": [
    "# scatter tgt vs mol weight\n",
    "for tgt in train.target_cols:\n",
    "    weights = [HeavyAtomMolWt(mol) for mol in mols_train]\n",
    "    sns.scatterplot(data=pd.DataFrame({\"Weights Train\": weights, tgt:train.y[tgt]}),\n",
    "            x=\"Weights Train\",y=tgt, color='teal')\n",
    "    plt.show()\n"
   ]
  },
  {
   "metadata": {},
   "cell_type": "code",
   "outputs": [],
   "execution_count": null,
   "source": ""
  },
  {
   "metadata": {},
   "cell_type": "code",
   "outputs": [],
   "execution_count": null,
   "source": [
    "print(train[0][1])\n",
    "print(train[1][1])\n",
    "print(train[2][1])"
   ]
  },
  {
   "metadata": {},
   "cell_type": "code",
   "outputs": [],
   "execution_count": null,
   "source": [
    "# mol sizes\n",
    "\n",
    "# train\n",
    "smiles = [smiles[0] for smiles in train]\n",
    "\n",
    "mols = [Chem.MolFromSmiles(smiles[i]) for i in range(len(smiles))]\n",
    "mol_sizes = [mol.GetNumAtoms() for mol in mols]\n",
    "# mol weight\n",
    "\n",
    "# test\n",
    "smiles_test = [smiles[0] for smiles in train]\n",
    "\n",
    "mols_test = [Chem.MolFromSmiles(smiles_test[i]) for i in range(len(smiles_test))]\n",
    "mol_sizes_test = [mol.GetNumAtoms() for mol in mols_test]\n",
    "\n",
    "\n",
    "# use atom weight\n",
    "# print(mol_sizes_test)"
   ]
  },
  {
   "metadata": {},
   "cell_type": "code",
   "outputs": [],
   "execution_count": null,
   "source": ""
  }
 ],
 "metadata": {
  "kernelspec": {
   "display_name": "Python 3",
   "language": "python",
   "name": "python3"
  },
  "language_info": {
   "codemirror_mode": {
    "name": "ipython",
    "version": 2
   },
   "file_extension": ".py",
   "mimetype": "text/x-python",
   "name": "python",
   "nbconvert_exporter": "python",
   "pygments_lexer": "ipython2",
   "version": "2.7.6"
  }
 },
 "nbformat": 4,
 "nbformat_minor": 0
}
