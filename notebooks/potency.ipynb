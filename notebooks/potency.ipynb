{
 "cells": [
  {
   "metadata": {},
   "cell_type": "code",
   "source": [
    "import polaris as po\n",
    "from rdkit import Chem\n",
    "from rdkit.Chem import Draw\n",
    "\n",
    "potency_competition = po.load_competition(\"asap-discovery/antiviral-potency-2025\")\n",
    "potency_competition.cache()"
   ],
   "id": "8fec1cf46102cc6b",
   "outputs": [],
   "execution_count": null
  },
  {
   "metadata": {},
   "cell_type": "code",
   "source": [
    "train, test = potency_competition.get_train_test_split()\n",
    "train[0]"
   ],
   "id": "3fc3bba8bb86c1f",
   "outputs": [],
   "execution_count": null
  },
  {
   "metadata": {},
   "cell_type": "code",
   "source": [
    "# Show the first 3 molecules\n",
    "smiles = [smiles[0] for smiles in train]\n",
    "\n",
    "# Show the first 3 molecules\n",
    "mols = [Chem.MolFromSmiles(smiles[i]) for i in range(3)]\n",
    "Draw.MolsToGridImage(mols, molsPerRow=3, subImgSize=(300, 300))\n"
   ],
   "id": "605fad6e723ebf86",
   "outputs": [],
   "execution_count": null
  }
 ],
 "metadata": {
  "kernelspec": {
   "name": "python3",
   "language": "python",
   "display_name": "Python 3 (ipykernel)"
  }
 },
 "nbformat": 5,
 "nbformat_minor": 9
}
