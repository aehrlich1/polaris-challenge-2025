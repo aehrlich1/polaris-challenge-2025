{
 "cells": [
  {
   "metadata": {
    "ExecuteTime": {
     "end_time": "2025-02-07T17:21:11.491251Z",
     "start_time": "2025-02-07T17:21:08.503180Z"
    }
   },
   "cell_type": "code",
   "source": [
    "import polaris as po\n",
    "competition_name: str = \"antiviral-potency-2025\"\n",
    "competition = po.load_competition(f\"asap-discovery/{competition_name}\")"
   ],
   "id": "16613c1a6203ab70",
   "outputs": [
    {
     "data": {
      "text/plain": [
       "\u001B[2;36m[2025-02-07 18:21:10]\u001B[0m\u001B[2;36m \u001B[0m\u001B[34mINFO    \u001B[0m The version of Polaris that was used to create the artifact \u001B[1m(\u001B[0m\u001B[1;36m0.11\u001B[0m.\u001B[1;36m0\u001B[0m\u001B[1m)\u001B[0m \u001B]8;id=257006;file:///opt/homebrew/Caskroom/miniconda/base/envs/polaris/lib/python3.12/site-packages/polaris/_artifact.py\u001B\\\u001B[2m_artifact.py\u001B[0m\u001B]8;;\u001B\\\u001B[2m:\u001B[0m\u001B]8;id=28459;file:///opt/homebrew/Caskroom/miniconda/base/envs/polaris/lib/python3.12/site-packages/polaris/_artifact.py#92\u001B\\\u001B[2m92\u001B[0m\u001B]8;;\u001B\\\n",
       "\u001B[2;36m                      \u001B[0m         is different from the currently installed version of Polaris         \u001B[2m               \u001B[0m\n",
       "\u001B[2;36m                      \u001B[0m         \u001B[1m(\u001B[0m\u001B[1;36m0.11\u001B[0m.\u001B[1;36m7\u001B[0m\u001B[1m)\u001B[0m.                                                            \u001B[2m               \u001B[0m\n"
      ],
      "text/html": [
       "<pre style=\"white-space:pre;overflow-x:auto;line-height:normal;font-family:Menlo,'DejaVu Sans Mono',consolas,'Courier New',monospace\"><span style=\"color: #7fbfbf; text-decoration-color: #7fbfbf\">[2025-02-07 18:21:10] </span><span style=\"color: #000080; text-decoration-color: #000080\">INFO    </span> The version of Polaris that was used to create the artifact <span style=\"font-weight: bold\">(</span><span style=\"color: #008080; text-decoration-color: #008080; font-weight: bold\">0.11</span>.<span style=\"color: #008080; text-decoration-color: #008080; font-weight: bold\">0</span><span style=\"font-weight: bold\">)</span> <a href=\"file:///opt/homebrew/Caskroom/miniconda/base/envs/polaris/lib/python3.12/site-packages/polaris/_artifact.py\" target=\"_blank\"><span style=\"color: #7f7f7f; text-decoration-color: #7f7f7f\">_artifact.py</span></a><span style=\"color: #7f7f7f; text-decoration-color: #7f7f7f\">:</span><a href=\"file:///opt/homebrew/Caskroom/miniconda/base/envs/polaris/lib/python3.12/site-packages/polaris/_artifact.py#92\" target=\"_blank\"><span style=\"color: #7f7f7f; text-decoration-color: #7f7f7f\">92</span></a>\n",
       "<span style=\"color: #7fbfbf; text-decoration-color: #7fbfbf\">                      </span>         is different from the currently installed version of Polaris         <span style=\"color: #7f7f7f; text-decoration-color: #7f7f7f\">               </span>\n",
       "<span style=\"color: #7fbfbf; text-decoration-color: #7fbfbf\">                      </span>         <span style=\"font-weight: bold\">(</span><span style=\"color: #008080; text-decoration-color: #008080; font-weight: bold\">0.11</span>.<span style=\"color: #008080; text-decoration-color: #008080; font-weight: bold\">7</span><span style=\"font-weight: bold\">)</span>.                                                            <span style=\"color: #7f7f7f; text-decoration-color: #7f7f7f\">               </span>\n",
       "</pre>\n"
      ]
     },
     "metadata": {},
     "output_type": "display_data"
    },
    {
     "data": {
      "text/plain": [
       "\u001B[2;36m                     \u001B[0m\u001B[2;36m \u001B[0m\u001B[33mWARNING \u001B[0m You're loading data from a remote location. If the dataset is small     \u001B]8;id=717451;file:///opt/homebrew/Caskroom/miniconda/base/envs/polaris/lib/python3.12/site-packages/polaris/dataset/_base.py\u001B\\\u001B[2m_base.py\u001B[0m\u001B]8;;\u001B\\\u001B[2m:\u001B[0m\u001B]8;id=541945;file:///opt/homebrew/Caskroom/miniconda/base/envs/polaris/lib/python3.12/site-packages/polaris/dataset/_base.py#182\u001B\\\u001B[2m182\u001B[0m\u001B]8;;\u001B\\\n",
       "\u001B[2;36m                      \u001B[0m         enough, consider caching the dataset first using                        \u001B[2m            \u001B[0m\n",
       "\u001B[2;36m                      \u001B[0m         \u001B[1;35mCompetitionSpecification.cache\u001B[0m\u001B[1m(\u001B[0m\u001B[1m)\u001B[0m for more performant data access.       \u001B[2m            \u001B[0m\n"
      ],
      "text/html": [
       "<pre style=\"white-space:pre;overflow-x:auto;line-height:normal;font-family:Menlo,'DejaVu Sans Mono',consolas,'Courier New',monospace\"><span style=\"color: #7fbfbf; text-decoration-color: #7fbfbf\">                      </span><span style=\"color: #808000; text-decoration-color: #808000\">WARNING </span> You're loading data from a remote location. If the dataset is small     <a href=\"file:///opt/homebrew/Caskroom/miniconda/base/envs/polaris/lib/python3.12/site-packages/polaris/dataset/_base.py\" target=\"_blank\"><span style=\"color: #7f7f7f; text-decoration-color: #7f7f7f\">_base.py</span></a><span style=\"color: #7f7f7f; text-decoration-color: #7f7f7f\">:</span><a href=\"file:///opt/homebrew/Caskroom/miniconda/base/envs/polaris/lib/python3.12/site-packages/polaris/dataset/_base.py#182\" target=\"_blank\"><span style=\"color: #7f7f7f; text-decoration-color: #7f7f7f\">182</span></a>\n",
       "<span style=\"color: #7fbfbf; text-decoration-color: #7fbfbf\">                      </span>         enough, consider caching the dataset first using                        <span style=\"color: #7f7f7f; text-decoration-color: #7f7f7f\">            </span>\n",
       "<span style=\"color: #7fbfbf; text-decoration-color: #7fbfbf\">                      </span>         <span style=\"color: #800080; text-decoration-color: #800080; font-weight: bold\">CompetitionSpecification.cache</span><span style=\"font-weight: bold\">()</span> for more performant data access.       <span style=\"color: #7f7f7f; text-decoration-color: #7f7f7f\">            </span>\n",
       "</pre>\n"
      ]
     },
     "metadata": {},
     "output_type": "display_data"
    }
   ],
   "execution_count": 1
  },
  {
   "metadata": {
    "ExecuteTime": {
     "end_time": "2025-02-07T17:21:22.568431Z",
     "start_time": "2025-02-07T17:21:22.561792Z"
    }
   },
   "cell_type": "code",
   "source": [
    "import pandas as pd\n",
    "y_pred = {}\n",
    "target_cols = competition.target_cols\n",
    "print(target_cols)\n",
    "model = \"HIMP\" # ECFP\n",
    "\n",
    "MERS = pd.read_csv(f\"../models/models_lorenz/pIC50 (MERS-CoV Mpro)__{model}_results.csv\")\n",
    "SARS = pd.read_csv(f\"../models/models_lorenz/pIC50 (SARS-CoV-2 Mpro)__{model}_results.csv\")\n",
    "\n",
    "y_pred['pIC50 (MERS-CoV Mpro)'] = MERS[\"y\"].values\n",
    "y_pred['pIC50 (SARS-CoV-2 Mpro)'] = SARS[\"y\"].values"
   ],
   "id": "e2d191c780b42072",
   "outputs": [
    {
     "name": "stdout",
     "output_type": "stream",
     "text": [
      "{'pIC50 (MERS-CoV Mpro)', 'pIC50 (SARS-CoV-2 Mpro)'}\n"
     ]
    },
    {
     "data": {
      "text/plain": [
       "                                                SMILES         y\n",
       "0    C=CC(=O)NC1=CC=CC(N(CC2=CC=CC(Cl)=C2)C(=O)CC2=...  5.513557\n",
       "1    CNC(=O)CN1C[C@@]2(C(=O)N(C3=CN=CC4=CC=CC=C34)C...  5.513557\n",
       "2    CNC(=O)CN1C[C@]2(CCN(C3=CN=CC4=CC=C(OC[C@H](O)...  5.513557\n",
       "3    CNC(=O)CN1C[C@@]2(C(=O)N(C3=CN=CC4=CC=CC=C34)C...  5.513557\n",
       "4    CNC(=O)CN1C[C@@]2(C(=O)N(C3=CN=CC4=CC=CC=C34)C...  5.513557\n",
       "..                                                 ...       ...\n",
       "292  O=C(CC1=CN=CC2=CC=CC=C12)N1CCCC[C@H]1[C@H]1CCC...  5.256736\n",
       "293  O=C(CC1=CN=CC2=CC=CC=C12)N1CCCC[C@H]1[C@H]1CCC...  5.256736\n",
       "294  O=C(CC1=CN=CC2=CC=CC=C12)N1CCC[C@H]2CCCC[C@@H]...  5.256736\n",
       "295  COC1=CC=CC=C1[C@H]1C[C@H](C)CCN1C(=O)CC1=CN=CC...  5.513557\n",
       "296  COC1=CC=CC=C1[C@H]1C[C@H](C)CCN1C(=O)CC1=CN=CC...  5.513557\n",
       "\n",
       "[297 rows x 2 columns]"
      ],
      "text/html": [
       "<div>\n",
       "<style scoped>\n",
       "    .dataframe tbody tr th:only-of-type {\n",
       "        vertical-align: middle;\n",
       "    }\n",
       "\n",
       "    .dataframe tbody tr th {\n",
       "        vertical-align: top;\n",
       "    }\n",
       "\n",
       "    .dataframe thead th {\n",
       "        text-align: right;\n",
       "    }\n",
       "</style>\n",
       "<table border=\"1\" class=\"dataframe\">\n",
       "  <thead>\n",
       "    <tr style=\"text-align: right;\">\n",
       "      <th></th>\n",
       "      <th>SMILES</th>\n",
       "      <th>y</th>\n",
       "    </tr>\n",
       "  </thead>\n",
       "  <tbody>\n",
       "    <tr>\n",
       "      <th>0</th>\n",
       "      <td>C=CC(=O)NC1=CC=CC(N(CC2=CC=CC(Cl)=C2)C(=O)CC2=...</td>\n",
       "      <td>5.513557</td>\n",
       "    </tr>\n",
       "    <tr>\n",
       "      <th>1</th>\n",
       "      <td>CNC(=O)CN1C[C@@]2(C(=O)N(C3=CN=CC4=CC=CC=C34)C...</td>\n",
       "      <td>5.513557</td>\n",
       "    </tr>\n",
       "    <tr>\n",
       "      <th>2</th>\n",
       "      <td>CNC(=O)CN1C[C@]2(CCN(C3=CN=CC4=CC=C(OC[C@H](O)...</td>\n",
       "      <td>5.513557</td>\n",
       "    </tr>\n",
       "    <tr>\n",
       "      <th>3</th>\n",
       "      <td>CNC(=O)CN1C[C@@]2(C(=O)N(C3=CN=CC4=CC=CC=C34)C...</td>\n",
       "      <td>5.513557</td>\n",
       "    </tr>\n",
       "    <tr>\n",
       "      <th>4</th>\n",
       "      <td>CNC(=O)CN1C[C@@]2(C(=O)N(C3=CN=CC4=CC=CC=C34)C...</td>\n",
       "      <td>5.513557</td>\n",
       "    </tr>\n",
       "    <tr>\n",
       "      <th>...</th>\n",
       "      <td>...</td>\n",
       "      <td>...</td>\n",
       "    </tr>\n",
       "    <tr>\n",
       "      <th>292</th>\n",
       "      <td>O=C(CC1=CN=CC2=CC=CC=C12)N1CCCC[C@H]1[C@H]1CCC...</td>\n",
       "      <td>5.256736</td>\n",
       "    </tr>\n",
       "    <tr>\n",
       "      <th>293</th>\n",
       "      <td>O=C(CC1=CN=CC2=CC=CC=C12)N1CCCC[C@H]1[C@H]1CCC...</td>\n",
       "      <td>5.256736</td>\n",
       "    </tr>\n",
       "    <tr>\n",
       "      <th>294</th>\n",
       "      <td>O=C(CC1=CN=CC2=CC=CC=C12)N1CCC[C@H]2CCCC[C@@H]...</td>\n",
       "      <td>5.256736</td>\n",
       "    </tr>\n",
       "    <tr>\n",
       "      <th>295</th>\n",
       "      <td>COC1=CC=CC=C1[C@H]1C[C@H](C)CCN1C(=O)CC1=CN=CC...</td>\n",
       "      <td>5.513557</td>\n",
       "    </tr>\n",
       "    <tr>\n",
       "      <th>296</th>\n",
       "      <td>COC1=CC=CC=C1[C@H]1C[C@H](C)CCN1C(=O)CC1=CN=CC...</td>\n",
       "      <td>5.513557</td>\n",
       "    </tr>\n",
       "  </tbody>\n",
       "</table>\n",
       "<p>297 rows × 2 columns</p>\n",
       "</div>"
      ]
     },
     "execution_count": 4,
     "metadata": {},
     "output_type": "execute_result"
    }
   ],
   "execution_count": 4
  },
  {
   "metadata": {
    "ExecuteTime": {
     "end_time": "2025-02-07T17:06:48.765719Z",
     "start_time": "2025-02-07T17:06:48.258963Z"
    }
   },
   "cell_type": "code",
   "source": [
    "competition.submit_predictions(\n",
    "    predictions = y_pred,\n",
    "    prediction_name = \"himp_cv\",\n",
    "    prediction_owner = \"lorenz\",\n",
    "    report_url = \"https://www.example.com\",\n",
    "    description = \"First submission\"\n",
    ")"
   ],
   "id": "359ce7855a3e69d4",
   "outputs": [
    {
     "data": {
      "text/plain": [
       "\u001B[2;36m[18:06:48]\u001B[0m\u001B[2;36m \u001B[0m\u001B[32m Success: Submitting competition predictions\u001B[0m                                               \u001B]8;id=839570;file:///opt/homebrew/Caskroom/miniconda/base/envs/polaris/lib/python3.12/site-packages/polaris/utils/context.py\u001B\\\u001B[2mcontext.py\u001B[0m\u001B]8;;\u001B\\\u001B[2m:\u001B[0m\u001B]8;id=170743;file:///opt/homebrew/Caskroom/miniconda/base/envs/polaris/lib/python3.12/site-packages/polaris/utils/context.py#53\u001B\\\u001B[2m53\u001B[0m\u001B]8;;\u001B\\\n"
      ],
      "text/html": [
       "<pre style=\"white-space:pre;overflow-x:auto;line-height:normal;font-family:Menlo,'DejaVu Sans Mono',consolas,'Courier New',monospace\"><span style=\"color: #7fbfbf; text-decoration-color: #7fbfbf\">[18:06:48] </span><span style=\"color: #008000; text-decoration-color: #008000\"> Success: Submitting competition predictions</span>                                               <a href=\"file:///opt/homebrew/Caskroom/miniconda/base/envs/polaris/lib/python3.12/site-packages/polaris/utils/context.py\" target=\"_blank\"><span style=\"color: #7f7f7f; text-decoration-color: #7f7f7f\">context.py</span></a><span style=\"color: #7f7f7f; text-decoration-color: #7f7f7f\">:</span><a href=\"file:///opt/homebrew/Caskroom/miniconda/base/envs/polaris/lib/python3.12/site-packages/polaris/utils/context.py#53\" target=\"_blank\"><span style=\"color: #7f7f7f; text-decoration-color: #7f7f7f\">53</span></a>\n",
       "</pre>\n"
      ]
     },
     "metadata": {},
     "output_type": "display_data"
    },
    {
     "data": {
      "text/plain": [],
      "text/html": [
       "<pre style=\"white-space:pre;overflow-x:auto;line-height:normal;font-family:Menlo,'DejaVu Sans Mono',consolas,'Courier New',monospace\"></pre>\n"
      ]
     },
     "metadata": {},
     "output_type": "display_data"
    }
   ],
   "execution_count": 48
  },
  {
   "metadata": {
    "ExecuteTime": {
     "end_time": "2025-02-07T17:21:29.656134Z",
     "start_time": "2025-02-07T17:21:28.460390Z"
    }
   },
   "cell_type": "code",
   "source": [
    "competition_name: str = \"antiviral-admet-2025\"\n",
    "competition = po.load_competition(f\"asap-discovery/{competition_name}\")"
   ],
   "id": "68c077d3816ab09f",
   "outputs": [
    {
     "data": {
      "text/plain": [
       "\u001B[2;36m[2025-02-07 18:21:29]\u001B[0m\u001B[2;36m \u001B[0m\u001B[34mINFO    \u001B[0m The version of Polaris that was used to create the artifact \u001B[1m(\u001B[0m\u001B[1;36m0.11\u001B[0m.\u001B[1;36m0\u001B[0m\u001B[1m)\u001B[0m \u001B]8;id=119847;file:///opt/homebrew/Caskroom/miniconda/base/envs/polaris/lib/python3.12/site-packages/polaris/_artifact.py\u001B\\\u001B[2m_artifact.py\u001B[0m\u001B]8;;\u001B\\\u001B[2m:\u001B[0m\u001B]8;id=694169;file:///opt/homebrew/Caskroom/miniconda/base/envs/polaris/lib/python3.12/site-packages/polaris/_artifact.py#92\u001B\\\u001B[2m92\u001B[0m\u001B]8;;\u001B\\\n",
       "\u001B[2;36m                      \u001B[0m         is different from the currently installed version of Polaris         \u001B[2m               \u001B[0m\n",
       "\u001B[2;36m                      \u001B[0m         \u001B[1m(\u001B[0m\u001B[1;36m0.11\u001B[0m.\u001B[1;36m7\u001B[0m\u001B[1m)\u001B[0m.                                                            \u001B[2m               \u001B[0m\n"
      ],
      "text/html": [
       "<pre style=\"white-space:pre;overflow-x:auto;line-height:normal;font-family:Menlo,'DejaVu Sans Mono',consolas,'Courier New',monospace\"><span style=\"color: #7fbfbf; text-decoration-color: #7fbfbf\">[2025-02-07 18:21:29] </span><span style=\"color: #000080; text-decoration-color: #000080\">INFO    </span> The version of Polaris that was used to create the artifact <span style=\"font-weight: bold\">(</span><span style=\"color: #008080; text-decoration-color: #008080; font-weight: bold\">0.11</span>.<span style=\"color: #008080; text-decoration-color: #008080; font-weight: bold\">0</span><span style=\"font-weight: bold\">)</span> <a href=\"file:///opt/homebrew/Caskroom/miniconda/base/envs/polaris/lib/python3.12/site-packages/polaris/_artifact.py\" target=\"_blank\"><span style=\"color: #7f7f7f; text-decoration-color: #7f7f7f\">_artifact.py</span></a><span style=\"color: #7f7f7f; text-decoration-color: #7f7f7f\">:</span><a href=\"file:///opt/homebrew/Caskroom/miniconda/base/envs/polaris/lib/python3.12/site-packages/polaris/_artifact.py#92\" target=\"_blank\"><span style=\"color: #7f7f7f; text-decoration-color: #7f7f7f\">92</span></a>\n",
       "<span style=\"color: #7fbfbf; text-decoration-color: #7fbfbf\">                      </span>         is different from the currently installed version of Polaris         <span style=\"color: #7f7f7f; text-decoration-color: #7f7f7f\">               </span>\n",
       "<span style=\"color: #7fbfbf; text-decoration-color: #7fbfbf\">                      </span>         <span style=\"font-weight: bold\">(</span><span style=\"color: #008080; text-decoration-color: #008080; font-weight: bold\">0.11</span>.<span style=\"color: #008080; text-decoration-color: #008080; font-weight: bold\">7</span><span style=\"font-weight: bold\">)</span>.                                                            <span style=\"color: #7f7f7f; text-decoration-color: #7f7f7f\">               </span>\n",
       "</pre>\n"
      ]
     },
     "metadata": {},
     "output_type": "display_data"
    },
    {
     "data": {
      "text/plain": [
       "\u001B[2;36m                     \u001B[0m\u001B[2;36m \u001B[0m\u001B[33mWARNING \u001B[0m You're loading data from a remote location. If the dataset is small     \u001B]8;id=356560;file:///opt/homebrew/Caskroom/miniconda/base/envs/polaris/lib/python3.12/site-packages/polaris/dataset/_base.py\u001B\\\u001B[2m_base.py\u001B[0m\u001B]8;;\u001B\\\u001B[2m:\u001B[0m\u001B]8;id=118990;file:///opt/homebrew/Caskroom/miniconda/base/envs/polaris/lib/python3.12/site-packages/polaris/dataset/_base.py#182\u001B\\\u001B[2m182\u001B[0m\u001B]8;;\u001B\\\n",
       "\u001B[2;36m                      \u001B[0m         enough, consider caching the dataset first using                        \u001B[2m            \u001B[0m\n",
       "\u001B[2;36m                      \u001B[0m         \u001B[1;35mCompetitionSpecification.cache\u001B[0m\u001B[1m(\u001B[0m\u001B[1m)\u001B[0m for more performant data access.       \u001B[2m            \u001B[0m\n"
      ],
      "text/html": [
       "<pre style=\"white-space:pre;overflow-x:auto;line-height:normal;font-family:Menlo,'DejaVu Sans Mono',consolas,'Courier New',monospace\"><span style=\"color: #7fbfbf; text-decoration-color: #7fbfbf\">                      </span><span style=\"color: #808000; text-decoration-color: #808000\">WARNING </span> You're loading data from a remote location. If the dataset is small     <a href=\"file:///opt/homebrew/Caskroom/miniconda/base/envs/polaris/lib/python3.12/site-packages/polaris/dataset/_base.py\" target=\"_blank\"><span style=\"color: #7f7f7f; text-decoration-color: #7f7f7f\">_base.py</span></a><span style=\"color: #7f7f7f; text-decoration-color: #7f7f7f\">:</span><a href=\"file:///opt/homebrew/Caskroom/miniconda/base/envs/polaris/lib/python3.12/site-packages/polaris/dataset/_base.py#182\" target=\"_blank\"><span style=\"color: #7f7f7f; text-decoration-color: #7f7f7f\">182</span></a>\n",
       "<span style=\"color: #7fbfbf; text-decoration-color: #7fbfbf\">                      </span>         enough, consider caching the dataset first using                        <span style=\"color: #7f7f7f; text-decoration-color: #7f7f7f\">            </span>\n",
       "<span style=\"color: #7fbfbf; text-decoration-color: #7fbfbf\">                      </span>         <span style=\"color: #800080; text-decoration-color: #800080; font-weight: bold\">CompetitionSpecification.cache</span><span style=\"font-weight: bold\">()</span> for more performant data access.       <span style=\"color: #7f7f7f; text-decoration-color: #7f7f7f\">            </span>\n",
       "</pre>\n"
      ]
     },
     "metadata": {},
     "output_type": "display_data"
    }
   ],
   "execution_count": 5
  },
  {
   "metadata": {
    "ExecuteTime": {
     "end_time": "2025-02-07T17:21:35.008745Z",
     "start_time": "2025-02-07T17:21:34.998067Z"
    }
   },
   "cell_type": "code",
   "source": [
    "target_cols = competition.target_cols\n",
    "print(target_cols)\n",
    "\n",
    "model = \"HIMP\" # ECFP\n",
    "\n",
    "KSOL = pd.read_csv(f\"../models/models_lorenz/KSOL__{model}_results.csv\")\n",
    "LogD = pd.read_csv(f\"../models/models_lorenz/LogD__{model}_results.csv\")\n",
    "HLM = pd.read_csv(f\"../models/models_lorenz/HLM__{model}_results.csv\")\n",
    "MDR1= pd.read_csv(f\"../models/models_lorenz/MDR1-MDCKII__{model}_results.csv\")\n",
    "MLM = pd.read_csv(f\"../models/models_lorenz/MLM__{model}_results.csv\")\n",
    "\n",
    "y_pred = {}\n",
    "y_pred['KSOL'] = KSOL[\"y\"].values\n",
    "y_pred['LogD'] = LogD[\"y\"].values\n",
    "y_pred['HLM'] = HLM[\"y\"].values\n",
    "y_pred['MDR1-MDCKII'] = MDR1[\"y\"].values\n",
    "y_pred['MLM'] = MLM[\"y\"].values\n",
    "\n",
    "MLM"
   ],
   "id": "a1732664591d0ec",
   "outputs": [
    {
     "name": "stdout",
     "output_type": "stream",
     "text": [
      "{'HLM', 'MLM', 'KSOL', 'MDR1-MDCKII', 'LogD'}\n"
     ]
    },
    {
     "data": {
      "text/plain": [
       "                                                SMILES           y\n",
       "0    CC(C)[C@H]1C2=C(CCN1C(=O)CC1=CN=CC3=CC=CC=C13)...  188.176819\n",
       "1          CC(C)C1(C)CCN(C(=O)CC2=CN=CC3=CC=CC=C23)CC1  188.176819\n",
       "2      O=C(CC1=CN=CC2=CC=CC=C12)N1CCC2=C(C=CS2)C12CCC2  121.673431\n",
       "3      CC1(CC(F)(F)F)CCN(C(=O)CC2=CN=CC3=CC=CC=C23)CC1  188.176819\n",
       "4    CCC1=CC=C([C@H]2C[C@H](C)CCN2C(=O)CC2=CN=CC3=C...  188.176819\n",
       "..                                                 ...         ...\n",
       "121  C[C@H]1CN(C2=CN=CC3=CC=CC=C23)C(=O)[C@@]12CN(C...  188.176819\n",
       "122  C[C@H]1CN(C2=CN=CC3=CC=CC=C23)C(=O)[C@@]12CN(C...  188.176819\n",
       "123  COC[C@H]1CN(C2=CN=CC3=CC=CC=C23)C(=O)[C@@]12CN...  188.176819\n",
       "124  C[C@H]1CN(C2=CN=CC3=CC=CC=C23)C(=O)[C@@]12CN(C...  188.176819\n",
       "125  CC1=NC=C(CN2C[C@@]3(C(=O)N(C4=CN=CC5=CC=CC=C45...  188.176819\n",
       "\n",
       "[126 rows x 2 columns]"
      ],
      "text/html": [
       "<div>\n",
       "<style scoped>\n",
       "    .dataframe tbody tr th:only-of-type {\n",
       "        vertical-align: middle;\n",
       "    }\n",
       "\n",
       "    .dataframe tbody tr th {\n",
       "        vertical-align: top;\n",
       "    }\n",
       "\n",
       "    .dataframe thead th {\n",
       "        text-align: right;\n",
       "    }\n",
       "</style>\n",
       "<table border=\"1\" class=\"dataframe\">\n",
       "  <thead>\n",
       "    <tr style=\"text-align: right;\">\n",
       "      <th></th>\n",
       "      <th>SMILES</th>\n",
       "      <th>y</th>\n",
       "    </tr>\n",
       "  </thead>\n",
       "  <tbody>\n",
       "    <tr>\n",
       "      <th>0</th>\n",
       "      <td>CC(C)[C@H]1C2=C(CCN1C(=O)CC1=CN=CC3=CC=CC=C13)...</td>\n",
       "      <td>188.176819</td>\n",
       "    </tr>\n",
       "    <tr>\n",
       "      <th>1</th>\n",
       "      <td>CC(C)C1(C)CCN(C(=O)CC2=CN=CC3=CC=CC=C23)CC1</td>\n",
       "      <td>188.176819</td>\n",
       "    </tr>\n",
       "    <tr>\n",
       "      <th>2</th>\n",
       "      <td>O=C(CC1=CN=CC2=CC=CC=C12)N1CCC2=C(C=CS2)C12CCC2</td>\n",
       "      <td>121.673431</td>\n",
       "    </tr>\n",
       "    <tr>\n",
       "      <th>3</th>\n",
       "      <td>CC1(CC(F)(F)F)CCN(C(=O)CC2=CN=CC3=CC=CC=C23)CC1</td>\n",
       "      <td>188.176819</td>\n",
       "    </tr>\n",
       "    <tr>\n",
       "      <th>4</th>\n",
       "      <td>CCC1=CC=C([C@H]2C[C@H](C)CCN2C(=O)CC2=CN=CC3=C...</td>\n",
       "      <td>188.176819</td>\n",
       "    </tr>\n",
       "    <tr>\n",
       "      <th>...</th>\n",
       "      <td>...</td>\n",
       "      <td>...</td>\n",
       "    </tr>\n",
       "    <tr>\n",
       "      <th>121</th>\n",
       "      <td>C[C@H]1CN(C2=CN=CC3=CC=CC=C23)C(=O)[C@@]12CN(C...</td>\n",
       "      <td>188.176819</td>\n",
       "    </tr>\n",
       "    <tr>\n",
       "      <th>122</th>\n",
       "      <td>C[C@H]1CN(C2=CN=CC3=CC=CC=C23)C(=O)[C@@]12CN(C...</td>\n",
       "      <td>188.176819</td>\n",
       "    </tr>\n",
       "    <tr>\n",
       "      <th>123</th>\n",
       "      <td>COC[C@H]1CN(C2=CN=CC3=CC=CC=C23)C(=O)[C@@]12CN...</td>\n",
       "      <td>188.176819</td>\n",
       "    </tr>\n",
       "    <tr>\n",
       "      <th>124</th>\n",
       "      <td>C[C@H]1CN(C2=CN=CC3=CC=CC=C23)C(=O)[C@@]12CN(C...</td>\n",
       "      <td>188.176819</td>\n",
       "    </tr>\n",
       "    <tr>\n",
       "      <th>125</th>\n",
       "      <td>CC1=NC=C(CN2C[C@@]3(C(=O)N(C4=CN=CC5=CC=CC=C45...</td>\n",
       "      <td>188.176819</td>\n",
       "    </tr>\n",
       "  </tbody>\n",
       "</table>\n",
       "<p>126 rows × 2 columns</p>\n",
       "</div>"
      ]
     },
     "execution_count": 6,
     "metadata": {},
     "output_type": "execute_result"
    }
   ],
   "execution_count": 6
  },
  {
   "metadata": {
    "ExecuteTime": {
     "end_time": "2025-02-07T17:10:03.862135Z",
     "start_time": "2025-02-07T17:10:03.161370Z"
    }
   },
   "cell_type": "code",
   "source": [
    "competition.submit_predictions(\n",
    "    predictions = y_pred,\n",
    "    prediction_name = \"himp_cv\",\n",
    "    prediction_owner = \"lorenzk\",\n",
    "    report_url = \"https://www.example.com\",\n",
    "    description = \"First submission\"\n",
    ")"
   ],
   "id": "78c0fd5460280098",
   "outputs": [
    {
     "data": {
      "text/plain": [
       "\u001B[2;36m[18:10:03]\u001B[0m\u001B[2;36m \u001B[0m\u001B[32m Success: Submitting competition predictions\u001B[0m                                               \u001B]8;id=502586;file:///opt/homebrew/Caskroom/miniconda/base/envs/polaris/lib/python3.12/site-packages/polaris/utils/context.py\u001B\\\u001B[2mcontext.py\u001B[0m\u001B]8;;\u001B\\\u001B[2m:\u001B[0m\u001B]8;id=750374;file:///opt/homebrew/Caskroom/miniconda/base/envs/polaris/lib/python3.12/site-packages/polaris/utils/context.py#53\u001B\\\u001B[2m53\u001B[0m\u001B]8;;\u001B\\\n"
      ],
      "text/html": [
       "<pre style=\"white-space:pre;overflow-x:auto;line-height:normal;font-family:Menlo,'DejaVu Sans Mono',consolas,'Courier New',monospace\"><span style=\"color: #7fbfbf; text-decoration-color: #7fbfbf\">[18:10:03] </span><span style=\"color: #008000; text-decoration-color: #008000\"> Success: Submitting competition predictions</span>                                               <a href=\"file:///opt/homebrew/Caskroom/miniconda/base/envs/polaris/lib/python3.12/site-packages/polaris/utils/context.py\" target=\"_blank\"><span style=\"color: #7f7f7f; text-decoration-color: #7f7f7f\">context.py</span></a><span style=\"color: #7f7f7f; text-decoration-color: #7f7f7f\">:</span><a href=\"file:///opt/homebrew/Caskroom/miniconda/base/envs/polaris/lib/python3.12/site-packages/polaris/utils/context.py#53\" target=\"_blank\"><span style=\"color: #7f7f7f; text-decoration-color: #7f7f7f\">53</span></a>\n",
       "</pre>\n"
      ]
     },
     "metadata": {},
     "output_type": "display_data"
    },
    {
     "data": {
      "text/plain": [],
      "text/html": [
       "<pre style=\"white-space:pre;overflow-x:auto;line-height:normal;font-family:Menlo,'DejaVu Sans Mono',consolas,'Courier New',monospace\"></pre>\n"
      ]
     },
     "metadata": {},
     "output_type": "display_data"
    }
   ],
   "execution_count": 51
  }
 ],
 "metadata": {
  "kernelspec": {
   "name": "python3",
   "language": "python",
   "display_name": "Python 3 (ipykernel)"
  }
 },
 "nbformat": 5,
 "nbformat_minor": 9
}
