{
 "cells": [
  {
   "cell_type": "code",
   "execution_count": 1,
   "id": "ec29a51010da7819",
   "metadata": {
    "ExecuteTime": {
     "end_time": "2025-02-24T12:18:10.590440Z",
     "start_time": "2025-02-24T12:18:08.451770Z"
    }
   },
   "outputs": [],
   "source": [
    "import pandas as pd\n",
    "from sklearn.metrics import mean_absolute_error\n",
    "from src.polaris import Polaris\n",
    "from src.data import PolarisDataset\n",
    "from src.utils import scaffold_split\n",
    "from pathlib import Path\n",
    "import seaborn as sns\n",
    "import polaris as po\n",
    "import matplotlib.pyplot as plt\n",
    "# %load_ext autoreload\n",
    "# %autoreload 2\n",
    "\n",
    "# set seaborn theme\n",
    "sns.set_theme()"
   ]
  },
  {
   "cell_type": "markdown",
   "id": "eb158e4f4419b49d",
   "metadata": {},
   "source": [
    "# Data Evaluation"
   ]
  },
  {
   "cell_type": "markdown",
   "id": "4c2010dd4a04f3c9",
   "metadata": {},
   "source": [
    "## Potency"
   ]
  },
  {
   "cell_type": "markdown",
   "id": "c8797f9ba2ac0c6f",
   "metadata": {},
   "source": [
    "### Datasets\n",
    "\n",
    "Show label distribution for Train Polaris, Train Scaffold, Test Scaffold\n",
    "Also show number of duplicate entries\n",
    "\n"
   ]
  },
  {
   "cell_type": "code",
   "execution_count": null,
   "id": "e8ef60a0387b9558",
   "metadata": {},
   "outputs": [],
   "source": [
    "task = 'potency'\n",
    "target_task = 'pIC50 (MERS-CoV Mpro)'\n",
    "\n",
    "root = Path(\"./data\") / \"polaris\" / task\n",
    "train_polaris = PolarisDataset(root=root, task=task, target_task=target_task, train=True)\n",
    "test_polaris = PolarisDataset(root=root, task=task, target_task=target_task, train=False)\n",
    "train_scaffold, test_scaffold = scaffold_split(dataset=train_polaris, test_size=0.1)"
   ]
  },
  {
   "cell_type": "code",
   "execution_count": null,
   "id": "ec32e1770609628b",
   "metadata": {},
   "outputs": [],
   "source": [
    "train_plot = sns.displot(data=train_polaris.y, kde=True, legend=False)\n",
    "train_plot.set_xlabels(target_task)\n",
    "plt.title(\"Train Polaris\")\n",
    "sns.displot(data=train_scaffold.y, kde=True, legend=False).set_xlabels(target_task)\n",
    "plt.title(\"Train Scaffold\")\n",
    "sns.displot(data=test_scaffold.y, kde=True, legend=False).set_xlabels(target_task)\n",
    "plt.title(\"Test Scaffold\")"
   ]
  },
  {
   "cell_type": "markdown",
   "id": "a79777ea3ffde4d9",
   "metadata": {},
   "source": [
    "### Inference"
   ]
  },
  {
   "cell_type": "code",
   "execution_count": 2,
   "id": "f377a751f0817d09",
   "metadata": {
    "ExecuteTime": {
     "end_time": "2025-02-24T12:18:14.401606Z",
     "start_time": "2025-02-24T12:18:14.352731Z"
    }
   },
   "outputs": [
    {
     "data": {
      "application/vnd.microsoft.datawrangler.viewer.v0+json": {
       "columns": [
        {
         "name": "index",
         "rawType": "int64",
         "type": "integer"
        },
        {
         "name": "task",
         "rawType": "string",
         "type": "string"
        },
        {
         "name": "target_task",
         "rawType": "string",
         "type": "string"
        },
        {
         "name": "batch_size",
         "rawType": "Int64",
         "type": "integer"
        },
        {
         "name": "epochs",
         "rawType": "Int64",
         "type": "integer"
        },
        {
         "name": "lr",
         "rawType": "Float64",
         "type": "float"
        },
        {
         "name": "num_cv_folds",
         "rawType": "Int64",
         "type": "integer"
        },
        {
         "name": "num_cv_bins",
         "rawType": "Int64",
         "type": "integer"
        },
        {
         "name": "scaffold_split_val_sz",
         "rawType": "Float64",
         "type": "float"
        },
        {
         "name": "repr_model",
         "rawType": "string",
         "type": "string"
        },
        {
         "name": "in_channels",
         "rawType": "Int64",
         "type": "integer"
        },
        {
         "name": "hidden_channels",
         "rawType": "Int64",
         "type": "integer"
        },
        {
         "name": "out_channels",
         "rawType": "Int64",
         "type": "integer"
        },
        {
         "name": "num_layers",
         "rawType": "Int64",
         "type": "integer"
        },
        {
         "name": "dropout",
         "rawType": "Float64",
         "type": "float"
        },
        {
         "name": "proj_hidden_dim",
         "rawType": "Int64",
         "type": "integer"
        },
        {
         "name": "out_dim",
         "rawType": "Int64",
         "type": "integer"
        },
        {
         "name": "mean_val_loss",
         "rawType": "Float64",
         "type": "float"
        },
        {
         "name": "patience",
         "rawType": "Int64",
         "type": "integer"
        },
        {
         "name": "final_avg_epochs",
         "rawType": "Int64",
         "type": "integer"
        },
        {
         "name": "radius",
         "rawType": "Int64",
         "type": "integer"
        }
       ],
       "conversionMethod": "pd.DataFrame",
       "ref": "5314c799-7457-4e28-a44e-7b04741fa9b2",
       "rows": [
        [
         "0",
         "potency",
         "pIC50 (MERS-CoV Mpro)",
         "32",
         "500",
         "0.001",
         "5",
         "10",
         "0.1",
         "GIN",
         "9",
         "64",
         "64",
         "3",
         "0.1",
         "64",
         "1",
         "1.11545430123806",
         "5",
         "21",
         null
        ],
        [
         "1",
         "potency",
         "pIC50 (MERS-CoV Mpro)",
         "32",
         "500",
         "0.001",
         "5",
         "10",
         "0.1",
         "GAT",
         "9",
         "64",
         "64",
         "3",
         "0.1",
         "64",
         "1",
         "1.114392593006293",
         "5",
         "23",
         null
        ],
        [
         "2",
         "potency",
         "pIC50 (MERS-CoV Mpro)",
         "32",
         "500",
         "0.001",
         "5",
         "10",
         "0.1",
         "GCN",
         "9",
         "64",
         "64",
         "3",
         "0.1",
         "64",
         "1",
         "1.1246922712773084",
         "5",
         "17",
         null
        ],
        [
         "3",
         "potency",
         "pIC50 (MERS-CoV Mpro)",
         "32",
         "500",
         "0.001",
         "5",
         "10",
         "0.1",
         "GraphSAGE",
         "9",
         "64",
         "64",
         "3",
         "0.1",
         "64",
         "1",
         "1.1481495750447115",
         "5",
         "21",
         null
        ],
        [
         "4",
         "potency",
         "pIC50 (SARS-CoV-2 Mpro)",
         "32",
         "500",
         "0.001",
         "5",
         "10",
         "0.1",
         "GIN",
         "9",
         "64",
         "64",
         "3",
         "0.1",
         "64",
         "1",
         "0.9532950139045716",
         "5",
         "30",
         null
        ],
        [
         "5",
         "potency",
         "pIC50 (SARS-CoV-2 Mpro)",
         "32",
         "500",
         "0.001",
         "5",
         "10",
         "0.1",
         "GAT",
         "9",
         "64",
         "64",
         "3",
         "0.1",
         "64",
         "1",
         "1.1498140072822571",
         "5",
         "14",
         null
        ],
        [
         "6",
         "potency",
         "pIC50 (SARS-CoV-2 Mpro)",
         "32",
         "500",
         "0.001",
         "5",
         "10",
         "0.1",
         "GCN",
         "9",
         "64",
         "64",
         "3",
         "0.1",
         "64",
         "1",
         "1.0249009931087494",
         "5",
         "17",
         null
        ],
        [
         "7",
         "potency",
         "pIC50 (SARS-CoV-2 Mpro)",
         "32",
         "500",
         "0.001",
         "5",
         "10",
         "0.1",
         "GraphSAGE",
         "9",
         "64",
         "64",
         "3",
         "0.1",
         "64",
         "1",
         "1.1162458193302154",
         "5",
         "16",
         null
        ],
        [
         "8",
         "potency",
         "pIC50 (MERS-CoV Mpro)",
         "32",
         "500",
         "0.001",
         "5",
         "10",
         "0.1",
         "ECFP",
         null,
         null,
         "1024",
         null,
         null,
         "64",
         "1",
         "0.9219412015130122",
         "5",
         "10",
         "2"
        ],
        [
         "9",
         "potency",
         "pIC50 (SARS-CoV-2 Mpro)",
         "32",
         "500",
         "0.001",
         "5",
         "10",
         "0.1",
         "ECFP",
         null,
         null,
         "1024",
         null,
         null,
         "64",
         "1",
         "0.5339632189273834",
         "5",
         "18",
         "2"
        ]
       ],
       "shape": {
        "columns": 20,
        "rows": 10
       }
      },
      "text/html": [
       "<div>\n",
       "<style scoped>\n",
       "    .dataframe tbody tr th:only-of-type {\n",
       "        vertical-align: middle;\n",
       "    }\n",
       "\n",
       "    .dataframe tbody tr th {\n",
       "        vertical-align: top;\n",
       "    }\n",
       "\n",
       "    .dataframe thead th {\n",
       "        text-align: right;\n",
       "    }\n",
       "</style>\n",
       "<table border=\"1\" class=\"dataframe\">\n",
       "  <thead>\n",
       "    <tr style=\"text-align: right;\">\n",
       "      <th></th>\n",
       "      <th>task</th>\n",
       "      <th>target_task</th>\n",
       "      <th>batch_size</th>\n",
       "      <th>epochs</th>\n",
       "      <th>lr</th>\n",
       "      <th>num_cv_folds</th>\n",
       "      <th>num_cv_bins</th>\n",
       "      <th>scaffold_split_val_sz</th>\n",
       "      <th>repr_model</th>\n",
       "      <th>in_channels</th>\n",
       "      <th>hidden_channels</th>\n",
       "      <th>out_channels</th>\n",
       "      <th>num_layers</th>\n",
       "      <th>dropout</th>\n",
       "      <th>proj_hidden_dim</th>\n",
       "      <th>out_dim</th>\n",
       "      <th>mean_val_loss</th>\n",
       "      <th>patience</th>\n",
       "      <th>final_avg_epochs</th>\n",
       "      <th>radius</th>\n",
       "    </tr>\n",
       "  </thead>\n",
       "  <tbody>\n",
       "    <tr>\n",
       "      <th>0</th>\n",
       "      <td>potency</td>\n",
       "      <td>pIC50 (MERS-CoV Mpro)</td>\n",
       "      <td>32</td>\n",
       "      <td>500</td>\n",
       "      <td>0.001</td>\n",
       "      <td>5</td>\n",
       "      <td>10</td>\n",
       "      <td>0.1</td>\n",
       "      <td>GIN</td>\n",
       "      <td>9</td>\n",
       "      <td>64</td>\n",
       "      <td>64</td>\n",
       "      <td>3</td>\n",
       "      <td>0.1</td>\n",
       "      <td>64</td>\n",
       "      <td>1</td>\n",
       "      <td>1.115454</td>\n",
       "      <td>5</td>\n",
       "      <td>21</td>\n",
       "      <td>&lt;NA&gt;</td>\n",
       "    </tr>\n",
       "    <tr>\n",
       "      <th>1</th>\n",
       "      <td>potency</td>\n",
       "      <td>pIC50 (MERS-CoV Mpro)</td>\n",
       "      <td>32</td>\n",
       "      <td>500</td>\n",
       "      <td>0.001</td>\n",
       "      <td>5</td>\n",
       "      <td>10</td>\n",
       "      <td>0.1</td>\n",
       "      <td>GAT</td>\n",
       "      <td>9</td>\n",
       "      <td>64</td>\n",
       "      <td>64</td>\n",
       "      <td>3</td>\n",
       "      <td>0.1</td>\n",
       "      <td>64</td>\n",
       "      <td>1</td>\n",
       "      <td>1.114393</td>\n",
       "      <td>5</td>\n",
       "      <td>23</td>\n",
       "      <td>&lt;NA&gt;</td>\n",
       "    </tr>\n",
       "    <tr>\n",
       "      <th>2</th>\n",
       "      <td>potency</td>\n",
       "      <td>pIC50 (MERS-CoV Mpro)</td>\n",
       "      <td>32</td>\n",
       "      <td>500</td>\n",
       "      <td>0.001</td>\n",
       "      <td>5</td>\n",
       "      <td>10</td>\n",
       "      <td>0.1</td>\n",
       "      <td>GCN</td>\n",
       "      <td>9</td>\n",
       "      <td>64</td>\n",
       "      <td>64</td>\n",
       "      <td>3</td>\n",
       "      <td>0.1</td>\n",
       "      <td>64</td>\n",
       "      <td>1</td>\n",
       "      <td>1.124692</td>\n",
       "      <td>5</td>\n",
       "      <td>17</td>\n",
       "      <td>&lt;NA&gt;</td>\n",
       "    </tr>\n",
       "    <tr>\n",
       "      <th>3</th>\n",
       "      <td>potency</td>\n",
       "      <td>pIC50 (MERS-CoV Mpro)</td>\n",
       "      <td>32</td>\n",
       "      <td>500</td>\n",
       "      <td>0.001</td>\n",
       "      <td>5</td>\n",
       "      <td>10</td>\n",
       "      <td>0.1</td>\n",
       "      <td>GraphSAGE</td>\n",
       "      <td>9</td>\n",
       "      <td>64</td>\n",
       "      <td>64</td>\n",
       "      <td>3</td>\n",
       "      <td>0.1</td>\n",
       "      <td>64</td>\n",
       "      <td>1</td>\n",
       "      <td>1.14815</td>\n",
       "      <td>5</td>\n",
       "      <td>21</td>\n",
       "      <td>&lt;NA&gt;</td>\n",
       "    </tr>\n",
       "    <tr>\n",
       "      <th>4</th>\n",
       "      <td>potency</td>\n",
       "      <td>pIC50 (SARS-CoV-2 Mpro)</td>\n",
       "      <td>32</td>\n",
       "      <td>500</td>\n",
       "      <td>0.001</td>\n",
       "      <td>5</td>\n",
       "      <td>10</td>\n",
       "      <td>0.1</td>\n",
       "      <td>GIN</td>\n",
       "      <td>9</td>\n",
       "      <td>64</td>\n",
       "      <td>64</td>\n",
       "      <td>3</td>\n",
       "      <td>0.1</td>\n",
       "      <td>64</td>\n",
       "      <td>1</td>\n",
       "      <td>0.953295</td>\n",
       "      <td>5</td>\n",
       "      <td>30</td>\n",
       "      <td>&lt;NA&gt;</td>\n",
       "    </tr>\n",
       "    <tr>\n",
       "      <th>5</th>\n",
       "      <td>potency</td>\n",
       "      <td>pIC50 (SARS-CoV-2 Mpro)</td>\n",
       "      <td>32</td>\n",
       "      <td>500</td>\n",
       "      <td>0.001</td>\n",
       "      <td>5</td>\n",
       "      <td>10</td>\n",
       "      <td>0.1</td>\n",
       "      <td>GAT</td>\n",
       "      <td>9</td>\n",
       "      <td>64</td>\n",
       "      <td>64</td>\n",
       "      <td>3</td>\n",
       "      <td>0.1</td>\n",
       "      <td>64</td>\n",
       "      <td>1</td>\n",
       "      <td>1.149814</td>\n",
       "      <td>5</td>\n",
       "      <td>14</td>\n",
       "      <td>&lt;NA&gt;</td>\n",
       "    </tr>\n",
       "    <tr>\n",
       "      <th>6</th>\n",
       "      <td>potency</td>\n",
       "      <td>pIC50 (SARS-CoV-2 Mpro)</td>\n",
       "      <td>32</td>\n",
       "      <td>500</td>\n",
       "      <td>0.001</td>\n",
       "      <td>5</td>\n",
       "      <td>10</td>\n",
       "      <td>0.1</td>\n",
       "      <td>GCN</td>\n",
       "      <td>9</td>\n",
       "      <td>64</td>\n",
       "      <td>64</td>\n",
       "      <td>3</td>\n",
       "      <td>0.1</td>\n",
       "      <td>64</td>\n",
       "      <td>1</td>\n",
       "      <td>1.024901</td>\n",
       "      <td>5</td>\n",
       "      <td>17</td>\n",
       "      <td>&lt;NA&gt;</td>\n",
       "    </tr>\n",
       "    <tr>\n",
       "      <th>7</th>\n",
       "      <td>potency</td>\n",
       "      <td>pIC50 (SARS-CoV-2 Mpro)</td>\n",
       "      <td>32</td>\n",
       "      <td>500</td>\n",
       "      <td>0.001</td>\n",
       "      <td>5</td>\n",
       "      <td>10</td>\n",
       "      <td>0.1</td>\n",
       "      <td>GraphSAGE</td>\n",
       "      <td>9</td>\n",
       "      <td>64</td>\n",
       "      <td>64</td>\n",
       "      <td>3</td>\n",
       "      <td>0.1</td>\n",
       "      <td>64</td>\n",
       "      <td>1</td>\n",
       "      <td>1.116246</td>\n",
       "      <td>5</td>\n",
       "      <td>16</td>\n",
       "      <td>&lt;NA&gt;</td>\n",
       "    </tr>\n",
       "    <tr>\n",
       "      <th>8</th>\n",
       "      <td>potency</td>\n",
       "      <td>pIC50 (MERS-CoV Mpro)</td>\n",
       "      <td>32</td>\n",
       "      <td>500</td>\n",
       "      <td>0.001</td>\n",
       "      <td>5</td>\n",
       "      <td>10</td>\n",
       "      <td>0.1</td>\n",
       "      <td>ECFP</td>\n",
       "      <td>&lt;NA&gt;</td>\n",
       "      <td>&lt;NA&gt;</td>\n",
       "      <td>1024</td>\n",
       "      <td>&lt;NA&gt;</td>\n",
       "      <td>&lt;NA&gt;</td>\n",
       "      <td>64</td>\n",
       "      <td>1</td>\n",
       "      <td>0.921941</td>\n",
       "      <td>5</td>\n",
       "      <td>10</td>\n",
       "      <td>2</td>\n",
       "    </tr>\n",
       "    <tr>\n",
       "      <th>9</th>\n",
       "      <td>potency</td>\n",
       "      <td>pIC50 (SARS-CoV-2 Mpro)</td>\n",
       "      <td>32</td>\n",
       "      <td>500</td>\n",
       "      <td>0.001</td>\n",
       "      <td>5</td>\n",
       "      <td>10</td>\n",
       "      <td>0.1</td>\n",
       "      <td>ECFP</td>\n",
       "      <td>&lt;NA&gt;</td>\n",
       "      <td>&lt;NA&gt;</td>\n",
       "      <td>1024</td>\n",
       "      <td>&lt;NA&gt;</td>\n",
       "      <td>&lt;NA&gt;</td>\n",
       "      <td>64</td>\n",
       "      <td>1</td>\n",
       "      <td>0.533963</td>\n",
       "      <td>5</td>\n",
       "      <td>18</td>\n",
       "      <td>2</td>\n",
       "    </tr>\n",
       "  </tbody>\n",
       "</table>\n",
       "</div>"
      ],
      "text/plain": [
       "      task              target_task  batch_size  epochs     lr  num_cv_folds  \\\n",
       "0  potency    pIC50 (MERS-CoV Mpro)          32     500  0.001             5   \n",
       "1  potency    pIC50 (MERS-CoV Mpro)          32     500  0.001             5   \n",
       "2  potency    pIC50 (MERS-CoV Mpro)          32     500  0.001             5   \n",
       "3  potency    pIC50 (MERS-CoV Mpro)          32     500  0.001             5   \n",
       "4  potency  pIC50 (SARS-CoV-2 Mpro)          32     500  0.001             5   \n",
       "5  potency  pIC50 (SARS-CoV-2 Mpro)          32     500  0.001             5   \n",
       "6  potency  pIC50 (SARS-CoV-2 Mpro)          32     500  0.001             5   \n",
       "7  potency  pIC50 (SARS-CoV-2 Mpro)          32     500  0.001             5   \n",
       "8  potency    pIC50 (MERS-CoV Mpro)          32     500  0.001             5   \n",
       "9  potency  pIC50 (SARS-CoV-2 Mpro)          32     500  0.001             5   \n",
       "\n",
       "   num_cv_bins  scaffold_split_val_sz repr_model  in_channels  \\\n",
       "0           10                    0.1        GIN            9   \n",
       "1           10                    0.1        GAT            9   \n",
       "2           10                    0.1        GCN            9   \n",
       "3           10                    0.1  GraphSAGE            9   \n",
       "4           10                    0.1        GIN            9   \n",
       "5           10                    0.1        GAT            9   \n",
       "6           10                    0.1        GCN            9   \n",
       "7           10                    0.1  GraphSAGE            9   \n",
       "8           10                    0.1       ECFP         <NA>   \n",
       "9           10                    0.1       ECFP         <NA>   \n",
       "\n",
       "   hidden_channels  out_channels  num_layers  dropout  proj_hidden_dim  \\\n",
       "0               64            64           3      0.1               64   \n",
       "1               64            64           3      0.1               64   \n",
       "2               64            64           3      0.1               64   \n",
       "3               64            64           3      0.1               64   \n",
       "4               64            64           3      0.1               64   \n",
       "5               64            64           3      0.1               64   \n",
       "6               64            64           3      0.1               64   \n",
       "7               64            64           3      0.1               64   \n",
       "8             <NA>          1024        <NA>     <NA>               64   \n",
       "9             <NA>          1024        <NA>     <NA>               64   \n",
       "\n",
       "   out_dim  mean_val_loss  patience  final_avg_epochs  radius  \n",
       "0        1       1.115454         5                21    <NA>  \n",
       "1        1       1.114393         5                23    <NA>  \n",
       "2        1       1.124692         5                17    <NA>  \n",
       "3        1        1.14815         5                21    <NA>  \n",
       "4        1       0.953295         5                30    <NA>  \n",
       "5        1       1.149814         5                14    <NA>  \n",
       "6        1       1.024901         5                17    <NA>  \n",
       "7        1       1.116246         5                16    <NA>  \n",
       "8        1       0.921941         5                10       2  \n",
       "9        1       0.533963         5                18       2  "
      ]
     },
     "execution_count": 2,
     "metadata": {},
     "output_type": "execute_result"
    }
   ],
   "source": [
    "# Combine results of gnn and ecfp\n",
    "df_potency_gnn = pd.read_csv(\"./results/potency_gnn_results.csv\")\n",
    "df_potency_ecfp = pd.read_csv(\"./results/potency_ecfp_results.csv\")\n",
    "df_potency = pd.concat([df_potency_gnn, df_potency_ecfp]).reset_index(drop=True)\n",
    "df_potency = df_potency.convert_dtypes()\n",
    "df_potency"
   ]
  },
  {
   "cell_type": "code",
   "execution_count": null,
   "id": "f21c021bf8ca1b7e",
   "metadata": {
    "ExecuteTime": {
     "end_time": "2025-02-24T12:18:15.849175Z",
     "start_time": "2025-02-24T12:18:15.819745Z"
    }
   },
   "outputs": [],
   "source": [
    "# Group by target_task and find the row with minimum mean_val_loss for each group\n",
    "best_models_potency = df_potency.loc[df_potency.groupby(['target_task', 'repr_model'])['mean_val_loss'].idxmin()].reset_index(drop=True)\n",
    "best_models_potency_list = best_models_potency.to_dict('records')\n",
    "best_models_potency_list"
   ]
  },
  {
   "cell_type": "code",
   "execution_count": null,
   "id": "d48fb11e99dc1a95",
   "metadata": {
    "ExecuteTime": {
     "end_time": "2025-02-24T12:20:24.515427Z",
     "start_time": "2025-02-24T12:18:17.910026Z"
    }
   },
   "outputs": [],
   "source": [
    "# Iterate over each model, then\n",
    "# 1. Train model on train_scaffold.\n",
    "# 2. Make predictions on test_scaffold\n",
    "# 3. Predict MAE\n",
    "\n",
    "test_scaffold_potency_preds = {}\n",
    "\n",
    "for model in best_models_potency_list:\n",
    "  target_task = model['target_task']\n",
    "  polaris = Polaris(params=model)\n",
    "  polaris.train_final(polaris.train_scaffold)\n",
    "  preds = polaris.predict(polaris.test_scaffold)\n",
    "  preds = [pred[1] for pred in preds]\n",
    "  mae = mean_absolute_error(preds, polaris.test_scaffold.y)\n",
    "  print(mae)\n",
    "  d = {model['repr_model']: mae}\n",
    "  test_scaffold_potency_preds.setdefault(target_task, {}).update(d)\n",
    "\n",
    "test_scaffold_potency_preds"
   ]
  },
  {
   "cell_type": "code",
   "execution_count": 5,
   "id": "68599663b86d9250",
   "metadata": {
    "ExecuteTime": {
     "end_time": "2025-02-24T12:21:11.714327Z",
     "start_time": "2025-02-24T12:21:11.518405Z"
    }
   },
   "outputs": [
    {
     "data": {
      "image/png": "[encoded data removed]",
      "text/plain": [
       "<Figure size 988.125x500 with 1 Axes>"
      ]
     },
     "metadata": {},
     "output_type": "display_data"
    }
   ],
   "source": [
    "# Create a histogram of MAE for each target_task and model\n",
    "df_potency_hist = pd.DataFrame(test_scaffold_potency_preds)\n",
    "df_potency_hist = df_potency_hist.reset_index().melt(id_vars=\"index\", var_name=\"target_task\", value_name=\"mean_average_error\")\n",
    "df_potency_hist.rename(columns={\"index\": \"model\"}, inplace=True)\n",
    "g = sns.catplot(\n",
    "    data=df_potency_hist,\n",
    "    kind=\"bar\",\n",
    "    x=\"model\",\n",
    "    y=\"mean_average_error\",\n",
    "    hue=\"target_task\",\n",
    "    aspect=1.5,\n",
    ")"
   ]
  },
  {
   "cell_type": "markdown",
   "id": "4c99528b",
   "metadata": {},
   "source": [
    "### Analysis"
   ]
  },
  {
   "cell_type": "code",
   "execution_count": null,
   "id": "e443cd0ba4c4e376",
   "metadata": {},
   "outputs": [],
   "source": [
    "# Plot y_true, y_pred for best performing model (maybe even in plotly?)"
   ]
  },
  {
   "cell_type": "markdown",
   "id": "6408b675",
   "metadata": {},
   "source": [
    "### Submission"
   ]
  },
  {
   "cell_type": "code",
   "execution_count": 6,
   "id": "d8026131",
   "metadata": {},
   "outputs": [
    {
     "name": "stderr",
     "output_type": "stream",
     "text": [
      "Processing...\n",
      "Done!\n",
      "Processing...\n",
      "Done!\n",
      "100%|██████████| 10/10 [00:20<00:00,  2.03s/it]\n",
      "Processing...\n",
      "Done!\n",
      "Processing...\n",
      "Done!\n",
      "100%|██████████| 18/18 [00:34<00:00,  1.93s/it]\n"
     ]
    }
   ],
   "source": [
    "# Pick best model for each task\n",
    "# TODO: Write a function for this\n",
    "potency_submission_models_list = [best_models_potency_list[0], best_models_potency_list[5]]\n",
    "\n",
    "y_pred = {}\n",
    "for model in potency_submission_models_list:\n",
    "\ttarget_task = model[\"target_task\"]\n",
    "\tpolaris = Polaris(model)\n",
    "\tpolaris.train_final(polaris.train_polaris)\n",
    "\tpreds = polaris.predict(polaris.test_polaris)\n",
    "\ty_pred[target_task] = preds\n",
    "\n",
    "y_submission = {}\n",
    "for k, v in y_pred.items():\n",
    "\ty_submission[k] = [tup[1] for tup in v]"
   ]
  },
  {
   "cell_type": "code",
   "execution_count": 7,
   "id": "417e12bf",
   "metadata": {},
   "outputs": [
    {
     "data": {
      "text/html": [
       "<pre style=\"white-space:pre;overflow-x:auto;line-height:normal;font-family:Menlo,'DejaVu Sans Mono',consolas,'Courier New',monospace\"><span style=\"color: #7fbfbf; text-decoration-color: #7fbfbf\">[2025-03-06 18:21:08] </span><span style=\"color: #000080; text-decoration-color: #000080\">INFO    </span> The version of Polaris that was used to create the artifact <span style=\"font-weight: bold\">(</span><span style=\"color: #008080; text-decoration-color: #008080; font-weight: bold\">0.11</span>.<span style=\"color: #008080; text-decoration-color: #008080; font-weight: bold\">0</span><span style=\"font-weight: bold\">)</span> <a href=\"file:///opt/homebrew/Caskroom/miniconda/base/envs/polaris/lib/python3.12/site-packages/polaris/_artifact.py\" target=\"_blank\"><span style=\"color: #7f7f7f; text-decoration-color: #7f7f7f\">_artifact.py</span></a><span style=\"color: #7f7f7f; text-decoration-color: #7f7f7f\">:</span><a href=\"file:///opt/homebrew/Caskroom/miniconda/base/envs/polaris/lib/python3.12/site-packages/polaris/_artifact.py#92\" target=\"_blank\"><span style=\"color: #7f7f7f; text-decoration-color: #7f7f7f\">92</span></a>\n",
       "<span style=\"color: #7fbfbf; text-decoration-color: #7fbfbf\">                      </span>         is different from the currently installed version of Polaris         <span style=\"color: #7f7f7f; text-decoration-color: #7f7f7f\">               </span>\n",
       "<span style=\"color: #7fbfbf; text-decoration-color: #7fbfbf\">                      </span>         <span style=\"font-weight: bold\">(</span><span style=\"color: #008080; text-decoration-color: #008080; font-weight: bold\">0.11</span>.<span style=\"color: #008080; text-decoration-color: #008080; font-weight: bold\">7</span><span style=\"font-weight: bold\">)</span>.                                                            <span style=\"color: #7f7f7f; text-decoration-color: #7f7f7f\">               </span>\n",
       "</pre>\n"
      ],
      "text/plain": [
       "\u001b[2;36m[2025-03-06 18:21:08]\u001b[0m\u001b[2;36m \u001b[0m\u001b[34mINFO    \u001b[0m The version of Polaris that was used to create the artifact \u001b[1m(\u001b[0m\u001b[1;36m0.11\u001b[0m.\u001b[1;36m0\u001b[0m\u001b[1m)\u001b[0m \u001b]8;id=982095;file:///opt/homebrew/Caskroom/miniconda/base/envs/polaris/lib/python3.12/site-packages/polaris/_artifact.py\u001b\\\u001b[2m_artifact.py\u001b[0m\u001b]8;;\u001b\\\u001b[2m:\u001b[0m\u001b]8;id=836503;file:///opt/homebrew/Caskroom/miniconda/base/envs/polaris/lib/python3.12/site-packages/polaris/_artifact.py#92\u001b\\\u001b[2m92\u001b[0m\u001b]8;;\u001b\\\n",
       "\u001b[2;36m                      \u001b[0m         is different from the currently installed version of Polaris         \u001b[2m               \u001b[0m\n",
       "\u001b[2;36m                      \u001b[0m         \u001b[1m(\u001b[0m\u001b[1;36m0.11\u001b[0m.\u001b[1;36m7\u001b[0m\u001b[1m)\u001b[0m.                                                            \u001b[2m               \u001b[0m\n"
      ]
     },
     "metadata": {},
     "output_type": "display_data"
    },
    {
     "data": {
      "text/html": [
       "<pre style=\"white-space:pre;overflow-x:auto;line-height:normal;font-family:Menlo,'DejaVu Sans Mono',consolas,'Courier New',monospace\"><span style=\"color: #7fbfbf; text-decoration-color: #7fbfbf\">                      </span><span style=\"color: #808000; text-decoration-color: #808000\">WARNING </span> You're loading data from a remote location. If the dataset is small     <a href=\"file:///opt/homebrew/Caskroom/miniconda/base/envs/polaris/lib/python3.12/site-packages/polaris/dataset/_base.py\" target=\"_blank\"><span style=\"color: #7f7f7f; text-decoration-color: #7f7f7f\">_base.py</span></a><span style=\"color: #7f7f7f; text-decoration-color: #7f7f7f\">:</span><a href=\"file:///opt/homebrew/Caskroom/miniconda/base/envs/polaris/lib/python3.12/site-packages/polaris/dataset/_base.py#182\" target=\"_blank\"><span style=\"color: #7f7f7f; text-decoration-color: #7f7f7f\">182</span></a>\n",
       "<span style=\"color: #7fbfbf; text-decoration-color: #7fbfbf\">                      </span>         enough, consider caching the dataset first using                        <span style=\"color: #7f7f7f; text-decoration-color: #7f7f7f\">            </span>\n",
       "<span style=\"color: #7fbfbf; text-decoration-color: #7fbfbf\">                      </span>         <span style=\"color: #800080; text-decoration-color: #800080; font-weight: bold\">CompetitionSpecification.cache</span><span style=\"font-weight: bold\">()</span> for more performant data access.       <span style=\"color: #7f7f7f; text-decoration-color: #7f7f7f\">            </span>\n",
       "</pre>\n"
      ],
      "text/plain": [
       "\u001b[2;36m                     \u001b[0m\u001b[2;36m \u001b[0m\u001b[33mWARNING \u001b[0m You're loading data from a remote location. If the dataset is small     \u001b]8;id=153482;file:///opt/homebrew/Caskroom/miniconda/base/envs/polaris/lib/python3.12/site-packages/polaris/dataset/_base.py\u001b\\\u001b[2m_base.py\u001b[0m\u001b]8;;\u001b\\\u001b[2m:\u001b[0m\u001b]8;id=352863;file:///opt/homebrew/Caskroom/miniconda/base/envs/polaris/lib/python3.12/site-packages/polaris/dataset/_base.py#182\u001b\\\u001b[2m182\u001b[0m\u001b]8;;\u001b\\\n",
       "\u001b[2;36m                      \u001b[0m         enough, consider caching the dataset first using                        \u001b[2m            \u001b[0m\n",
       "\u001b[2;36m                      \u001b[0m         \u001b[1;35mCompetitionSpecification.cache\u001b[0m\u001b[1m(\u001b[0m\u001b[1m)\u001b[0m for more performant data access.       \u001b[2m            \u001b[0m\n"
      ]
     },
     "metadata": {},
     "output_type": "display_data"
    },
    {
     "data": {
      "application/vnd.jupyter.widget-view+json": {
       "model_id": "f8bf50530c854e6ca0fc59f47397fb69",
       "version_major": 2,
       "version_minor": 0
      },
      "text/plain": [
       "Output()"
      ]
     },
     "metadata": {},
     "output_type": "display_data"
    },
    {
     "data": {
      "text/html": [
       "<pre style=\"white-space:pre;overflow-x:auto;line-height:normal;font-family:Menlo,'DejaVu Sans Mono',consolas,'Courier New',monospace\"><span style=\"color: #7fbfbf; text-decoration-color: #7fbfbf\">[18:21:09] </span><span style=\"color: #008000; text-decoration-color: #008000\"> Success: Submitting competition predictions</span>                                               <a href=\"file:///opt/homebrew/Caskroom/miniconda/base/envs/polaris/lib/python3.12/site-packages/polaris/utils/context.py\" target=\"_blank\"><span style=\"color: #7f7f7f; text-decoration-color: #7f7f7f\">context.py</span></a><span style=\"color: #7f7f7f; text-decoration-color: #7f7f7f\">:</span><a href=\"file:///opt/homebrew/Caskroom/miniconda/base/envs/polaris/lib/python3.12/site-packages/polaris/utils/context.py#53\" target=\"_blank\"><span style=\"color: #7f7f7f; text-decoration-color: #7f7f7f\">53</span></a>\n",
       "</pre>\n"
      ],
      "text/plain": [
       "\u001b[2;36m[18:21:09]\u001b[0m\u001b[2;36m \u001b[0m\u001b[32m Success: Submitting competition predictions\u001b[0m                                               \u001b]8;id=593644;file:///opt/homebrew/Caskroom/miniconda/base/envs/polaris/lib/python3.12/site-packages/polaris/utils/context.py\u001b\\\u001b[2mcontext.py\u001b[0m\u001b]8;;\u001b\\\u001b[2m:\u001b[0m\u001b]8;id=811655;file:///opt/homebrew/Caskroom/miniconda/base/envs/polaris/lib/python3.12/site-packages/polaris/utils/context.py#53\u001b\\\u001b[2m53\u001b[0m\u001b]8;;\u001b\\\n"
      ]
     },
     "metadata": {},
     "output_type": "display_data"
    },
    {
     "data": {
      "text/html": [
       "<pre style=\"white-space:pre;overflow-x:auto;line-height:normal;font-family:Menlo,'DejaVu Sans Mono',consolas,'Courier New',monospace\"></pre>\n"
      ],
      "text/plain": []
     },
     "metadata": {},
     "output_type": "display_data"
    }
   ],
   "source": [
    "# Submit results\n",
    "competition = po.load_competition(\"asap-discovery/antiviral-potency-2025\")\n",
    "\n",
    "competition.submit_predictions(\n",
    "    predictions = y_submission,\n",
    "    prediction_name = \"test_2\",\n",
    "    prediction_owner = \"aehrlich\",\n",
    "    report_url = \"https://www.example.com\",\n",
    "    description = \"Second submission\"\n",
    ")"
   ]
  },
  {
   "cell_type": "markdown",
   "id": "7dd6afc07dcb9391",
   "metadata": {},
   "source": [
    "## Admet"
   ]
  },
  {
   "cell_type": "markdown",
   "id": "179cce131fd96020",
   "metadata": {},
   "source": [
    "### Datasets"
   ]
  },
  {
   "cell_type": "code",
   "execution_count": 2,
   "id": "475981d0c2a9db1e",
   "metadata": {
    "ExecuteTime": {
     "end_time": "2025-02-24T11:11:10.983702Z",
     "start_time": "2025-02-24T11:11:10.792976Z"
    }
   },
   "outputs": [
    {
     "name": "stderr",
     "output_type": "stream",
     "text": [
      "Processing...\n",
      "Done!\n",
      "Processing...\n",
      "Done!\n"
     ]
    }
   ],
   "source": [
    "task = 'admet'\n",
    "target_task = 'MDR1-MDCKII'\n",
    "\n",
    "root = Path(\"./data\") / \"polaris\" / task\n",
    "train_polaris = PolarisDataset(root=root, task=task, target_task=target_task, train=True)\n",
    "test_polaris = PolarisDataset(root=root, task=task, target_task=target_task, train=False)\n",
    "train_scaffold, test_scaffold = scaffold_split(dataset=train_polaris, test_size=0.1)"
   ]
  },
  {
   "cell_type": "code",
   "execution_count": 3,
   "id": "14a53ef3d91477a0",
   "metadata": {
    "ExecuteTime": {
     "end_time": "2025-02-24T11:11:11.395137Z",
     "start_time": "2025-02-24T11:11:11.138212Z"
    }
   },
   "outputs": [
    {
     "data": {
      "text/plain": [
       "<seaborn.axisgrid.FacetGrid at 0x32bd28470>"
      ]
     },
     "execution_count": 3,
     "metadata": {},
     "output_type": "execute_result"
    },
    {
     "data": {
      "image/png": "[encoded data removed]",
      "text/plain": [
       "<Figure size 500x500 with 1 Axes>"
      ]
     },
     "metadata": {},
     "output_type": "display_data"
    },
    {
     "data": {
      "image/png": "[encoded data removed]",
      "text/plain": [
       "<Figure size 500x500 with 1 Axes>"
      ]
     },
     "metadata": {},
     "output_type": "display_data"
    },
    {
     "data": {
      "image/png": "[encoded data removed]",
      "text/plain": [
       "<Figure size 500x500 with 1 Axes>"
      ]
     },
     "metadata": {},
     "output_type": "display_data"
    }
   ],
   "source": [
    "sns.displot(data=train_polaris.y, kde=True, legend=False).set_xlabels(target_task)\n",
    "sns.displot(data=train_scaffold.y, kde=True, legend=False).set_xlabels(target_task)\n",
    "sns.displot(data=test_scaffold.y, kde=True, legend=False).set_xlabels(target_task)"
   ]
  },
  {
   "cell_type": "markdown",
   "id": "6a22b28389782ac",
   "metadata": {},
   "source": [
    "### Inference"
   ]
  },
  {
   "cell_type": "code",
   "execution_count": 4,
   "id": "eb6e0e45bee3a96f",
   "metadata": {},
   "outputs": [
    {
     "data": {
      "application/vnd.microsoft.datawrangler.viewer.v0+json": {
       "columns": [
        {
         "name": "index",
         "rawType": "int64",
         "type": "integer"
        },
        {
         "name": "task",
         "rawType": "string",
         "type": "string"
        },
        {
         "name": "target_task",
         "rawType": "string",
         "type": "string"
        },
        {
         "name": "batch_size",
         "rawType": "Int64",
         "type": "integer"
        },
        {
         "name": "epochs",
         "rawType": "Int64",
         "type": "integer"
        },
        {
         "name": "lr",
         "rawType": "Float64",
         "type": "float"
        },
        {
         "name": "num_cv_folds",
         "rawType": "Int64",
         "type": "integer"
        },
        {
         "name": "num_cv_bins",
         "rawType": "Int64",
         "type": "integer"
        },
        {
         "name": "scaffold_split_val_sz",
         "rawType": "Float64",
         "type": "float"
        },
        {
         "name": "repr_model",
         "rawType": "string",
         "type": "string"
        },
        {
         "name": "in_channels",
         "rawType": "Int64",
         "type": "integer"
        },
        {
         "name": "hidden_channels",
         "rawType": "Int64",
         "type": "integer"
        },
        {
         "name": "out_channels",
         "rawType": "Int64",
         "type": "integer"
        },
        {
         "name": "num_layers",
         "rawType": "Int64",
         "type": "integer"
        },
        {
         "name": "dropout",
         "rawType": "Float64",
         "type": "float"
        },
        {
         "name": "proj_hidden_dim",
         "rawType": "Int64",
         "type": "integer"
        },
        {
         "name": "out_dim",
         "rawType": "Int64",
         "type": "integer"
        },
        {
         "name": "mean_val_loss",
         "rawType": "Float64",
         "type": "float"
        },
        {
         "name": "patience",
         "rawType": "Int64",
         "type": "integer"
        },
        {
         "name": "final_avg_epochs",
         "rawType": "Int64",
         "type": "integer"
        },
        {
         "name": "radius",
         "rawType": "Int64",
         "type": "integer"
        }
       ],
       "conversionMethod": "pd.DataFrame",
       "ref": "b3c60877-d938-4038-8455-3a97173329a6",
       "rows": [
        [
         "0",
         "admet",
         "MLM",
         "32",
         "500",
         "0.001",
         "5",
         "10",
         "0.1",
         "GIN",
         "9",
         "32",
         "64",
         "3",
         "0.1",
         "64",
         "1",
         "0.4473289042711258",
         "5",
         "11",
         null
        ],
        [
         "1",
         "admet",
         "MLM",
         "32",
         "500",
         "0.001",
         "5",
         "10",
         "0.1",
         "GCN",
         "9",
         "32",
         "64",
         "3",
         "0.1",
         "64",
         "1",
         "0.4679200232028961",
         "5",
         "12",
         null
        ],
        [
         "2",
         "admet",
         "MLM",
         "32",
         "500",
         "0.001",
         "5",
         "10",
         "0.1",
         "GAT",
         "9",
         "32",
         "64",
         "3",
         "0.1",
         "64",
         "1",
         "0.4738637298345566",
         "5",
         "11",
         null
        ],
        [
         "3",
         "admet",
         "MLM",
         "32",
         "500",
         "0.001",
         "5",
         "10",
         "0.1",
         "GraphSAGE",
         "9",
         "32",
         "64",
         "3",
         "0.1",
         "64",
         "1",
         "0.4754016369581222",
         "5",
         "11",
         null
        ],
        [
         "4",
         "admet",
         "HLM",
         "32",
         "500",
         "0.001",
         "5",
         "10",
         "0.1",
         "GIN",
         "9",
         "32",
         "64",
         "3",
         "0.1",
         "64",
         "1",
         "0.3303558990359306",
         "5",
         "11",
         null
        ],
        [
         "5",
         "admet",
         "HLM",
         "32",
         "500",
         "0.001",
         "5",
         "10",
         "0.1",
         "GCN",
         "9",
         "32",
         "64",
         "3",
         "0.1",
         "64",
         "1",
         "0.3451773077249527",
         "5",
         "16",
         null
        ],
        [
         "6",
         "admet",
         "HLM",
         "32",
         "500",
         "0.001",
         "5",
         "10",
         "0.1",
         "GAT",
         "9",
         "32",
         "64",
         "3",
         "0.1",
         "64",
         "1",
         "0.3455815181136131",
         "5",
         "13",
         null
        ],
        [
         "7",
         "admet",
         "HLM",
         "32",
         "500",
         "0.001",
         "5",
         "10",
         "0.1",
         "GraphSAGE",
         "9",
         "32",
         "64",
         "3",
         "0.1",
         "64",
         "1",
         "0.3411123484373092",
         "5",
         "17",
         null
        ],
        [
         "8",
         "admet",
         "KSOL",
         "32",
         "500",
         "0.001",
         "5",
         "10",
         "0.1",
         "GIN",
         "9",
         "32",
         "64",
         "3",
         "0.1",
         "64",
         "1",
         "0.5336209843556087",
         "5",
         "9",
         null
        ],
        [
         "9",
         "admet",
         "KSOL",
         "32",
         "500",
         "0.001",
         "5",
         "10",
         "0.1",
         "GCN",
         "9",
         "32",
         "64",
         "3",
         "0.1",
         "64",
         "1",
         "0.5655319770177206",
         "5",
         "8",
         null
        ],
        [
         "10",
         "admet",
         "KSOL",
         "32",
         "500",
         "0.001",
         "5",
         "10",
         "0.1",
         "GAT",
         "9",
         "32",
         "64",
         "3",
         "0.1",
         "64",
         "1",
         "0.5743420739968618",
         "5",
         "10",
         null
        ],
        [
         "11",
         "admet",
         "KSOL",
         "32",
         "500",
         "0.001",
         "5",
         "10",
         "0.1",
         "GraphSAGE",
         "9",
         "32",
         "64",
         "3",
         "0.1",
         "64",
         "1",
         "0.5826363941033681",
         "5",
         "9",
         null
        ],
        [
         "12",
         "admet",
         "LogD",
         "32",
         "500",
         "0.001",
         "5",
         "10",
         "0.1",
         "GIN",
         "9",
         "32",
         "64",
         "3",
         "0.1",
         "64",
         "1",
         "1.2502939224243164",
         "5",
         "26",
         null
        ],
        [
         "13",
         "admet",
         "LogD",
         "32",
         "500",
         "0.001",
         "5",
         "10",
         "0.1",
         "GCN",
         "9",
         "32",
         "64",
         "3",
         "0.1",
         "64",
         "1",
         "1.3476054847240448",
         "5",
         "17",
         null
        ],
        [
         "14",
         "admet",
         "LogD",
         "32",
         "500",
         "0.001",
         "5",
         "10",
         "0.1",
         "GAT",
         "9",
         "32",
         "64",
         "3",
         "0.1",
         "64",
         "1",
         "1.1942528069019318",
         "5",
         "41",
         null
        ],
        [
         "15",
         "admet",
         "LogD",
         "32",
         "500",
         "0.001",
         "5",
         "10",
         "0.1",
         "GraphSAGE",
         "9",
         "32",
         "64",
         "3",
         "0.1",
         "64",
         "1",
         "1.0872693300247191",
         "5",
         "32",
         null
        ],
        [
         "16",
         "admet",
         "MDR1-MDCKII",
         "32",
         "500",
         "0.001",
         "5",
         "10",
         "0.1",
         "GIN",
         "9",
         "32",
         "64",
         "3",
         "0.1",
         "64",
         "1",
         "0.3432825222611427",
         "5",
         "18",
         null
        ],
        [
         "17",
         "admet",
         "MDR1-MDCKII",
         "32",
         "500",
         "0.001",
         "5",
         "10",
         "0.1",
         "GCN",
         "9",
         "32",
         "64",
         "3",
         "0.1",
         "64",
         "1",
         "0.3748535007238388",
         "5",
         "9",
         null
        ],
        [
         "18",
         "admet",
         "MDR1-MDCKII",
         "32",
         "500",
         "0.001",
         "5",
         "10",
         "0.1",
         "GAT",
         "9",
         "32",
         "64",
         "3",
         "0.1",
         "64",
         "1",
         "0.3455269371469815",
         "5",
         "37",
         null
        ],
        [
         "19",
         "admet",
         "MDR1-MDCKII",
         "32",
         "500",
         "0.001",
         "5",
         "10",
         "0.1",
         "GraphSAGE",
         "9",
         "32",
         "64",
         "3",
         "0.1",
         "64",
         "1",
         "0.3403611198067665",
         "5",
         "25",
         null
        ],
        [
         "20",
         "admet",
         "MLM",
         "32",
         "500",
         "0.001",
         "5",
         "10",
         "0.1",
         "ECFP",
         null,
         null,
         "1024",
         null,
         null,
         "64",
         "1",
         "0.2869599029421806",
         "5",
         "22",
         "2"
        ],
        [
         "21",
         "admet",
         "HLM",
         "32",
         "500",
         "0.001",
         "5",
         "10",
         "0.1",
         "ECFP",
         null,
         null,
         "1024",
         null,
         null,
         "64",
         "1",
         "0.237746413052082",
         "5",
         "14",
         "2"
        ],
        [
         "22",
         "admet",
         "KSOL",
         "32",
         "500",
         "0.001",
         "5",
         "10",
         "0.1",
         "ECFP",
         null,
         null,
         "1024",
         null,
         null,
         "64",
         "1",
         "0.196873198946317",
         "5",
         "20",
         "2"
        ],
        [
         "23",
         "admet",
         "LogD",
         "32",
         "500",
         "0.001",
         "5",
         "10",
         "0.1",
         "ECFP",
         null,
         null,
         "1024",
         null,
         null,
         "64",
         "1",
         "0.4980215772986412",
         "5",
         "34",
         "2"
        ],
        [
         "24",
         "admet",
         "MDR1-MDCKII",
         "32",
         "500",
         "0.001",
         "5",
         "10",
         "0.1",
         "ECFP",
         null,
         null,
         "1024",
         null,
         null,
         "64",
         "1",
         "0.1711440796653429",
         "5",
         "12",
         "2"
        ]
       ],
       "shape": {
        "columns": 20,
        "rows": 25
       }
      },
      "text/html": [
       "<div>\n",
       "<style scoped>\n",
       "    .dataframe tbody tr th:only-of-type {\n",
       "        vertical-align: middle;\n",
       "    }\n",
       "\n",
       "    .dataframe tbody tr th {\n",
       "        vertical-align: top;\n",
       "    }\n",
       "\n",
       "    .dataframe thead th {\n",
       "        text-align: right;\n",
       "    }\n",
       "</style>\n",
       "<table border=\"1\" class=\"dataframe\">\n",
       "  <thead>\n",
       "    <tr style=\"text-align: right;\">\n",
       "      <th></th>\n",
       "      <th>task</th>\n",
       "      <th>target_task</th>\n",
       "      <th>batch_size</th>\n",
       "      <th>epochs</th>\n",
       "      <th>lr</th>\n",
       "      <th>num_cv_folds</th>\n",
       "      <th>num_cv_bins</th>\n",
       "      <th>scaffold_split_val_sz</th>\n",
       "      <th>repr_model</th>\n",
       "      <th>in_channels</th>\n",
       "      <th>hidden_channels</th>\n",
       "      <th>out_channels</th>\n",
       "      <th>num_layers</th>\n",
       "      <th>dropout</th>\n",
       "      <th>proj_hidden_dim</th>\n",
       "      <th>out_dim</th>\n",
       "      <th>mean_val_loss</th>\n",
       "      <th>patience</th>\n",
       "      <th>final_avg_epochs</th>\n",
       "      <th>radius</th>\n",
       "    </tr>\n",
       "  </thead>\n",
       "  <tbody>\n",
       "    <tr>\n",
       "      <th>0</th>\n",
       "      <td>admet</td>\n",
       "      <td>MLM</td>\n",
       "      <td>32</td>\n",
       "      <td>500</td>\n",
       "      <td>0.001</td>\n",
       "      <td>5</td>\n",
       "      <td>10</td>\n",
       "      <td>0.1</td>\n",
       "      <td>GIN</td>\n",
       "      <td>9</td>\n",
       "      <td>32</td>\n",
       "      <td>64</td>\n",
       "      <td>3</td>\n",
       "      <td>0.1</td>\n",
       "      <td>64</td>\n",
       "      <td>1</td>\n",
       "      <td>0.447329</td>\n",
       "      <td>5</td>\n",
       "      <td>11</td>\n",
       "      <td>&lt;NA&gt;</td>\n",
       "    </tr>\n",
       "    <tr>\n",
       "      <th>1</th>\n",
       "      <td>admet</td>\n",
       "      <td>MLM</td>\n",
       "      <td>32</td>\n",
       "      <td>500</td>\n",
       "      <td>0.001</td>\n",
       "      <td>5</td>\n",
       "      <td>10</td>\n",
       "      <td>0.1</td>\n",
       "      <td>GCN</td>\n",
       "      <td>9</td>\n",
       "      <td>32</td>\n",
       "      <td>64</td>\n",
       "      <td>3</td>\n",
       "      <td>0.1</td>\n",
       "      <td>64</td>\n",
       "      <td>1</td>\n",
       "      <td>0.46792</td>\n",
       "      <td>5</td>\n",
       "      <td>12</td>\n",
       "      <td>&lt;NA&gt;</td>\n",
       "    </tr>\n",
       "    <tr>\n",
       "      <th>2</th>\n",
       "      <td>admet</td>\n",
       "      <td>MLM</td>\n",
       "      <td>32</td>\n",
       "      <td>500</td>\n",
       "      <td>0.001</td>\n",
       "      <td>5</td>\n",
       "      <td>10</td>\n",
       "      <td>0.1</td>\n",
       "      <td>GAT</td>\n",
       "      <td>9</td>\n",
       "      <td>32</td>\n",
       "      <td>64</td>\n",
       "      <td>3</td>\n",
       "      <td>0.1</td>\n",
       "      <td>64</td>\n",
       "      <td>1</td>\n",
       "      <td>0.473864</td>\n",
       "      <td>5</td>\n",
       "      <td>11</td>\n",
       "      <td>&lt;NA&gt;</td>\n",
       "    </tr>\n",
       "    <tr>\n",
       "      <th>3</th>\n",
       "      <td>admet</td>\n",
       "      <td>MLM</td>\n",
       "      <td>32</td>\n",
       "      <td>500</td>\n",
       "      <td>0.001</td>\n",
       "      <td>5</td>\n",
       "      <td>10</td>\n",
       "      <td>0.1</td>\n",
       "      <td>GraphSAGE</td>\n",
       "      <td>9</td>\n",
       "      <td>32</td>\n",
       "      <td>64</td>\n",
       "      <td>3</td>\n",
       "      <td>0.1</td>\n",
       "      <td>64</td>\n",
       "      <td>1</td>\n",
       "      <td>0.475402</td>\n",
       "      <td>5</td>\n",
       "      <td>11</td>\n",
       "      <td>&lt;NA&gt;</td>\n",
       "    </tr>\n",
       "    <tr>\n",
       "      <th>4</th>\n",
       "      <td>admet</td>\n",
       "      <td>HLM</td>\n",
       "      <td>32</td>\n",
       "      <td>500</td>\n",
       "      <td>0.001</td>\n",
       "      <td>5</td>\n",
       "      <td>10</td>\n",
       "      <td>0.1</td>\n",
       "      <td>GIN</td>\n",
       "      <td>9</td>\n",
       "      <td>32</td>\n",
       "      <td>64</td>\n",
       "      <td>3</td>\n",
       "      <td>0.1</td>\n",
       "      <td>64</td>\n",
       "      <td>1</td>\n",
       "      <td>0.330356</td>\n",
       "      <td>5</td>\n",
       "      <td>11</td>\n",
       "      <td>&lt;NA&gt;</td>\n",
       "    </tr>\n",
       "    <tr>\n",
       "      <th>5</th>\n",
       "      <td>admet</td>\n",
       "      <td>HLM</td>\n",
       "      <td>32</td>\n",
       "      <td>500</td>\n",
       "      <td>0.001</td>\n",
       "      <td>5</td>\n",
       "      <td>10</td>\n",
       "      <td>0.1</td>\n",
       "      <td>GCN</td>\n",
       "      <td>9</td>\n",
       "      <td>32</td>\n",
       "      <td>64</td>\n",
       "      <td>3</td>\n",
       "      <td>0.1</td>\n",
       "      <td>64</td>\n",
       "      <td>1</td>\n",
       "      <td>0.345177</td>\n",
       "      <td>5</td>\n",
       "      <td>16</td>\n",
       "      <td>&lt;NA&gt;</td>\n",
       "    </tr>\n",
       "    <tr>\n",
       "      <th>6</th>\n",
       "      <td>admet</td>\n",
       "      <td>HLM</td>\n",
       "      <td>32</td>\n",
       "      <td>500</td>\n",
       "      <td>0.001</td>\n",
       "      <td>5</td>\n",
       "      <td>10</td>\n",
       "      <td>0.1</td>\n",
       "      <td>GAT</td>\n",
       "      <td>9</td>\n",
       "      <td>32</td>\n",
       "      <td>64</td>\n",
       "      <td>3</td>\n",
       "      <td>0.1</td>\n",
       "      <td>64</td>\n",
       "      <td>1</td>\n",
       "      <td>0.345582</td>\n",
       "      <td>5</td>\n",
       "      <td>13</td>\n",
       "      <td>&lt;NA&gt;</td>\n",
       "    </tr>\n",
       "    <tr>\n",
       "      <th>7</th>\n",
       "      <td>admet</td>\n",
       "      <td>HLM</td>\n",
       "      <td>32</td>\n",
       "      <td>500</td>\n",
       "      <td>0.001</td>\n",
       "      <td>5</td>\n",
       "      <td>10</td>\n",
       "      <td>0.1</td>\n",
       "      <td>GraphSAGE</td>\n",
       "      <td>9</td>\n",
       "      <td>32</td>\n",
       "      <td>64</td>\n",
       "      <td>3</td>\n",
       "      <td>0.1</td>\n",
       "      <td>64</td>\n",
       "      <td>1</td>\n",
       "      <td>0.341112</td>\n",
       "      <td>5</td>\n",
       "      <td>17</td>\n",
       "      <td>&lt;NA&gt;</td>\n",
       "    </tr>\n",
       "    <tr>\n",
       "      <th>8</th>\n",
       "      <td>admet</td>\n",
       "      <td>KSOL</td>\n",
       "      <td>32</td>\n",
       "      <td>500</td>\n",
       "      <td>0.001</td>\n",
       "      <td>5</td>\n",
       "      <td>10</td>\n",
       "      <td>0.1</td>\n",
       "      <td>GIN</td>\n",
       "      <td>9</td>\n",
       "      <td>32</td>\n",
       "      <td>64</td>\n",
       "      <td>3</td>\n",
       "      <td>0.1</td>\n",
       "      <td>64</td>\n",
       "      <td>1</td>\n",
       "      <td>0.533621</td>\n",
       "      <td>5</td>\n",
       "      <td>9</td>\n",
       "      <td>&lt;NA&gt;</td>\n",
       "    </tr>\n",
       "    <tr>\n",
       "      <th>9</th>\n",
       "      <td>admet</td>\n",
       "      <td>KSOL</td>\n",
       "      <td>32</td>\n",
       "      <td>500</td>\n",
       "      <td>0.001</td>\n",
       "      <td>5</td>\n",
       "      <td>10</td>\n",
       "      <td>0.1</td>\n",
       "      <td>GCN</td>\n",
       "      <td>9</td>\n",
       "      <td>32</td>\n",
       "      <td>64</td>\n",
       "      <td>3</td>\n",
       "      <td>0.1</td>\n",
       "      <td>64</td>\n",
       "      <td>1</td>\n",
       "      <td>0.565532</td>\n",
       "      <td>5</td>\n",
       "      <td>8</td>\n",
       "      <td>&lt;NA&gt;</td>\n",
       "    </tr>\n",
       "    <tr>\n",
       "      <th>10</th>\n",
       "      <td>admet</td>\n",
       "      <td>KSOL</td>\n",
       "      <td>32</td>\n",
       "      <td>500</td>\n",
       "      <td>0.001</td>\n",
       "      <td>5</td>\n",
       "      <td>10</td>\n",
       "      <td>0.1</td>\n",
       "      <td>GAT</td>\n",
       "      <td>9</td>\n",
       "      <td>32</td>\n",
       "      <td>64</td>\n",
       "      <td>3</td>\n",
       "      <td>0.1</td>\n",
       "      <td>64</td>\n",
       "      <td>1</td>\n",
       "      <td>0.574342</td>\n",
       "      <td>5</td>\n",
       "      <td>10</td>\n",
       "      <td>&lt;NA&gt;</td>\n",
       "    </tr>\n",
       "    <tr>\n",
       "      <th>11</th>\n",
       "      <td>admet</td>\n",
       "      <td>KSOL</td>\n",
       "      <td>32</td>\n",
       "      <td>500</td>\n",
       "      <td>0.001</td>\n",
       "      <td>5</td>\n",
       "      <td>10</td>\n",
       "      <td>0.1</td>\n",
       "      <td>GraphSAGE</td>\n",
       "      <td>9</td>\n",
       "      <td>32</td>\n",
       "      <td>64</td>\n",
       "      <td>3</td>\n",
       "      <td>0.1</td>\n",
       "      <td>64</td>\n",
       "      <td>1</td>\n",
       "      <td>0.582636</td>\n",
       "      <td>5</td>\n",
       "      <td>9</td>\n",
       "      <td>&lt;NA&gt;</td>\n",
       "    </tr>\n",
       "    <tr>\n",
       "      <th>12</th>\n",
       "      <td>admet</td>\n",
       "      <td>LogD</td>\n",
       "      <td>32</td>\n",
       "      <td>500</td>\n",
       "      <td>0.001</td>\n",
       "      <td>5</td>\n",
       "      <td>10</td>\n",
       "      <td>0.1</td>\n",
       "      <td>GIN</td>\n",
       "      <td>9</td>\n",
       "      <td>32</td>\n",
       "      <td>64</td>\n",
       "      <td>3</td>\n",
       "      <td>0.1</td>\n",
       "      <td>64</td>\n",
       "      <td>1</td>\n",
       "      <td>1.250294</td>\n",
       "      <td>5</td>\n",
       "      <td>26</td>\n",
       "      <td>&lt;NA&gt;</td>\n",
       "    </tr>\n",
       "    <tr>\n",
       "      <th>13</th>\n",
       "      <td>admet</td>\n",
       "      <td>LogD</td>\n",
       "      <td>32</td>\n",
       "      <td>500</td>\n",
       "      <td>0.001</td>\n",
       "      <td>5</td>\n",
       "      <td>10</td>\n",
       "      <td>0.1</td>\n",
       "      <td>GCN</td>\n",
       "      <td>9</td>\n",
       "      <td>32</td>\n",
       "      <td>64</td>\n",
       "      <td>3</td>\n",
       "      <td>0.1</td>\n",
       "      <td>64</td>\n",
       "      <td>1</td>\n",
       "      <td>1.347605</td>\n",
       "      <td>5</td>\n",
       "      <td>17</td>\n",
       "      <td>&lt;NA&gt;</td>\n",
       "    </tr>\n",
       "    <tr>\n",
       "      <th>14</th>\n",
       "      <td>admet</td>\n",
       "      <td>LogD</td>\n",
       "      <td>32</td>\n",
       "      <td>500</td>\n",
       "      <td>0.001</td>\n",
       "      <td>5</td>\n",
       "      <td>10</td>\n",
       "      <td>0.1</td>\n",
       "      <td>GAT</td>\n",
       "      <td>9</td>\n",
       "      <td>32</td>\n",
       "      <td>64</td>\n",
       "      <td>3</td>\n",
       "      <td>0.1</td>\n",
       "      <td>64</td>\n",
       "      <td>1</td>\n",
       "      <td>1.194253</td>\n",
       "      <td>5</td>\n",
       "      <td>41</td>\n",
       "      <td>&lt;NA&gt;</td>\n",
       "    </tr>\n",
       "    <tr>\n",
       "      <th>15</th>\n",
       "      <td>admet</td>\n",
       "      <td>LogD</td>\n",
       "      <td>32</td>\n",
       "      <td>500</td>\n",
       "      <td>0.001</td>\n",
       "      <td>5</td>\n",
       "      <td>10</td>\n",
       "      <td>0.1</td>\n",
       "      <td>GraphSAGE</td>\n",
       "      <td>9</td>\n",
       "      <td>32</td>\n",
       "      <td>64</td>\n",
       "      <td>3</td>\n",
       "      <td>0.1</td>\n",
       "      <td>64</td>\n",
       "      <td>1</td>\n",
       "      <td>1.087269</td>\n",
       "      <td>5</td>\n",
       "      <td>32</td>\n",
       "      <td>&lt;NA&gt;</td>\n",
       "    </tr>\n",
       "    <tr>\n",
       "      <th>16</th>\n",
       "      <td>admet</td>\n",
       "      <td>MDR1-MDCKII</td>\n",
       "      <td>32</td>\n",
       "      <td>500</td>\n",
       "      <td>0.001</td>\n",
       "      <td>5</td>\n",
       "      <td>10</td>\n",
       "      <td>0.1</td>\n",
       "      <td>GIN</td>\n",
       "      <td>9</td>\n",
       "      <td>32</td>\n",
       "      <td>64</td>\n",
       "      <td>3</td>\n",
       "      <td>0.1</td>\n",
       "      <td>64</td>\n",
       "      <td>1</td>\n",
       "      <td>0.343283</td>\n",
       "      <td>5</td>\n",
       "      <td>18</td>\n",
       "      <td>&lt;NA&gt;</td>\n",
       "    </tr>\n",
       "    <tr>\n",
       "      <th>17</th>\n",
       "      <td>admet</td>\n",
       "      <td>MDR1-MDCKII</td>\n",
       "      <td>32</td>\n",
       "      <td>500</td>\n",
       "      <td>0.001</td>\n",
       "      <td>5</td>\n",
       "      <td>10</td>\n",
       "      <td>0.1</td>\n",
       "      <td>GCN</td>\n",
       "      <td>9</td>\n",
       "      <td>32</td>\n",
       "      <td>64</td>\n",
       "      <td>3</td>\n",
       "      <td>0.1</td>\n",
       "      <td>64</td>\n",
       "      <td>1</td>\n",
       "      <td>0.374854</td>\n",
       "      <td>5</td>\n",
       "      <td>9</td>\n",
       "      <td>&lt;NA&gt;</td>\n",
       "    </tr>\n",
       "    <tr>\n",
       "      <th>18</th>\n",
       "      <td>admet</td>\n",
       "      <td>MDR1-MDCKII</td>\n",
       "      <td>32</td>\n",
       "      <td>500</td>\n",
       "      <td>0.001</td>\n",
       "      <td>5</td>\n",
       "      <td>10</td>\n",
       "      <td>0.1</td>\n",
       "      <td>GAT</td>\n",
       "      <td>9</td>\n",
       "      <td>32</td>\n",
       "      <td>64</td>\n",
       "      <td>3</td>\n",
       "      <td>0.1</td>\n",
       "      <td>64</td>\n",
       "      <td>1</td>\n",
       "      <td>0.345527</td>\n",
       "      <td>5</td>\n",
       "      <td>37</td>\n",
       "      <td>&lt;NA&gt;</td>\n",
       "    </tr>\n",
       "    <tr>\n",
       "      <th>19</th>\n",
       "      <td>admet</td>\n",
       "      <td>MDR1-MDCKII</td>\n",
       "      <td>32</td>\n",
       "      <td>500</td>\n",
       "      <td>0.001</td>\n",
       "      <td>5</td>\n",
       "      <td>10</td>\n",
       "      <td>0.1</td>\n",
       "      <td>GraphSAGE</td>\n",
       "      <td>9</td>\n",
       "      <td>32</td>\n",
       "      <td>64</td>\n",
       "      <td>3</td>\n",
       "      <td>0.1</td>\n",
       "      <td>64</td>\n",
       "      <td>1</td>\n",
       "      <td>0.340361</td>\n",
       "      <td>5</td>\n",
       "      <td>25</td>\n",
       "      <td>&lt;NA&gt;</td>\n",
       "    </tr>\n",
       "    <tr>\n",
       "      <th>20</th>\n",
       "      <td>admet</td>\n",
       "      <td>MLM</td>\n",
       "      <td>32</td>\n",
       "      <td>500</td>\n",
       "      <td>0.001</td>\n",
       "      <td>5</td>\n",
       "      <td>10</td>\n",
       "      <td>0.1</td>\n",
       "      <td>ECFP</td>\n",
       "      <td>&lt;NA&gt;</td>\n",
       "      <td>&lt;NA&gt;</td>\n",
       "      <td>1024</td>\n",
       "      <td>&lt;NA&gt;</td>\n",
       "      <td>&lt;NA&gt;</td>\n",
       "      <td>64</td>\n",
       "      <td>1</td>\n",
       "      <td>0.28696</td>\n",
       "      <td>5</td>\n",
       "      <td>22</td>\n",
       "      <td>2</td>\n",
       "    </tr>\n",
       "    <tr>\n",
       "      <th>21</th>\n",
       "      <td>admet</td>\n",
       "      <td>HLM</td>\n",
       "      <td>32</td>\n",
       "      <td>500</td>\n",
       "      <td>0.001</td>\n",
       "      <td>5</td>\n",
       "      <td>10</td>\n",
       "      <td>0.1</td>\n",
       "      <td>ECFP</td>\n",
       "      <td>&lt;NA&gt;</td>\n",
       "      <td>&lt;NA&gt;</td>\n",
       "      <td>1024</td>\n",
       "      <td>&lt;NA&gt;</td>\n",
       "      <td>&lt;NA&gt;</td>\n",
       "      <td>64</td>\n",
       "      <td>1</td>\n",
       "      <td>0.237746</td>\n",
       "      <td>5</td>\n",
       "      <td>14</td>\n",
       "      <td>2</td>\n",
       "    </tr>\n",
       "    <tr>\n",
       "      <th>22</th>\n",
       "      <td>admet</td>\n",
       "      <td>KSOL</td>\n",
       "      <td>32</td>\n",
       "      <td>500</td>\n",
       "      <td>0.001</td>\n",
       "      <td>5</td>\n",
       "      <td>10</td>\n",
       "      <td>0.1</td>\n",
       "      <td>ECFP</td>\n",
       "      <td>&lt;NA&gt;</td>\n",
       "      <td>&lt;NA&gt;</td>\n",
       "      <td>1024</td>\n",
       "      <td>&lt;NA&gt;</td>\n",
       "      <td>&lt;NA&gt;</td>\n",
       "      <td>64</td>\n",
       "      <td>1</td>\n",
       "      <td>0.196873</td>\n",
       "      <td>5</td>\n",
       "      <td>20</td>\n",
       "      <td>2</td>\n",
       "    </tr>\n",
       "    <tr>\n",
       "      <th>23</th>\n",
       "      <td>admet</td>\n",
       "      <td>LogD</td>\n",
       "      <td>32</td>\n",
       "      <td>500</td>\n",
       "      <td>0.001</td>\n",
       "      <td>5</td>\n",
       "      <td>10</td>\n",
       "      <td>0.1</td>\n",
       "      <td>ECFP</td>\n",
       "      <td>&lt;NA&gt;</td>\n",
       "      <td>&lt;NA&gt;</td>\n",
       "      <td>1024</td>\n",
       "      <td>&lt;NA&gt;</td>\n",
       "      <td>&lt;NA&gt;</td>\n",
       "      <td>64</td>\n",
       "      <td>1</td>\n",
       "      <td>0.498022</td>\n",
       "      <td>5</td>\n",
       "      <td>34</td>\n",
       "      <td>2</td>\n",
       "    </tr>\n",
       "    <tr>\n",
       "      <th>24</th>\n",
       "      <td>admet</td>\n",
       "      <td>MDR1-MDCKII</td>\n",
       "      <td>32</td>\n",
       "      <td>500</td>\n",
       "      <td>0.001</td>\n",
       "      <td>5</td>\n",
       "      <td>10</td>\n",
       "      <td>0.1</td>\n",
       "      <td>ECFP</td>\n",
       "      <td>&lt;NA&gt;</td>\n",
       "      <td>&lt;NA&gt;</td>\n",
       "      <td>1024</td>\n",
       "      <td>&lt;NA&gt;</td>\n",
       "      <td>&lt;NA&gt;</td>\n",
       "      <td>64</td>\n",
       "      <td>1</td>\n",
       "      <td>0.171144</td>\n",
       "      <td>5</td>\n",
       "      <td>12</td>\n",
       "      <td>2</td>\n",
       "    </tr>\n",
       "  </tbody>\n",
       "</table>\n",
       "</div>"
      ],
      "text/plain": [
       "     task  target_task  batch_size  epochs     lr  num_cv_folds  num_cv_bins  \\\n",
       "0   admet          MLM          32     500  0.001             5           10   \n",
       "1   admet          MLM          32     500  0.001             5           10   \n",
       "2   admet          MLM          32     500  0.001             5           10   \n",
       "3   admet          MLM          32     500  0.001             5           10   \n",
       "4   admet          HLM          32     500  0.001             5           10   \n",
       "5   admet          HLM          32     500  0.001             5           10   \n",
       "6   admet          HLM          32     500  0.001             5           10   \n",
       "7   admet          HLM          32     500  0.001             5           10   \n",
       "8   admet         KSOL          32     500  0.001             5           10   \n",
       "9   admet         KSOL          32     500  0.001             5           10   \n",
       "10  admet         KSOL          32     500  0.001             5           10   \n",
       "11  admet         KSOL          32     500  0.001             5           10   \n",
       "12  admet         LogD          32     500  0.001             5           10   \n",
       "13  admet         LogD          32     500  0.001             5           10   \n",
       "14  admet         LogD          32     500  0.001             5           10   \n",
       "15  admet         LogD          32     500  0.001             5           10   \n",
       "16  admet  MDR1-MDCKII          32     500  0.001             5           10   \n",
       "17  admet  MDR1-MDCKII          32     500  0.001             5           10   \n",
       "18  admet  MDR1-MDCKII          32     500  0.001             5           10   \n",
       "19  admet  MDR1-MDCKII          32     500  0.001             5           10   \n",
       "20  admet          MLM          32     500  0.001             5           10   \n",
       "21  admet          HLM          32     500  0.001             5           10   \n",
       "22  admet         KSOL          32     500  0.001             5           10   \n",
       "23  admet         LogD          32     500  0.001             5           10   \n",
       "24  admet  MDR1-MDCKII          32     500  0.001             5           10   \n",
       "\n",
       "    scaffold_split_val_sz repr_model  in_channels  hidden_channels  \\\n",
       "0                     0.1        GIN            9               32   \n",
       "1                     0.1        GCN            9               32   \n",
       "2                     0.1        GAT            9               32   \n",
       "3                     0.1  GraphSAGE            9               32   \n",
       "4                     0.1        GIN            9               32   \n",
       "5                     0.1        GCN            9               32   \n",
       "6                     0.1        GAT            9               32   \n",
       "7                     0.1  GraphSAGE            9               32   \n",
       "8                     0.1        GIN            9               32   \n",
       "9                     0.1        GCN            9               32   \n",
       "10                    0.1        GAT            9               32   \n",
       "11                    0.1  GraphSAGE            9               32   \n",
       "12                    0.1        GIN            9               32   \n",
       "13                    0.1        GCN            9               32   \n",
       "14                    0.1        GAT            9               32   \n",
       "15                    0.1  GraphSAGE            9               32   \n",
       "16                    0.1        GIN            9               32   \n",
       "17                    0.1        GCN            9               32   \n",
       "18                    0.1        GAT            9               32   \n",
       "19                    0.1  GraphSAGE            9               32   \n",
       "20                    0.1       ECFP         <NA>             <NA>   \n",
       "21                    0.1       ECFP         <NA>             <NA>   \n",
       "22                    0.1       ECFP         <NA>             <NA>   \n",
       "23                    0.1       ECFP         <NA>             <NA>   \n",
       "24                    0.1       ECFP         <NA>             <NA>   \n",
       "\n",
       "    out_channels  num_layers  dropout  proj_hidden_dim  out_dim  \\\n",
       "0             64           3      0.1               64        1   \n",
       "1             64           3      0.1               64        1   \n",
       "2             64           3      0.1               64        1   \n",
       "3             64           3      0.1               64        1   \n",
       "4             64           3      0.1               64        1   \n",
       "5             64           3      0.1               64        1   \n",
       "6             64           3      0.1               64        1   \n",
       "7             64           3      0.1               64        1   \n",
       "8             64           3      0.1               64        1   \n",
       "9             64           3      0.1               64        1   \n",
       "10            64           3      0.1               64        1   \n",
       "11            64           3      0.1               64        1   \n",
       "12            64           3      0.1               64        1   \n",
       "13            64           3      0.1               64        1   \n",
       "14            64           3      0.1               64        1   \n",
       "15            64           3      0.1               64        1   \n",
       "16            64           3      0.1               64        1   \n",
       "17            64           3      0.1               64        1   \n",
       "18            64           3      0.1               64        1   \n",
       "19            64           3      0.1               64        1   \n",
       "20          1024        <NA>     <NA>               64        1   \n",
       "21          1024        <NA>     <NA>               64        1   \n",
       "22          1024        <NA>     <NA>               64        1   \n",
       "23          1024        <NA>     <NA>               64        1   \n",
       "24          1024        <NA>     <NA>               64        1   \n",
       "\n",
       "    mean_val_loss  patience  final_avg_epochs  radius  \n",
       "0        0.447329         5                11    <NA>  \n",
       "1         0.46792         5                12    <NA>  \n",
       "2        0.473864         5                11    <NA>  \n",
       "3        0.475402         5                11    <NA>  \n",
       "4        0.330356         5                11    <NA>  \n",
       "5        0.345177         5                16    <NA>  \n",
       "6        0.345582         5                13    <NA>  \n",
       "7        0.341112         5                17    <NA>  \n",
       "8        0.533621         5                 9    <NA>  \n",
       "9        0.565532         5                 8    <NA>  \n",
       "10       0.574342         5                10    <NA>  \n",
       "11       0.582636         5                 9    <NA>  \n",
       "12       1.250294         5                26    <NA>  \n",
       "13       1.347605         5                17    <NA>  \n",
       "14       1.194253         5                41    <NA>  \n",
       "15       1.087269         5                32    <NA>  \n",
       "16       0.343283         5                18    <NA>  \n",
       "17       0.374854         5                 9    <NA>  \n",
       "18       0.345527         5                37    <NA>  \n",
       "19       0.340361         5                25    <NA>  \n",
       "20        0.28696         5                22       2  \n",
       "21       0.237746         5                14       2  \n",
       "22       0.196873         5                20       2  \n",
       "23       0.498022         5                34       2  \n",
       "24       0.171144         5                12       2  "
      ]
     },
     "execution_count": 4,
     "metadata": {},
     "output_type": "execute_result"
    }
   ],
   "source": [
    "# Combine results of gnn and ecfp\n",
    "df_admet_gnn = pd.read_csv(\"./results/admet_gnn_results.csv\")\n",
    "df_admet_ecfp = pd.read_csv(\"./results/admet_ecfp_results.csv\")\n",
    "df_admet = pd.concat([df_admet_gnn, df_admet_ecfp]).reset_index(drop=True)\n",
    "df_admet = df_admet.convert_dtypes()\n",
    "df_admet\n"
   ]
  },
  {
   "cell_type": "code",
   "execution_count": 5,
   "id": "9f0195d4",
   "metadata": {},
   "outputs": [],
   "source": [
    "# Group by target_task and find the row with minimum mean_val_loss for each group\n",
    "best_models_admet = df_admet.loc[df_admet.groupby(['target_task', 'repr_model'])['mean_val_loss'].idxmin()].reset_index(drop=True)\n",
    "best_models_admet_list = best_models_admet.to_dict('records')"
   ]
  },
  {
   "cell_type": "code",
   "execution_count": 6,
   "id": "1df7862c",
   "metadata": {},
   "outputs": [
    {
     "name": "stderr",
     "output_type": "stream",
     "text": [
      "Processing...\n",
      "Done!\n",
      "Processing...\n",
      "Done!\n",
      "100%|██████████| 14/14 [00:08<00:00,  1.60it/s]\n",
      "Processing...\n"
     ]
    },
    {
     "name": "stdout",
     "output_type": "stream",
     "text": [
      "0.5346484203492442\n"
     ]
    },
    {
     "name": "stderr",
     "output_type": "stream",
     "text": [
      "Done!\n",
      "Processing...\n",
      "Done!\n",
      "100%|██████████| 13/13 [00:00<00:00, 17.22it/s]\n",
      "Processing...\n",
      "Done!\n",
      "Processing...\n",
      "Done!\n"
     ]
    },
    {
     "name": "stdout",
     "output_type": "stream",
     "text": [
      "0.6358174854709256\n"
     ]
    },
    {
     "name": "stderr",
     "output_type": "stream",
     "text": [
      "100%|██████████| 16/16 [00:00<00:00, 23.48it/s]\n",
      "Processing...\n",
      "Done!\n",
      "Processing...\n",
      "Done!\n"
     ]
    },
    {
     "name": "stdout",
     "output_type": "stream",
     "text": [
      "0.6439096504642118\n"
     ]
    },
    {
     "name": "stderr",
     "output_type": "stream",
     "text": [
      "100%|██████████| 11/11 [00:00<00:00, 24.31it/s]\n",
      "Processing...\n",
      "Done!\n",
      "Processing...\n",
      "Done!\n"
     ]
    },
    {
     "name": "stdout",
     "output_type": "stream",
     "text": [
      "0.6414209834990963\n"
     ]
    },
    {
     "name": "stderr",
     "output_type": "stream",
     "text": [
      "100%|██████████| 17/17 [00:00<00:00, 26.80it/s]\n",
      "Processing...\n",
      "Done!\n",
      "Processing...\n"
     ]
    },
    {
     "name": "stdout",
     "output_type": "stream",
     "text": [
      "0.6525161362463429\n"
     ]
    },
    {
     "name": "stderr",
     "output_type": "stream",
     "text": [
      "Done!\n",
      "100%|██████████| 20/20 [00:15<00:00,  1.33it/s]\n",
      "Processing...\n"
     ]
    },
    {
     "name": "stdout",
     "output_type": "stream",
     "text": [
      "0.4328368708894059\n"
     ]
    },
    {
     "name": "stderr",
     "output_type": "stream",
     "text": [
      "Done!\n",
      "Processing...\n",
      "Done!\n",
      "100%|██████████| 10/10 [00:00<00:00, 14.40it/s]\n",
      "Processing...\n",
      "Done!\n",
      "Processing...\n"
     ]
    },
    {
     "name": "stdout",
     "output_type": "stream",
     "text": [
      "0.47212920962153254\n"
     ]
    },
    {
     "name": "stderr",
     "output_type": "stream",
     "text": [
      "Done!\n",
      "100%|██████████| 8/8 [00:00<00:00, 19.64it/s]\n",
      "Processing...\n",
      "Done!\n",
      "Processing...\n"
     ]
    },
    {
     "name": "stdout",
     "output_type": "stream",
     "text": [
      "0.5113217315158328\n"
     ]
    },
    {
     "name": "stderr",
     "output_type": "stream",
     "text": [
      "Done!\n",
      "100%|██████████| 9/9 [00:00<00:00, 19.60it/s]\n",
      "Processing...\n",
      "Done!\n",
      "Processing...\n"
     ]
    },
    {
     "name": "stdout",
     "output_type": "stream",
     "text": [
      "0.5012615886894433\n"
     ]
    },
    {
     "name": "stderr",
     "output_type": "stream",
     "text": [
      "Done!\n",
      "100%|██████████| 9/9 [00:00<00:00, 21.98it/s]\n",
      "Processing...\n",
      "Done!\n",
      "Processing...\n"
     ]
    },
    {
     "name": "stdout",
     "output_type": "stream",
     "text": [
      "0.5279988630397899\n"
     ]
    },
    {
     "name": "stderr",
     "output_type": "stream",
     "text": [
      "Done!\n",
      "100%|██████████| 34/34 [00:24<00:00,  1.39it/s]\n",
      "Processing...\n"
     ]
    },
    {
     "name": "stdout",
     "output_type": "stream",
     "text": [
      "0.8044692401049865\n"
     ]
    },
    {
     "name": "stderr",
     "output_type": "stream",
     "text": [
      "Done!\n",
      "Processing...\n",
      "Done!\n",
      "100%|██████████| 41/41 [00:02<00:00, 15.15it/s]\n",
      "Processing...\n",
      "Done!\n",
      "Processing...\n"
     ]
    },
    {
     "name": "stdout",
     "output_type": "stream",
     "text": [
      "1.011935997236934\n"
     ]
    },
    {
     "name": "stderr",
     "output_type": "stream",
     "text": [
      "Done!\n",
      "100%|██████████| 17/17 [00:00<00:00, 21.60it/s]\n",
      "Processing...\n",
      "Done!\n",
      "Processing...\n"
     ]
    },
    {
     "name": "stdout",
     "output_type": "stream",
     "text": [
      "1.0683888080012467\n"
     ]
    },
    {
     "name": "stderr",
     "output_type": "stream",
     "text": [
      "Done!\n",
      "100%|██████████| 26/26 [00:01<00:00, 21.26it/s]\n",
      "Processing...\n",
      "Done!\n",
      "Processing...\n"
     ]
    },
    {
     "name": "stdout",
     "output_type": "stream",
     "text": [
      "1.0345193262522419\n"
     ]
    },
    {
     "name": "stderr",
     "output_type": "stream",
     "text": [
      "Done!\n",
      "100%|██████████| 32/32 [00:01<00:00, 24.90it/s]\n",
      "Processing...\n",
      "Done!\n",
      "Processing...\n"
     ]
    },
    {
     "name": "stdout",
     "output_type": "stream",
     "text": [
      "0.8197436248883605\n"
     ]
    },
    {
     "name": "stderr",
     "output_type": "stream",
     "text": [
      "Done!\n",
      "100%|██████████| 12/12 [00:10<00:00,  1.14it/s]\n",
      "Processing...\n"
     ]
    },
    {
     "name": "stdout",
     "output_type": "stream",
     "text": [
      "0.3788504243590111\n"
     ]
    },
    {
     "name": "stderr",
     "output_type": "stream",
     "text": [
      "Done!\n",
      "Processing...\n",
      "Done!\n",
      "100%|██████████| 37/37 [00:02<00:00, 12.36it/s]\n",
      "Processing...\n",
      "Done!\n",
      "Processing...\n"
     ]
    },
    {
     "name": "stdout",
     "output_type": "stream",
     "text": [
      "0.4373730175023855\n"
     ]
    },
    {
     "name": "stderr",
     "output_type": "stream",
     "text": [
      "Done!\n",
      "100%|██████████| 9/9 [00:00<00:00, 18.29it/s]\n",
      "Processing...\n",
      "Done!\n",
      "Processing...\n"
     ]
    },
    {
     "name": "stdout",
     "output_type": "stream",
     "text": [
      "0.4856509729180225\n"
     ]
    },
    {
     "name": "stderr",
     "output_type": "stream",
     "text": [
      "Done!\n",
      "100%|██████████| 18/18 [00:01<00:00, 17.76it/s]\n",
      "Processing...\n"
     ]
    },
    {
     "name": "stdout",
     "output_type": "stream",
     "text": [
      "0.4355155641949454\n"
     ]
    },
    {
     "name": "stderr",
     "output_type": "stream",
     "text": [
      "Done!\n",
      "Processing...\n",
      "Done!\n",
      "100%|██████████| 25/25 [00:01<00:00, 20.63it/s]\n",
      "Processing...\n",
      "Done!\n",
      "Processing...\n",
      "Done!\n"
     ]
    },
    {
     "name": "stdout",
     "output_type": "stream",
     "text": [
      "0.48915258361849673\n"
     ]
    },
    {
     "name": "stderr",
     "output_type": "stream",
     "text": [
      "100%|██████████| 22/22 [00:13<00:00,  1.59it/s]\n",
      "Processing...\n"
     ]
    },
    {
     "name": "stdout",
     "output_type": "stream",
     "text": [
      "0.586446363118387\n"
     ]
    },
    {
     "name": "stderr",
     "output_type": "stream",
     "text": [
      "Done!\n",
      "Processing...\n",
      "Done!\n",
      "100%|██████████| 11/11 [00:00<00:00, 15.30it/s]\n",
      "Processing...\n",
      "Done!\n",
      "Processing...\n",
      "Done!\n"
     ]
    },
    {
     "name": "stdout",
     "output_type": "stream",
     "text": [
      "0.6687864747739607\n"
     ]
    },
    {
     "name": "stderr",
     "output_type": "stream",
     "text": [
      "100%|██████████| 12/12 [00:00<00:00, 24.46it/s]\n",
      "Processing...\n",
      "Done!\n",
      "Processing...\n",
      "Done!\n"
     ]
    },
    {
     "name": "stdout",
     "output_type": "stream",
     "text": [
      "0.6760012055596998\n"
     ]
    },
    {
     "name": "stderr",
     "output_type": "stream",
     "text": [
      "100%|██████████| 11/11 [00:00<00:00, 23.38it/s]\n",
      "Processing...\n",
      "Done!\n",
      "Processing...\n"
     ]
    },
    {
     "name": "stdout",
     "output_type": "stream",
     "text": [
      "0.66979571023295\n"
     ]
    },
    {
     "name": "stderr",
     "output_type": "stream",
     "text": [
      "Done!\n",
      "100%|██████████| 11/11 [00:00<00:00, 28.08it/s]"
     ]
    },
    {
     "name": "stdout",
     "output_type": "stream",
     "text": [
      "0.7553691892854629\n"
     ]
    },
    {
     "name": "stderr",
     "output_type": "stream",
     "text": [
      "\n"
     ]
    },
    {
     "data": {
      "text/plain": [
       "{'HLM': {'ECFP': 0.5346484203492442,\n",
       "  'GAT': 0.6358174854709256,\n",
       "  'GCN': 0.6439096504642118,\n",
       "  'GIN': 0.6414209834990963,\n",
       "  'GraphSAGE': 0.6525161362463429},\n",
       " 'KSOL': {'ECFP': 0.4328368708894059,\n",
       "  'GAT': 0.47212920962153254,\n",
       "  'GCN': 0.5113217315158328,\n",
       "  'GIN': 0.5012615886894433,\n",
       "  'GraphSAGE': 0.5279988630397899},\n",
       " 'LogD': {'ECFP': 0.8044692401049865,\n",
       "  'GAT': 1.011935997236934,\n",
       "  'GCN': 1.0683888080012467,\n",
       "  'GIN': 1.0345193262522419,\n",
       "  'GraphSAGE': 0.8197436248883605},\n",
       " 'MDR1-MDCKII': {'ECFP': 0.3788504243590111,\n",
       "  'GAT': 0.4373730175023855,\n",
       "  'GCN': 0.4856509729180225,\n",
       "  'GIN': 0.4355155641949454,\n",
       "  'GraphSAGE': 0.48915258361849673},\n",
       " 'MLM': {'ECFP': 0.586446363118387,\n",
       "  'GAT': 0.6687864747739607,\n",
       "  'GCN': 0.6760012055596998,\n",
       "  'GIN': 0.66979571023295,\n",
       "  'GraphSAGE': 0.7553691892854629}}"
      ]
     },
     "execution_count": 6,
     "metadata": {},
     "output_type": "execute_result"
    }
   ],
   "source": [
    "test_scaffold_admet_preds = {}\n",
    "\n",
    "for model in best_models_admet_list:\n",
    "  target_task = model['target_task']\n",
    "  polaris = Polaris(params=model)\n",
    "  polaris.train_final(polaris.train_scaffold)\n",
    "  preds = polaris.predict(polaris.test_scaffold)\n",
    "  preds = [pred[1] for pred in preds]\n",
    "  mae = mean_absolute_error(preds, polaris.test_scaffold.y)\n",
    "  print(mae)\n",
    "  d = {model['repr_model']: mae}\n",
    "  test_scaffold_admet_preds.setdefault(target_task, {}).update(d)\n",
    "\n",
    "test_scaffold_admet_preds"
   ]
  },
  {
   "cell_type": "code",
   "execution_count": null,
   "id": "e0d7959a42a2c68c",
   "metadata": {},
   "outputs": [
    {
     "data": {
      "image/png": "[encoded data removed]",
      "text/plain": [
       "<Figure size 1056.38x500 with 1 Axes>"
      ]
     },
     "metadata": {},
     "output_type": "display_data"
    }
   ],
   "source": [
    "# Create a histogram of MAE for each target_task and model\n",
    "df_admet_hist = pd.DataFrame(test_scaffold_admet_preds)\n",
    "df_admet_hist = df_admet_hist.reset_index().melt(id_vars=\"index\", var_name=\"target_task\", value_name=\"mean_average_error\")\n",
    "df_admet_hist.rename(columns={\"index\": \"model\", \"mean_average_error\": \"MAE\"}, inplace=True)\n",
    "g = sns.catplot(\n",
    "    data=df_admet_hist,\n",
    "    kind=\"bar\",\n",
    "    x=\"model\",\n",
    "    y=\"MAE\",\n",
    "    hue=\"target_task\",\n",
    "    aspect=1.8\n",
    ")\n",
    "\n",
    "# TODO: Calculate a predicted MAE when taking the best models out of those.\n"
   ]
  },
  {
   "cell_type": "markdown",
   "id": "1fefd6e6",
   "metadata": {},
   "source": [
    "### Submission"
   ]
  },
  {
   "cell_type": "code",
   "execution_count": null,
   "id": "ded2aa36",
   "metadata": {},
   "outputs": [
    {
     "name": "stderr",
     "output_type": "stream",
     "text": [
      "Processing...\n",
      "Done!\n",
      "Processing...\n",
      "Done!\n",
      "100%|██████████| 14/14 [00:09<00:00,  1.44it/s]\n",
      "Processing...\n",
      "Done!\n",
      "Processing...\n",
      "Done!\n",
      "100%|██████████| 20/20 [00:16<00:00,  1.20it/s]\n",
      "Processing...\n",
      "Done!\n",
      "Processing...\n",
      "Done!\n",
      "100%|██████████| 34/34 [00:27<00:00,  1.23it/s]\n",
      "Processing...\n",
      "Done!\n",
      "Processing...\n",
      "Done!\n",
      "100%|██████████| 12/12 [00:12<00:00,  1.03s/it]\n",
      "Processing...\n",
      "Done!\n",
      "Processing...\n",
      "Done!\n",
      "100%|██████████| 22/22 [00:15<00:00,  1.38it/s]\n"
     ]
    }
   ],
   "source": [
    "# Extract the best MAE for each target_task\n",
    "idx = df_admet_hist.groupby(\"target_task\")['MAE'].idxmin().tolist()\n",
    "best_models_list_admet = [best_models_admet_list[i] for i in idx]\n",
    "best_models_list_admet\n",
    "\n",
    "y_pred = {}\n",
    "for model in best_models_list_admet:\n",
    "\ttarget_task = model[\"target_task\"]\n",
    "\tpolaris = Polaris(model)\n",
    "\tpolaris.train_final(polaris.train_polaris)\n",
    "\tpreds = polaris.predict(polaris.test_polaris)\n",
    "\ty_pred[target_task] = preds\n",
    "\n",
    "y_submission_admet = {}\n",
    "for k, v in y_pred.items():\n",
    "\ty_submission[k] = [tup[1] for tup in v]"
   ]
  },
  {
   "cell_type": "code",
   "execution_count": null,
   "id": "3bb53c10",
   "metadata": {},
   "outputs": [
    {
     "data": {
      "text/html": [
       "<pre style=\"white-space:pre;overflow-x:auto;line-height:normal;font-family:Menlo,'DejaVu Sans Mono',consolas,'Courier New',monospace\"><span style=\"color: #7fbfbf; text-decoration-color: #7fbfbf\">[2025-03-06 18:39:49] </span><span style=\"color: #000080; text-decoration-color: #000080\">INFO    </span> The version of Polaris that was used to create the artifact <span style=\"font-weight: bold\">(</span><span style=\"color: #008080; text-decoration-color: #008080; font-weight: bold\">0.11</span>.<span style=\"color: #008080; text-decoration-color: #008080; font-weight: bold\">0</span><span style=\"font-weight: bold\">)</span> <a href=\"file:///opt/homebrew/Caskroom/miniconda/base/envs/polaris/lib/python3.12/site-packages/polaris/_artifact.py\" target=\"_blank\"><span style=\"color: #7f7f7f; text-decoration-color: #7f7f7f\">_artifact.py</span></a><span style=\"color: #7f7f7f; text-decoration-color: #7f7f7f\">:</span><a href=\"file:///opt/homebrew/Caskroom/miniconda/base/envs/polaris/lib/python3.12/site-packages/polaris/_artifact.py#92\" target=\"_blank\"><span style=\"color: #7f7f7f; text-decoration-color: #7f7f7f\">92</span></a>\n",
       "<span style=\"color: #7fbfbf; text-decoration-color: #7fbfbf\">                      </span>         is different from the currently installed version of Polaris         <span style=\"color: #7f7f7f; text-decoration-color: #7f7f7f\">               </span>\n",
       "<span style=\"color: #7fbfbf; text-decoration-color: #7fbfbf\">                      </span>         <span style=\"font-weight: bold\">(</span><span style=\"color: #008080; text-decoration-color: #008080; font-weight: bold\">0.11</span>.<span style=\"color: #008080; text-decoration-color: #008080; font-weight: bold\">7</span><span style=\"font-weight: bold\">)</span>.                                                            <span style=\"color: #7f7f7f; text-decoration-color: #7f7f7f\">               </span>\n",
       "</pre>\n"
      ],
      "text/plain": [
       "\u001b[2;36m[2025-03-06 18:39:49]\u001b[0m\u001b[2;36m \u001b[0m\u001b[34mINFO    \u001b[0m The version of Polaris that was used to create the artifact \u001b[1m(\u001b[0m\u001b[1;36m0.11\u001b[0m.\u001b[1;36m0\u001b[0m\u001b[1m)\u001b[0m \u001b]8;id=98409;file:///opt/homebrew/Caskroom/miniconda/base/envs/polaris/lib/python3.12/site-packages/polaris/_artifact.py\u001b\\\u001b[2m_artifact.py\u001b[0m\u001b]8;;\u001b\\\u001b[2m:\u001b[0m\u001b]8;id=579538;file:///opt/homebrew/Caskroom/miniconda/base/envs/polaris/lib/python3.12/site-packages/polaris/_artifact.py#92\u001b\\\u001b[2m92\u001b[0m\u001b]8;;\u001b\\\n",
       "\u001b[2;36m                      \u001b[0m         is different from the currently installed version of Polaris         \u001b[2m               \u001b[0m\n",
       "\u001b[2;36m                      \u001b[0m         \u001b[1m(\u001b[0m\u001b[1;36m0.11\u001b[0m.\u001b[1;36m7\u001b[0m\u001b[1m)\u001b[0m.                                                            \u001b[2m               \u001b[0m\n"
      ]
     },
     "metadata": {},
     "output_type": "display_data"
    },
    {
     "data": {
      "text/html": [
       "<pre style=\"white-space:pre;overflow-x:auto;line-height:normal;font-family:Menlo,'DejaVu Sans Mono',consolas,'Courier New',monospace\"><span style=\"color: #7fbfbf; text-decoration-color: #7fbfbf\">                      </span><span style=\"color: #808000; text-decoration-color: #808000\">WARNING </span> You're loading data from a remote location. If the dataset is small     <a href=\"file:///opt/homebrew/Caskroom/miniconda/base/envs/polaris/lib/python3.12/site-packages/polaris/dataset/_base.py\" target=\"_blank\"><span style=\"color: #7f7f7f; text-decoration-color: #7f7f7f\">_base.py</span></a><span style=\"color: #7f7f7f; text-decoration-color: #7f7f7f\">:</span><a href=\"file:///opt/homebrew/Caskroom/miniconda/base/envs/polaris/lib/python3.12/site-packages/polaris/dataset/_base.py#182\" target=\"_blank\"><span style=\"color: #7f7f7f; text-decoration-color: #7f7f7f\">182</span></a>\n",
       "<span style=\"color: #7fbfbf; text-decoration-color: #7fbfbf\">                      </span>         enough, consider caching the dataset first using                        <span style=\"color: #7f7f7f; text-decoration-color: #7f7f7f\">            </span>\n",
       "<span style=\"color: #7fbfbf; text-decoration-color: #7fbfbf\">                      </span>         <span style=\"color: #800080; text-decoration-color: #800080; font-weight: bold\">CompetitionSpecification.cache</span><span style=\"font-weight: bold\">()</span> for more performant data access.       <span style=\"color: #7f7f7f; text-decoration-color: #7f7f7f\">            </span>\n",
       "</pre>\n"
      ],
      "text/plain": [
       "\u001b[2;36m                     \u001b[0m\u001b[2;36m \u001b[0m\u001b[33mWARNING \u001b[0m You're loading data from a remote location. If the dataset is small     \u001b]8;id=692644;file:///opt/homebrew/Caskroom/miniconda/base/envs/polaris/lib/python3.12/site-packages/polaris/dataset/_base.py\u001b\\\u001b[2m_base.py\u001b[0m\u001b]8;;\u001b\\\u001b[2m:\u001b[0m\u001b]8;id=291522;file:///opt/homebrew/Caskroom/miniconda/base/envs/polaris/lib/python3.12/site-packages/polaris/dataset/_base.py#182\u001b\\\u001b[2m182\u001b[0m\u001b]8;;\u001b\\\n",
       "\u001b[2;36m                      \u001b[0m         enough, consider caching the dataset first using                        \u001b[2m            \u001b[0m\n",
       "\u001b[2;36m                      \u001b[0m         \u001b[1;35mCompetitionSpecification.cache\u001b[0m\u001b[1m(\u001b[0m\u001b[1m)\u001b[0m for more performant data access.       \u001b[2m            \u001b[0m\n"
      ]
     },
     "metadata": {},
     "output_type": "display_data"
    },
    {
     "data": {
      "text/html": [
       "<pre style=\"white-space:pre;overflow-x:auto;line-height:normal;font-family:Menlo,'DejaVu Sans Mono',consolas,'Courier New',monospace\"><span style=\"color: #7fbfbf; text-decoration-color: #7fbfbf\">[18:39:50] </span><span style=\"color: #008000; text-decoration-color: #008000\"> Success: Submitting competition predictions</span>                                               <a href=\"file:///opt/homebrew/Caskroom/miniconda/base/envs/polaris/lib/python3.12/site-packages/polaris/utils/context.py\" target=\"_blank\"><span style=\"color: #7f7f7f; text-decoration-color: #7f7f7f\">context.py</span></a><span style=\"color: #7f7f7f; text-decoration-color: #7f7f7f\">:</span><a href=\"file:///opt/homebrew/Caskroom/miniconda/base/envs/polaris/lib/python3.12/site-packages/polaris/utils/context.py#53\" target=\"_blank\"><span style=\"color: #7f7f7f; text-decoration-color: #7f7f7f\">53</span></a>\n",
       "</pre>\n"
      ],
      "text/plain": [
       "\u001b[2;36m[18:39:50]\u001b[0m\u001b[2;36m \u001b[0m\u001b[32m Success: Submitting competition predictions\u001b[0m                                               \u001b]8;id=823782;file:///opt/homebrew/Caskroom/miniconda/base/envs/polaris/lib/python3.12/site-packages/polaris/utils/context.py\u001b\\\u001b[2mcontext.py\u001b[0m\u001b]8;;\u001b\\\u001b[2m:\u001b[0m\u001b]8;id=666332;file:///opt/homebrew/Caskroom/miniconda/base/envs/polaris/lib/python3.12/site-packages/polaris/utils/context.py#53\u001b\\\u001b[2m53\u001b[0m\u001b]8;;\u001b\\\n"
      ]
     },
     "metadata": {},
     "output_type": "display_data"
    },
    {
     "data": {
      "text/html": [
       "<pre style=\"white-space:pre;overflow-x:auto;line-height:normal;font-family:Menlo,'DejaVu Sans Mono',consolas,'Courier New',monospace\"></pre>\n"
      ],
      "text/plain": []
     },
     "metadata": {},
     "output_type": "display_data"
    }
   ],
   "source": [
    "competition = po.load_competition(\"asap-discovery/antiviral-admet-2025\")\n",
    "\n",
    "competition.submit_predictions(\n",
    "    predictions = y_submission_admet,\n",
    "    prediction_name = \"cv-5\",\n",
    "    prediction_owner = \"aehrlich\",\n",
    "    report_url = \"https://www.example.com\",\n",
    "    description = \"Second submission\"\n",
    ")"
   ]
  }
 ],
 "metadata": {
  "kernelspec": {
   "display_name": "polaris",
   "language": "python",
   "name": "python3"
  },
  "language_info": {
   "codemirror_mode": {
    "name": "ipython",
    "version": 3
   },
   "file_extension": ".py",
   "mimetype": "text/x-python",
   "name": "python",
   "nbconvert_exporter": "python",
   "pygments_lexer": "ipython3",
   "version": "3.12.8"
  }
 },
 "nbformat": 5,
 "nbformat_minor": 9
}
