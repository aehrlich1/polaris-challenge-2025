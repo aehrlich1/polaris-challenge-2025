{
 "cells": [
  {
   "cell_type": "code",
   "execution_count": null,
   "id": "ec29a51010da7819",
   "metadata": {
    "ExecuteTime": {
     "end_time": "2025-02-24T12:18:10.590440Z",
     "start_time": "2025-02-24T12:18:08.451770Z"
    }
   },
   "outputs": [],
   "source": [
    "from pathlib import Path\n",
    "\n",
    "import matplotlib.pyplot as plt\n",
    "import numpy as np\n",
    "import pandas as pd\n",
    "import seaborn as sns\n",
    "from rdkit import Chem\n",
    "from rdkit.Chem import Draw\n",
    "\n",
    "import polaris as po\n",
    "from src.data import PolarisDataset\n",
    "from src.polaris import Polaris\n",
    "from src.utils import scaffold_split\n",
    "\n",
    "%load_ext autoreload\n",
    "%autoreload 2\n",
    "\n",
    "# set seaborn theme\n",
    "sns.set_theme()"
   ]
  },
  {
   "cell_type": "markdown",
   "id": "eb158e4f4419b49d",
   "metadata": {},
   "source": [
    "# Data Evaluation"
   ]
  },
  {
   "cell_type": "markdown",
   "id": "4c2010dd4a04f3c9",
   "metadata": {},
   "source": [
    "## Potency"
   ]
  },
  {
   "cell_type": "markdown",
   "id": "c8797f9ba2ac0c6f",
   "metadata": {},
   "source": [
    "### Datasets\n",
    "\n",
    "Show label distribution for Train Polaris, Train Scaffold, Test Scaffold\n",
    "Also show number of duplicate entries\n",
    "\n"
   ]
  },
  {
   "cell_type": "code",
   "execution_count": null,
   "id": "e8ef60a0387b9558",
   "metadata": {},
   "outputs": [],
   "source": [
    "task = 'potency'\n",
    "target_task = 'pIC50 (MERS-CoV Mpro)'\n",
    "# target_task = \"pIC50 (SARS-CoV-2 Mpro)\"\n",
    "\n",
    "root = Path(\"./data\") / \"polaris\" / task\n",
    "train_polaris = PolarisDataset(root=root, task=task, target_task=target_task, train=True, log_transform=False)\n",
    "test_polaris = PolarisDataset(root=root, task=task, target_task=target_task, train=False, log_transform=False)\n",
    "train_scaffold, test_scaffold = scaffold_split(dataset=train_polaris, test_size=0.1)"
   ]
  },
  {
   "cell_type": "code",
   "execution_count": null,
   "id": "ec32e1770609628b",
   "metadata": {},
   "outputs": [],
   "source": [
    "train_plot = sns.displot(data=train_polaris.y, kde=True, legend=False)\n",
    "train_plot.set_xlabels(target_task)\n",
    "plt.title(\"Train Polaris\")\n",
    "sns.displot(data=train_scaffold.y, kde=True, legend=False).set_xlabels(target_task)\n",
    "plt.title(\"Train Scaffold\")\n",
    "sns.displot(data=test_scaffold.y, kde=True, legend=False).set_xlabels(target_task)\n",
    "plt.title(\"Test Scaffold\")"
   ]
  },
  {
   "cell_type": "markdown",
   "id": "a79777ea3ffde4d9",
   "metadata": {},
   "source": [
    "### Inference"
   ]
  },
  {
   "cell_type": "code",
   "execution_count": null,
   "id": "f377a751f0817d09",
   "metadata": {
    "ExecuteTime": {
     "end_time": "2025-02-24T12:18:14.401606Z",
     "start_time": "2025-02-24T12:18:14.352731Z"
    }
   },
   "outputs": [],
   "source": [
    "# Combine results of gnn and ecfp\n",
    "df_potency_gnn = pd.read_csv(\"./results/polaris/potency_gnn_results.csv\")\n",
    "df_potency_ecfp = pd.read_csv(\"./results/polaris/potency_ecfp_results.csv\")\n",
    "df_potency_test = pd.concat([df_potency_gnn, df_potency_ecfp]).reset_index(drop=True)\n",
    "df_potency_test = df_potency_test.convert_dtypes()\n",
    "df_potency_test"
   ]
  },
  {
   "cell_type": "code",
   "execution_count": null,
   "id": "f21c021bf8ca1b7e",
   "metadata": {
    "ExecuteTime": {
     "end_time": "2025-02-24T12:18:15.849175Z",
     "start_time": "2025-02-24T12:18:15.819745Z"
    }
   },
   "outputs": [],
   "source": [
    "# Group by target_task and find the row with minimum mean_val_loss for each group\n",
    "df_best_potency = df_potency_test.loc[df_potency_test.groupby(['target_task', 'repr_model'])['mae_test_scaffold'].idxmin()].reset_index(drop=True)"
   ]
  },
  {
   "cell_type": "code",
   "execution_count": null,
   "id": "76a732ee",
   "metadata": {},
   "outputs": [],
   "source": [
    "df_best_potency_hist = df_best_potency[[\"target_task\", \"repr_model\", \"mae_test_scaffold\"]]\n",
    "g_potency = sns.catplot(\n",
    "    data=df_best_potency_hist,\n",
    "    kind=\"bar\",\n",
    "    x=\"repr_model\",\n",
    "    y=\"mae_test_scaffold\",\n",
    "    hue=\"target_task\",\n",
    "    aspect=1.5,\n",
    ")"
   ]
  },
  {
   "cell_type": "markdown",
   "id": "6408b675",
   "metadata": {},
   "source": [
    "### Submission"
   ]
  },
  {
   "cell_type": "code",
   "execution_count": null,
   "id": "d8026131",
   "metadata": {},
   "outputs": [],
   "source": [
    "# Pick best model for each task\n",
    "idx = df_best_potency.groupby(\"target_task\")[\"mae_test_scaffold\"].idxmin().tolist()\n",
    "potency_submission_models_list = df_best_potency.iloc[idx].to_dict(\"records\")\n",
    "\n",
    "y_pred = {}\n",
    "for model in potency_submission_models_list:\n",
    "    target_task = model[\"target_task\"]\n",
    "    polaris = Polaris(model)\n",
    "    polaris.train_final(polaris.train_polaris)\n",
    "    preds = polaris.predict(polaris.test_polaris)\n",
    "    y_pred[target_task] = preds\n",
    "\n",
    "y_submission = {}\n",
    "for k, v in y_pred.items():\n",
    "    y_submission[k] = [tup[1] for tup in v]\n",
    "\n",
    "sns.displot(y_submission)"
   ]
  },
  {
   "cell_type": "code",
   "execution_count": null,
   "id": "513c5030",
   "metadata": {},
   "outputs": [],
   "source": [
    "model = potency_submission_models_list[1]\n",
    "# target_task = 'pIC50 (MERS-CoV Mpro)'\n",
    "target_tast = 'pIC50 (SARS-CoV-2 Mpro)'\n",
    "\n",
    "mse_list = []\n",
    "for _ in range(2):\n",
    "    y_pred = {}\n",
    "    target_task = model[\"target_task\"]\n",
    "    polaris = Polaris(model)\n",
    "    polaris.train_final(polaris.train_polaris)\n",
    "    preds = polaris.predict(polaris.test_polaris)\n",
    "    y_pred[target_task] = preds\n",
    "\n",
    "    y_submission = {}\n",
    "    for k, v in y_pred.items():\n",
    "        y_submission[k] = [tup[1] for tup in v]\n",
    "\n",
    "    y_hat = df_potency_test_polaris[target_task]\n",
    "    y = y_submission[target_task]\n",
    "\n",
    "    mse = np.mean(np.abs(y_hat - y))\n",
    "    mse_list.append(mse)\n",
    "\n",
    "mse_list"
   ]
  },
  {
   "cell_type": "code",
   "execution_count": null,
   "id": "6b150553",
   "metadata": {},
   "outputs": [],
   "source": [
    "import matplotlib.pyplot as plt\n",
    "t = mae_total\n",
    "print(t)\n",
    "plt.figure(figsize=(3, 6))\n",
    "plt.boxplot(t)"
   ]
  },
  {
   "cell_type": "markdown",
   "id": "c5771258",
   "metadata": {},
   "source": [
    "### Unblinded Dataset"
   ]
  },
  {
   "cell_type": "code",
   "execution_count": null,
   "id": "c410c764",
   "metadata": {},
   "outputs": [],
   "source": [
    "potency_dataset = po.load_dataset(\"asap-discovery/antiviral-potency-2025-unblinded\")"
   ]
  },
  {
   "cell_type": "code",
   "execution_count": null,
   "id": "23321716",
   "metadata": {},
   "outputs": [],
   "source": [
    "data = []\n",
    "filtered_idxs = [1036, 1039, 1219, 1225, 1306]\n",
    "for i in range(len(potency_dataset)):\n",
    "    item: dict = potency_dataset[i] # type: ignore\n",
    "    if item[\"Set\"] == \"Test\":\n",
    "        smiles = item[\"CXSMILES\"]\n",
    "        mers = item[\"pIC50 (MERS-CoV Mpro)\"]\n",
    "        sars = item[\"pIC50 (SARS-CoV-2 Mpro)\"]\n",
    "        if i in filtered_idxs:\n",
    "            mers, sars = np.nan, np.nan\n",
    "        data.append([smiles, mers, sars])\n",
    "\n",
    "df_potency_test_polaris = pd.DataFrame(data)\n",
    "df_potency_test_polaris.columns = [\"smiles\", \"pIC50 (MERS-CoV Mpro)\", \"pIC50 (SARS-CoV-2 Mpro)\"]"
   ]
  },
  {
   "cell_type": "code",
   "execution_count": null,
   "id": "d4c22930",
   "metadata": {},
   "outputs": [],
   "source": [
    "target_task = 'pIC50 (MERS-CoV Mpro)'\n",
    "sns.displot(data=df_potency_test_polaris[target_task], kde=True, legend=False).set_xlabels(target_task)\n",
    "plt.title(\"Test Polaris\")"
   ]
  },
  {
   "cell_type": "code",
   "execution_count": null,
   "id": "83ce689e",
   "metadata": {},
   "outputs": [],
   "source": [
    "# Calculate MAE on Test Polaris Dataset\n",
    "y_hat = df_potency_test[\"pIC50 (MERS-CoV Mpro)\"]\n",
    "y = y_submission[\"pIC50 (MERS-CoV Mpro)\"]\n",
    "\n",
    "mse = np.mean(np.abs(y_hat - y))\n",
    "mse"
   ]
  },
  {
   "cell_type": "markdown",
   "id": "f1a1c488",
   "metadata": {},
   "source": [
    "### Submission"
   ]
  },
  {
   "cell_type": "code",
   "execution_count": null,
   "id": "417e12bf",
   "metadata": {},
   "outputs": [],
   "source": [
    "# Submit results\n",
    "competition = po.load_competition(\"asap-discovery/antiviral-potency-2025\")\n",
    "\n",
    "competition.submit_predictions(\n",
    "    predictions = y_submission,\n",
    "    prediction_name = \"test_2\",\n",
    "    prediction_owner = \"aehrlich\",\n",
    "    report_url = \"https://www.example.com\",\n",
    "    description = \"Second submission\"\n",
    ")"
   ]
  },
  {
   "cell_type": "markdown",
   "id": "7dd6afc07dcb9391",
   "metadata": {},
   "source": [
    "## Admet"
   ]
  },
  {
   "cell_type": "markdown",
   "id": "179cce131fd96020",
   "metadata": {},
   "source": [
    "### Datasets"
   ]
  },
  {
   "cell_type": "code",
   "execution_count": null,
   "id": "475981d0c2a9db1e",
   "metadata": {
    "ExecuteTime": {
     "end_time": "2025-02-24T11:11:10.983702Z",
     "start_time": "2025-02-24T11:11:10.792976Z"
    }
   },
   "outputs": [],
   "source": [
    "task = 'admet'\n",
    "target_task = 'KSOL'\n",
    "\n",
    "root = Path(\"./data\") / \"polaris\" / task\n",
    "train_polaris = PolarisDataset(root=root, task=task, target_task=target_task, train=True, log_transform=True)\n",
    "test_polaris = PolarisDataset(root=root, task=task, target_task=target_task, train=False, log_transform=True)\n",
    "train_scaffold, test_scaffold = scaffold_split(dataset=train_polaris, test_size=0.1)"
   ]
  },
  {
   "cell_type": "code",
   "execution_count": null,
   "id": "14a53ef3d91477a0",
   "metadata": {
    "ExecuteTime": {
     "end_time": "2025-02-24T11:11:11.395137Z",
     "start_time": "2025-02-24T11:11:11.138212Z"
    }
   },
   "outputs": [],
   "source": [
    "sns.displot(data=train_polaris.y, kde=True, legend=False).set_xlabels(target_task)\n",
    "plt.title(\"Train Polaris\")\n",
    "sns.displot(data=train_scaffold.y, kde=True, legend=False).set_xlabels(target_task)\n",
    "plt.title(\"Train Scaffold\")\n",
    "sns.displot(data=test_scaffold.y, kde=True, legend=False).set_xlabels(target_task)\n",
    "plt.title(\"Test Scaffold\")"
   ]
  },
  {
   "cell_type": "markdown",
   "id": "6a22b28389782ac",
   "metadata": {},
   "source": [
    "### Inference"
   ]
  },
  {
   "cell_type": "code",
   "execution_count": null,
   "id": "eb6e0e45bee3a96f",
   "metadata": {},
   "outputs": [],
   "source": [
    "# Combine results of gnn and ecfp\n",
    "df_admet_gnn = pd.read_csv(\"./results/polaris/admet_gnn_results.csv\")\n",
    "df_admet_ecfp = pd.read_csv(\"./results/polaris/admet_ecfp_results.csv\")\n",
    "df_admet = pd.concat([df_admet_gnn, df_admet_ecfp]).reset_index(drop=True)\n",
    "df_admet = df_admet.convert_dtypes()\n",
    "df_admet"
   ]
  },
  {
   "cell_type": "code",
   "execution_count": null,
   "id": "9f0195d4",
   "metadata": {},
   "outputs": [],
   "source": [
    "# Group by target_task and find the row with minimum mean_val_loss for each group\n",
    "df_best_admet = df_admet.loc[df_admet.groupby(['target_task', 'repr_model'])['mae_test_scaffold'].idxmin()].reset_index(drop=True)\n",
    "df_best_admet"
   ]
  },
  {
   "cell_type": "code",
   "execution_count": null,
   "id": "e0d7959a42a2c68c",
   "metadata": {},
   "outputs": [],
   "source": [
    "# Create a histogram of MAE for each target_task and model\n",
    "df_best_admet_hist = df_best_admet[[\"target_task\", \"repr_model\", \"mae_test_scaffold\"]]\n",
    "g_admet = sns.catplot(\n",
    "    data=df_best_admet_hist,\n",
    "    kind=\"bar\",\n",
    "    x=\"repr_model\",\n",
    "    y=\"mae_test_scaffold\",\n",
    "    hue=\"target_task\",\n",
    "    aspect=1.5,\n",
    ")"
   ]
  },
  {
   "cell_type": "markdown",
   "id": "1fefd6e6",
   "metadata": {},
   "source": [
    "### Submission"
   ]
  },
  {
   "cell_type": "code",
   "execution_count": null,
   "id": "ded2aa36",
   "metadata": {},
   "outputs": [],
   "source": [
    "# Extract the best MAE for each target_task\n",
    "idx = df_best_admet.groupby(\"target_task\")[\"mae_test_scaffold\"].idxmin().tolist()\n",
    "admet_submission_models_list = df_best_admet.iloc[idx].to_dict(\"records\")\n",
    "\n",
    "y_pred = {}\n",
    "for model in admet_submission_models_list:\n",
    "    target_task = model[\"target_task\"]\n",
    "    model[\"final_avg_epochs\"] = 200\n",
    "    polaris = Polaris(model)\n",
    "    polaris.train_final(polaris.train_polaris)\n",
    "    preds = polaris.predict(polaris.test_polaris)\n",
    "    y_pred[target_task] = preds\n",
    "\n",
    "y_submission_admet = {}\n",
    "for k, v in y_pred.items():\n",
    "    y_submission_admet[k] = [tup[1] for tup in v]\n",
    "\n",
    "sns.displot(y_submission_admet)"
   ]
  },
  {
   "cell_type": "code",
   "execution_count": null,
   "id": "3bb53c10",
   "metadata": {},
   "outputs": [],
   "source": [
    "competition = po.load_competition(\"asap-discovery/antiviral-admet-2025\")\n",
    "\n",
    "competition.submit_predictions(\n",
    "    predictions = y_submission_admet,\n",
    "    prediction_name = \"cv-5\",\n",
    "    prediction_owner = \"aehrlich\",\n",
    "    report_url = \"https://www.example.com\",\n",
    "    description = \"Second submission\"\n",
    ")"
   ]
  },
  {
   "cell_type": "markdown",
   "id": "e8bc6ae7",
   "metadata": {},
   "source": [
    "### Unblinded"
   ]
  },
  {
   "cell_type": "code",
   "execution_count": null,
   "id": "3406f079",
   "metadata": {},
   "outputs": [],
   "source": [
    "admet_dataset = po.load_dataset(\"asap-discovery/antiviral-admet-2025-unblinded\")\n",
    "hlm_filter_idx = [519, 524, 547]\n",
    "mlm_filter_idx = [515, 518, 521, 524, 525]\n",
    "\n",
    "data = []\n",
    "for i in range(len(admet_dataset)):\n",
    "    item: dict = admet_dataset[i] # type: ignore\n",
    "    if item[\"Set\"] == \"Test\":\n",
    "        smiles = item[\"CXSMILES\"]\n",
    "        hlm = np.log10(item[\"HLM\"])\n",
    "        ksol = np.log10(item[\"KSOL\"])\n",
    "        logd = item[\"LogD\"]\n",
    "        mdr1 = np.log10(item[\"MDR1-MDCKII\"])\n",
    "        mlm = np.log10(item[\"MLM\"])\n",
    "        if i in hlm_filter_idx:\n",
    "            hlm = np.nan\n",
    "        if i in mlm_filter_idx:\n",
    "            mlm = np.nan\n",
    "        data.append([hlm, ksol, logd, mdr1, mlm])\n",
    "\n",
    "df_admet_test_polaris = pd.DataFrame(data)\n",
    "df_admet_test_polaris.columns = ['HLM', 'KSOL', 'LogD', 'MDR1-MDCKII', 'MLM']\n",
    "\n",
    "# Take the log of all values apart from LogD\n",
    "df_admet_test_polaris"
   ]
  },
  {
   "cell_type": "code",
   "execution_count": null,
   "id": "50815487",
   "metadata": {},
   "outputs": [],
   "source": [
    "target_task = 'LogD'\n",
    "sns.displot(data=df_admet_test_polaris[target_task], kde=True, legend=False)"
   ]
  },
  {
   "cell_type": "code",
   "execution_count": null,
   "id": "5ade0ea9",
   "metadata": {},
   "outputs": [],
   "source": [
    "# Calculate the MSE for each task\n",
    "df_y_submission_admet = pd.DataFrame(y_submission_admet)\n",
    "mae_submission = abs(df_admet_test_polaris - df_y_submission_admet).mean(skipna=True)\n",
    "mae_submission\n"
   ]
  },
  {
   "cell_type": "code",
   "execution_count": null,
   "id": "11ba57b0",
   "metadata": {},
   "outputs": [],
   "source": [
    "submission_dict = mae_submission.to_dict()\n",
    "best_dict = {\n",
    "    'MLM': 0.317,\n",
    "    'HLM': 0.275,\n",
    "    'MDR1-MDCKII': 0.151,\n",
    "    'KSOL': 0.101,\n",
    "    'LogD': 0.254\n",
    "}\n",
    "baseline_dict = {\n",
    "    'MLM': 0.416,\n",
    "    'HLM': 0.438,\n",
    "    'MDR1-MDCKII': 0.519,\n",
    "    'KSOL': 0.234,\n",
    "    'LogD': 0.545\n",
    "}\n",
    "df_plot = pd.DataFrame([submission_dict, best_dict, baseline_dict])\n",
    "df_plot.index = ['Submission', 'Best', 'Baseline']"
   ]
  },
  {
   "cell_type": "code",
   "execution_count": null,
   "id": "e055ea8b",
   "metadata": {},
   "outputs": [],
   "source": [
    "df = df_plot\n",
    "df = df.reset_index().melt(id_vars=\"index\", var_name=\"Dataset\", value_name=\"MAE Test Polaris\")\n",
    "df.rename(columns={\"index\": \"Type\"}, inplace=True)\n",
    "sns.set_theme()\n",
    "g = sns.catplot(data=df, x=\"Dataset\", y=\"MAE Test Polaris\", hue=\"Type\", kind=\"bar\", height=6, aspect=1.5)\n",
    "plt.title(\"Performance across Datasets\")\n",
    "plt.show()"
   ]
  }
 ],
 "metadata": {
  "kernelspec": {
   "display_name": "polaris",
   "language": "python",
   "name": "python3"
  },
  "language_info": {
   "codemirror_mode": {
    "name": "ipython",
    "version": 3
   },
   "file_extension": ".py",
   "mimetype": "text/x-python",
   "name": "python",
   "nbconvert_exporter": "python",
   "pygments_lexer": "ipython3",
   "version": "3.12.9"
  }
 },
 "nbformat": 5,
 "nbformat_minor": 9
}
