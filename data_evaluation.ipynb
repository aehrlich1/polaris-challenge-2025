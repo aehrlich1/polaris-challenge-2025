{
 "cells": [
  {
   "metadata": {
    "ExecuteTime": {
     "end_time": "2025-02-24T12:18:10.590440Z",
     "start_time": "2025-02-24T12:18:08.451770Z"
    }
   },
   "cell_type": "code",
   "source": [
    "import pandas as pd\n",
    "from src.polaris import PolarisDispatcher, Polaris\n",
    "from src.data import PolarisDataset\n",
    "from src.utils import scaffold_split\n",
    "from pathlib import Path\n",
    "import seaborn as sns\n",
    "\n",
    "%load_ext autoreload\n",
    "%autoreload 2"
   ],
   "id": "ec29a51010da7819",
   "outputs": [],
   "execution_count": 1
  },
  {
   "metadata": {},
   "cell_type": "markdown",
   "source": "# Data Evaluation",
   "id": "eb158e4f4419b49d"
  },
  {
   "metadata": {},
   "cell_type": "markdown",
   "source": "## Potency",
   "id": "4c2010dd4a04f3c9"
  },
  {
   "metadata": {},
   "cell_type": "markdown",
   "source": [
    "### Datasets\n",
    "\n",
    "Show label distribution for Train Polaris, Train Scaffold, Test Scaffold\n",
    "Also show number of duplicate entries\n",
    "\n"
   ],
   "id": "c8797f9ba2ac0c6f"
  },
  {
   "metadata": {},
   "cell_type": "code",
   "source": [
    "task = 'potency'\n",
    "target_task = 'pIC50 (MERS-CoV Mpro)'\n",
    "\n",
    "root = Path(f\"./data\") / \"polaris\" / task\n",
    "train_polaris = PolarisDataset(root=root, task=task, target_task=target_task, train=True)\n",
    "test_polaris = PolarisDataset(root=root, task=task, target_task=target_task, train=False)\n",
    "train_scaffold, test_scaffold = scaffold_split(dataset=train_polaris, test_size=0.1)"
   ],
   "id": "e8ef60a0387b9558",
   "outputs": [],
   "execution_count": null
  },
  {
   "metadata": {},
   "cell_type": "code",
   "source": [
    "sns.displot(data=train_polaris.y, kde=True, legend=False).set_xlabels(target_task)\n",
    "sns.displot(data=train_scaffold.y, kde=True, legend=False).set_xlabels(target_task)\n",
    "sns.displot(data=test_scaffold.y, kde=True, legend=False).set_xlabels(target_task)"
   ],
   "id": "ec32e1770609628b",
   "outputs": [],
   "execution_count": null
  },
  {
   "metadata": {},
   "cell_type": "code",
   "source": "# Show some sample molecules in the Train Scaffold vs the Test Scaffold with similar labels",
   "id": "bade9332933d7aa7",
   "outputs": [],
   "execution_count": null
  },
  {
   "metadata": {},
   "cell_type": "markdown",
   "source": "### Inference",
   "id": "a79777ea3ffde4d9"
  },
  {
   "metadata": {
    "ExecuteTime": {
     "end_time": "2025-02-24T12:18:14.401606Z",
     "start_time": "2025-02-24T12:18:14.352731Z"
    }
   },
   "cell_type": "code",
   "source": [
    "# Combine results of gnn and ecfp\n",
    "df_gnn = pd.read_csv(\"./results/potency_gnn_results.csv\")\n",
    "df_ecfp = pd.read_csv(\"./results/potency_ecfp_results.csv\")\n",
    "df = pd.concat([df_gnn, df_ecfp])\n",
    "df = df.convert_dtypes()\n",
    "df"
   ],
   "id": "f377a751f0817d09",
   "outputs": [
    {
     "data": {
      "text/plain": [
       "       task              target_task  batch_size  epochs     lr  num_cv_folds  \\\n",
       "0   potency    pIC50 (MERS-CoV Mpro)          32     500  0.001             5   \n",
       "1   potency    pIC50 (MERS-CoV Mpro)          32     500  0.001             5   \n",
       "2   potency    pIC50 (MERS-CoV Mpro)          32     500  0.001             5   \n",
       "3   potency    pIC50 (MERS-CoV Mpro)          32     500  0.001             5   \n",
       "4   potency    pIC50 (MERS-CoV Mpro)          32     500  0.001             5   \n",
       "..      ...                      ...         ...     ...    ...           ...   \n",
       "3   potency    pIC50 (MERS-CoV Mpro)          32     500  0.001             5   \n",
       "4   potency  pIC50 (SARS-CoV-2 Mpro)          32     500  0.001             5   \n",
       "5   potency  pIC50 (SARS-CoV-2 Mpro)          32     500  0.001             5   \n",
       "6   potency  pIC50 (SARS-CoV-2 Mpro)          32     500  0.001             5   \n",
       "7   potency  pIC50 (SARS-CoV-2 Mpro)          32     500  0.001             5   \n",
       "\n",
       "    num_cv_bins  scaffold_split_val_sz repr_model  in_channels  \\\n",
       "0            10                    0.1        GIN            9   \n",
       "1            10                    0.1        GIN            9   \n",
       "2            10                    0.1        GIN            9   \n",
       "3            10                    0.1        GIN            9   \n",
       "4            10                    0.1        GIN            9   \n",
       "..          ...                    ...        ...          ...   \n",
       "3            10                    0.1       ECFP         <NA>   \n",
       "4            10                    0.1       ECFP         <NA>   \n",
       "5            10                    0.1       ECFP         <NA>   \n",
       "6            10                    0.1       ECFP         <NA>   \n",
       "7            10                    0.1       ECFP         <NA>   \n",
       "\n",
       "    hidden_channels  out_channels  num_layers  dropout  proj_hidden_dim  \\\n",
       "0                32            64           2      0.1               32   \n",
       "1                32            64           2      0.1               64   \n",
       "2                32            64           3      0.1               32   \n",
       "3                32            64           3      0.1               64   \n",
       "4                32            64           4      0.1               32   \n",
       "..              ...           ...         ...      ...              ...   \n",
       "3              <NA>          2048        <NA>     <NA>               64   \n",
       "4              <NA>          1024        <NA>     <NA>               64   \n",
       "5              <NA>          2048        <NA>     <NA>               64   \n",
       "6              <NA>          1024        <NA>     <NA>               64   \n",
       "7              <NA>          2048        <NA>     <NA>               64   \n",
       "\n",
       "    out_dim  mean_val_loss  patience  final_avg_epochs  radius  \n",
       "0         1       1.240261         5                26    <NA>  \n",
       "1         1       1.098973         5                29    <NA>  \n",
       "2         1       1.255773         5                20    <NA>  \n",
       "3         1       1.035461         5                38    <NA>  \n",
       "4         1       1.043591         5                50    <NA>  \n",
       "..      ...            ...       ...               ...     ...  \n",
       "3         1       0.887773         5                10       3  \n",
       "4         1       0.533963         5                18       2  \n",
       "5         1       0.540053         5                14       2  \n",
       "6         1       0.529502         5                16       3  \n",
       "7         1       0.526647         5                14       3  \n",
       "\n",
       "[392 rows x 20 columns]"
      ],
      "text/html": [
       "<div>\n",
       "<style scoped>\n",
       "    .dataframe tbody tr th:only-of-type {\n",
       "        vertical-align: middle;\n",
       "    }\n",
       "\n",
       "    .dataframe tbody tr th {\n",
       "        vertical-align: top;\n",
       "    }\n",
       "\n",
       "    .dataframe thead th {\n",
       "        text-align: right;\n",
       "    }\n",
       "</style>\n",
       "<table border=\"1\" class=\"dataframe\">\n",
       "  <thead>\n",
       "    <tr style=\"text-align: right;\">\n",
       "      <th></th>\n",
       "      <th>task</th>\n",
       "      <th>target_task</th>\n",
       "      <th>batch_size</th>\n",
       "      <th>epochs</th>\n",
       "      <th>lr</th>\n",
       "      <th>num_cv_folds</th>\n",
       "      <th>num_cv_bins</th>\n",
       "      <th>scaffold_split_val_sz</th>\n",
       "      <th>repr_model</th>\n",
       "      <th>in_channels</th>\n",
       "      <th>hidden_channels</th>\n",
       "      <th>out_channels</th>\n",
       "      <th>num_layers</th>\n",
       "      <th>dropout</th>\n",
       "      <th>proj_hidden_dim</th>\n",
       "      <th>out_dim</th>\n",
       "      <th>mean_val_loss</th>\n",
       "      <th>patience</th>\n",
       "      <th>final_avg_epochs</th>\n",
       "      <th>radius</th>\n",
       "    </tr>\n",
       "  </thead>\n",
       "  <tbody>\n",
       "    <tr>\n",
       "      <th>0</th>\n",
       "      <td>potency</td>\n",
       "      <td>pIC50 (MERS-CoV Mpro)</td>\n",
       "      <td>32</td>\n",
       "      <td>500</td>\n",
       "      <td>0.001</td>\n",
       "      <td>5</td>\n",
       "      <td>10</td>\n",
       "      <td>0.1</td>\n",
       "      <td>GIN</td>\n",
       "      <td>9</td>\n",
       "      <td>32</td>\n",
       "      <td>64</td>\n",
       "      <td>2</td>\n",
       "      <td>0.1</td>\n",
       "      <td>32</td>\n",
       "      <td>1</td>\n",
       "      <td>1.240261</td>\n",
       "      <td>5</td>\n",
       "      <td>26</td>\n",
       "      <td>&lt;NA&gt;</td>\n",
       "    </tr>\n",
       "    <tr>\n",
       "      <th>1</th>\n",
       "      <td>potency</td>\n",
       "      <td>pIC50 (MERS-CoV Mpro)</td>\n",
       "      <td>32</td>\n",
       "      <td>500</td>\n",
       "      <td>0.001</td>\n",
       "      <td>5</td>\n",
       "      <td>10</td>\n",
       "      <td>0.1</td>\n",
       "      <td>GIN</td>\n",
       "      <td>9</td>\n",
       "      <td>32</td>\n",
       "      <td>64</td>\n",
       "      <td>2</td>\n",
       "      <td>0.1</td>\n",
       "      <td>64</td>\n",
       "      <td>1</td>\n",
       "      <td>1.098973</td>\n",
       "      <td>5</td>\n",
       "      <td>29</td>\n",
       "      <td>&lt;NA&gt;</td>\n",
       "    </tr>\n",
       "    <tr>\n",
       "      <th>2</th>\n",
       "      <td>potency</td>\n",
       "      <td>pIC50 (MERS-CoV Mpro)</td>\n",
       "      <td>32</td>\n",
       "      <td>500</td>\n",
       "      <td>0.001</td>\n",
       "      <td>5</td>\n",
       "      <td>10</td>\n",
       "      <td>0.1</td>\n",
       "      <td>GIN</td>\n",
       "      <td>9</td>\n",
       "      <td>32</td>\n",
       "      <td>64</td>\n",
       "      <td>3</td>\n",
       "      <td>0.1</td>\n",
       "      <td>32</td>\n",
       "      <td>1</td>\n",
       "      <td>1.255773</td>\n",
       "      <td>5</td>\n",
       "      <td>20</td>\n",
       "      <td>&lt;NA&gt;</td>\n",
       "    </tr>\n",
       "    <tr>\n",
       "      <th>3</th>\n",
       "      <td>potency</td>\n",
       "      <td>pIC50 (MERS-CoV Mpro)</td>\n",
       "      <td>32</td>\n",
       "      <td>500</td>\n",
       "      <td>0.001</td>\n",
       "      <td>5</td>\n",
       "      <td>10</td>\n",
       "      <td>0.1</td>\n",
       "      <td>GIN</td>\n",
       "      <td>9</td>\n",
       "      <td>32</td>\n",
       "      <td>64</td>\n",
       "      <td>3</td>\n",
       "      <td>0.1</td>\n",
       "      <td>64</td>\n",
       "      <td>1</td>\n",
       "      <td>1.035461</td>\n",
       "      <td>5</td>\n",
       "      <td>38</td>\n",
       "      <td>&lt;NA&gt;</td>\n",
       "    </tr>\n",
       "    <tr>\n",
       "      <th>4</th>\n",
       "      <td>potency</td>\n",
       "      <td>pIC50 (MERS-CoV Mpro)</td>\n",
       "      <td>32</td>\n",
       "      <td>500</td>\n",
       "      <td>0.001</td>\n",
       "      <td>5</td>\n",
       "      <td>10</td>\n",
       "      <td>0.1</td>\n",
       "      <td>GIN</td>\n",
       "      <td>9</td>\n",
       "      <td>32</td>\n",
       "      <td>64</td>\n",
       "      <td>4</td>\n",
       "      <td>0.1</td>\n",
       "      <td>32</td>\n",
       "      <td>1</td>\n",
       "      <td>1.043591</td>\n",
       "      <td>5</td>\n",
       "      <td>50</td>\n",
       "      <td>&lt;NA&gt;</td>\n",
       "    </tr>\n",
       "    <tr>\n",
       "      <th>...</th>\n",
       "      <td>...</td>\n",
       "      <td>...</td>\n",
       "      <td>...</td>\n",
       "      <td>...</td>\n",
       "      <td>...</td>\n",
       "      <td>...</td>\n",
       "      <td>...</td>\n",
       "      <td>...</td>\n",
       "      <td>...</td>\n",
       "      <td>...</td>\n",
       "      <td>...</td>\n",
       "      <td>...</td>\n",
       "      <td>...</td>\n",
       "      <td>...</td>\n",
       "      <td>...</td>\n",
       "      <td>...</td>\n",
       "      <td>...</td>\n",
       "      <td>...</td>\n",
       "      <td>...</td>\n",
       "      <td>...</td>\n",
       "    </tr>\n",
       "    <tr>\n",
       "      <th>3</th>\n",
       "      <td>potency</td>\n",
       "      <td>pIC50 (MERS-CoV Mpro)</td>\n",
       "      <td>32</td>\n",
       "      <td>500</td>\n",
       "      <td>0.001</td>\n",
       "      <td>5</td>\n",
       "      <td>10</td>\n",
       "      <td>0.1</td>\n",
       "      <td>ECFP</td>\n",
       "      <td>&lt;NA&gt;</td>\n",
       "      <td>&lt;NA&gt;</td>\n",
       "      <td>2048</td>\n",
       "      <td>&lt;NA&gt;</td>\n",
       "      <td>&lt;NA&gt;</td>\n",
       "      <td>64</td>\n",
       "      <td>1</td>\n",
       "      <td>0.887773</td>\n",
       "      <td>5</td>\n",
       "      <td>10</td>\n",
       "      <td>3</td>\n",
       "    </tr>\n",
       "    <tr>\n",
       "      <th>4</th>\n",
       "      <td>potency</td>\n",
       "      <td>pIC50 (SARS-CoV-2 Mpro)</td>\n",
       "      <td>32</td>\n",
       "      <td>500</td>\n",
       "      <td>0.001</td>\n",
       "      <td>5</td>\n",
       "      <td>10</td>\n",
       "      <td>0.1</td>\n",
       "      <td>ECFP</td>\n",
       "      <td>&lt;NA&gt;</td>\n",
       "      <td>&lt;NA&gt;</td>\n",
       "      <td>1024</td>\n",
       "      <td>&lt;NA&gt;</td>\n",
       "      <td>&lt;NA&gt;</td>\n",
       "      <td>64</td>\n",
       "      <td>1</td>\n",
       "      <td>0.533963</td>\n",
       "      <td>5</td>\n",
       "      <td>18</td>\n",
       "      <td>2</td>\n",
       "    </tr>\n",
       "    <tr>\n",
       "      <th>5</th>\n",
       "      <td>potency</td>\n",
       "      <td>pIC50 (SARS-CoV-2 Mpro)</td>\n",
       "      <td>32</td>\n",
       "      <td>500</td>\n",
       "      <td>0.001</td>\n",
       "      <td>5</td>\n",
       "      <td>10</td>\n",
       "      <td>0.1</td>\n",
       "      <td>ECFP</td>\n",
       "      <td>&lt;NA&gt;</td>\n",
       "      <td>&lt;NA&gt;</td>\n",
       "      <td>2048</td>\n",
       "      <td>&lt;NA&gt;</td>\n",
       "      <td>&lt;NA&gt;</td>\n",
       "      <td>64</td>\n",
       "      <td>1</td>\n",
       "      <td>0.540053</td>\n",
       "      <td>5</td>\n",
       "      <td>14</td>\n",
       "      <td>2</td>\n",
       "    </tr>\n",
       "    <tr>\n",
       "      <th>6</th>\n",
       "      <td>potency</td>\n",
       "      <td>pIC50 (SARS-CoV-2 Mpro)</td>\n",
       "      <td>32</td>\n",
       "      <td>500</td>\n",
       "      <td>0.001</td>\n",
       "      <td>5</td>\n",
       "      <td>10</td>\n",
       "      <td>0.1</td>\n",
       "      <td>ECFP</td>\n",
       "      <td>&lt;NA&gt;</td>\n",
       "      <td>&lt;NA&gt;</td>\n",
       "      <td>1024</td>\n",
       "      <td>&lt;NA&gt;</td>\n",
       "      <td>&lt;NA&gt;</td>\n",
       "      <td>64</td>\n",
       "      <td>1</td>\n",
       "      <td>0.529502</td>\n",
       "      <td>5</td>\n",
       "      <td>16</td>\n",
       "      <td>3</td>\n",
       "    </tr>\n",
       "    <tr>\n",
       "      <th>7</th>\n",
       "      <td>potency</td>\n",
       "      <td>pIC50 (SARS-CoV-2 Mpro)</td>\n",
       "      <td>32</td>\n",
       "      <td>500</td>\n",
       "      <td>0.001</td>\n",
       "      <td>5</td>\n",
       "      <td>10</td>\n",
       "      <td>0.1</td>\n",
       "      <td>ECFP</td>\n",
       "      <td>&lt;NA&gt;</td>\n",
       "      <td>&lt;NA&gt;</td>\n",
       "      <td>2048</td>\n",
       "      <td>&lt;NA&gt;</td>\n",
       "      <td>&lt;NA&gt;</td>\n",
       "      <td>64</td>\n",
       "      <td>1</td>\n",
       "      <td>0.526647</td>\n",
       "      <td>5</td>\n",
       "      <td>14</td>\n",
       "      <td>3</td>\n",
       "    </tr>\n",
       "  </tbody>\n",
       "</table>\n",
       "<p>392 rows × 20 columns</p>\n",
       "</div>"
      ]
     },
     "execution_count": 2,
     "metadata": {},
     "output_type": "execute_result"
    }
   ],
   "execution_count": 2
  },
  {
   "metadata": {
    "ExecuteTime": {
     "end_time": "2025-02-24T12:18:15.849175Z",
     "start_time": "2025-02-24T12:18:15.819745Z"
    }
   },
   "cell_type": "code",
   "source": [
    "# Group by target_task and find the row with minimum mean_val_loss for each group\n",
    "best_models = df.loc[df.groupby(['target_task', 'repr_model'])['mean_val_loss'].idxmin()].reset_index(drop=True)\n",
    "best_models_list = best_models.to_dict('records')"
   ],
   "id": "f21c021bf8ca1b7e",
   "outputs": [],
   "execution_count": 3
  },
  {
   "metadata": {
    "ExecuteTime": {
     "end_time": "2025-02-24T12:20:24.515427Z",
     "start_time": "2025-02-24T12:18:17.910026Z"
    }
   },
   "cell_type": "code",
   "source": [
    "# Iterate over each model, then\n",
    "# 1. Train model on train_scaffold.\n",
    "# 2. Make predictions on test_scaffold\n",
    "# 3. Predict MAE\n",
    "\n",
    "test_scaffold_preds = {}\n",
    "for model in best_models_list:\n",
    "    target_task = model['target_task']\n",
    "    pred = PolarisDispatcher.train_and_predict(model)\n",
    "    mae = pred[1]\n",
    "    print(mae)\n",
    "    d = {model['repr_model']: mae}\n",
    "    test_scaffold_preds.setdefault(target_task, {}).update(d)\n",
    "\n",
    "test_scaffold_preds"
   ],
   "id": "d48fb11e99dc1a95",
   "outputs": [
    {
     "name": "stderr",
     "output_type": "stream",
     "text": [
      "100%|██████████| 38/38 [00:04<00:00,  8.78it/s]\n"
     ]
    },
    {
     "name": "stdout",
     "output_type": "stream",
     "text": [
      "0.7666798423934769\n"
     ]
    },
    {
     "name": "stderr",
     "output_type": "stream",
     "text": [
      "100%|██████████| 10/10 [00:19<00:00,  1.98s/it]\n"
     ]
    },
    {
     "name": "stdout",
     "output_type": "stream",
     "text": [
      "0.8490045096848037\n"
     ]
    },
    {
     "name": "stderr",
     "output_type": "stream",
     "text": [
      "100%|██████████| 38/38 [00:08<00:00,  4.74it/s]\n"
     ]
    },
    {
     "name": "stdout",
     "output_type": "stream",
     "text": [
      "0.9123153974721719\n"
     ]
    },
    {
     "name": "stderr",
     "output_type": "stream",
     "text": [
      "100%|██████████| 31/31 [00:03<00:00,  8.12it/s]\n"
     ]
    },
    {
     "name": "stdout",
     "output_type": "stream",
     "text": [
      "0.9166421209062848\n"
     ]
    },
    {
     "name": "stderr",
     "output_type": "stream",
     "text": [
      "100%|██████████| 54/54 [00:08<00:00,  6.67it/s]\n"
     ]
    },
    {
     "name": "stdout",
     "output_type": "stream",
     "text": [
      "0.7427090707716051\n"
     ]
    },
    {
     "name": "stderr",
     "output_type": "stream",
     "text": [
      "100%|██████████| 14/14 [00:26<00:00,  1.89s/it]\n"
     ]
    },
    {
     "name": "stdout",
     "output_type": "stream",
     "text": [
      "0.5471829302170698\n"
     ]
    },
    {
     "name": "stderr",
     "output_type": "stream",
     "text": [
      "100%|██████████| 31/31 [00:02<00:00, 13.68it/s]\n"
     ]
    },
    {
     "name": "stdout",
     "output_type": "stream",
     "text": [
      "0.8301238830272968\n"
     ]
    },
    {
     "name": "stderr",
     "output_type": "stream",
     "text": [
      "100%|██████████| 37/37 [00:04<00:00,  9.03it/s]\n"
     ]
    },
    {
     "name": "stdout",
     "output_type": "stream",
     "text": [
      "0.9049523793734037\n"
     ]
    },
    {
     "name": "stderr",
     "output_type": "stream",
     "text": [
      "100%|██████████| 14/14 [00:25<00:00,  1.83s/it]\n"
     ]
    },
    {
     "name": "stdout",
     "output_type": "stream",
     "text": [
      "0.5724579530603745\n"
     ]
    },
    {
     "name": "stderr",
     "output_type": "stream",
     "text": [
      "100%|██████████| 41/41 [00:06<00:00,  6.15it/s]\n"
     ]
    },
    {
     "name": "stdout",
     "output_type": "stream",
     "text": [
      "0.47275365941664754\n"
     ]
    },
    {
     "name": "stderr",
     "output_type": "stream",
     "text": [
      "100%|██████████| 46/46 [00:05<00:00,  8.85it/s]\n"
     ]
    },
    {
     "name": "stdout",
     "output_type": "stream",
     "text": [
      "0.4315743614645565\n"
     ]
    },
    {
     "name": "stderr",
     "output_type": "stream",
     "text": [
      "100%|██████████| 31/31 [00:06<00:00,  4.61it/s]\n"
     ]
    },
    {
     "name": "stdout",
     "output_type": "stream",
     "text": [
      "0.5644616070915671\n"
     ]
    },
    {
     "name": "stderr",
     "output_type": "stream",
     "text": [
      "100%|██████████| 33/33 [00:02<00:00, 13.54it/s]"
     ]
    },
    {
     "name": "stdout",
     "output_type": "stream",
     "text": [
      "0.5114597040064195\n"
     ]
    },
    {
     "name": "stderr",
     "output_type": "stream",
     "text": [
      "\n"
     ]
    },
    {
     "data": {
      "text/plain": [
       "{'pIC50 (MERS-CoV Mpro)': {'GIN': 0.9049523793734037,\n",
       "  'ECFP': 0.8490045096848037,\n",
       "  'GAT': 0.9123153974721719,\n",
       "  'GCN': 0.9166421209062848,\n",
       "  'GraphSAGE': 0.8301238830272968},\n",
       " 'pIC50 (SARS-CoV-2 Mpro)': {'ECFP': 0.5724579530603745,\n",
       "  'GAT': 0.47275365941664754,\n",
       "  'GCN': 0.4315743614645565,\n",
       "  'GIN': 0.5644616070915671,\n",
       "  'GraphSAGE': 0.5114597040064195}}"
      ]
     },
     "execution_count": 4,
     "metadata": {},
     "output_type": "execute_result"
    }
   ],
   "execution_count": 4
  },
  {
   "metadata": {
    "ExecuteTime": {
     "end_time": "2025-02-24T12:21:11.714327Z",
     "start_time": "2025-02-24T12:21:11.518405Z"
    }
   },
   "cell_type": "code",
   "source": [
    "# Create a histogram of MAE for each target_task and model\n",
    "df_admet_hist = pd.DataFrame(test_scaffold_preds)\n",
    "df_admet_hist = df_admet_hist.reset_index().melt(id_vars=\"index\", var_name=\"target_task\", value_name=\"mean_average_error\")\n",
    "df_admet_hist.rename(columns={\"index\": \"model\"}, inplace=True)\n",
    "g = sns.catplot(\n",
    "    data=df_admet_hist,\n",
    "    kind=\"bar\",\n",
    "    x=\"model\",\n",
    "    y=\"mean_average_error\",\n",
    "    hue=\"target_task\",\n",
    "    aspect=1.5,\n",
    ")"
   ],
   "id": "68599663b86d9250",
   "outputs": [
    {
     "data": {
      "text/plain": [
       "<Figure size 966.75x500 with 1 Axes>"
      ],
      "image/png": "[encoded data removed]"
     },
     "metadata": {},
     "output_type": "display_data"
    }
   ],
   "execution_count": 7
  },
  {
   "metadata": {},
   "cell_type": "code",
   "source": "# Plot y_true, y_pred for best performing model (maybe even in plotly?)",
   "id": "e443cd0ba4c4e376",
   "outputs": [],
   "execution_count": null
  },
  {
   "metadata": {},
   "cell_type": "markdown",
   "source": "## Admet",
   "id": "7dd6afc07dcb9391"
  },
  {
   "metadata": {},
   "cell_type": "markdown",
   "source": "### Datasets",
   "id": "179cce131fd96020"
  },
  {
   "metadata": {
    "ExecuteTime": {
     "end_time": "2025-02-24T11:11:10.983702Z",
     "start_time": "2025-02-24T11:11:10.792976Z"
    }
   },
   "cell_type": "code",
   "source": [
    "task = 'admet'\n",
    "target_task = 'MDR1-MDCKII'\n",
    "\n",
    "root = Path(f\"./data\") / \"polaris\" / task\n",
    "train_polaris = PolarisDataset(root=root, task=task, target_task=target_task, train=True)\n",
    "test_polaris = PolarisDataset(root=root, task=task, target_task=target_task, train=False)\n",
    "train_scaffold, test_scaffold = scaffold_split(dataset=train_polaris, test_size=0.1)"
   ],
   "id": "475981d0c2a9db1e",
   "outputs": [],
   "execution_count": 33
  },
  {
   "metadata": {
    "ExecuteTime": {
     "end_time": "2025-02-24T11:11:11.395137Z",
     "start_time": "2025-02-24T11:11:11.138212Z"
    }
   },
   "cell_type": "code",
   "source": [
    "sns.displot(data=train_polaris.y, kde=True, legend=False).set_xlabels(target_task)\n",
    "sns.displot(data=train_scaffold.y, kde=True, legend=False).set_xlabels(target_task)\n",
    "sns.displot(data=test_scaffold.y, kde=True, legend=False).set_xlabels(target_task)\n"
   ],
   "id": "14a53ef3d91477a0",
   "outputs": [
    {
     "data": {
      "text/plain": [
       "<seaborn.axisgrid.FacetGrid at 0x331112e70>"
      ]
     },
     "execution_count": 34,
     "metadata": {},
     "output_type": "execute_result"
    },
    {
     "data": {
      "text/plain": [
       "<Figure size 500x500 with 1 Axes>"
      ],
      "image/png": "[encoded data removed]"
     },
     "metadata": {},
     "output_type": "display_data"
    },
    {
     "data": {
      "text/plain": [
       "<Figure size 500x500 with 1 Axes>"
      ],
      "image/png": "[encoded data removed]"
     },
     "metadata": {},
     "output_type": "display_data"
    },
    {
     "data": {
      "text/plain": [
       "<Figure size 500x500 with 1 Axes>"
      ],
      "image/png": "[encoded data removed]"
     },
     "metadata": {},
     "output_type": "display_data"
    }
   ],
   "execution_count": 34
  },
  {
   "metadata": {},
   "cell_type": "markdown",
   "source": "### Inference",
   "id": "6a22b28389782ac"
  },
  {
   "metadata": {},
   "cell_type": "code",
   "source": [
    "# Combine results of gnn and ecfp\n",
    "df_admet_gnn = pd.read_csv(\"./results/admet_gnn_results.csv\")\n",
    "df_admet_ecfp = pd.read_csv(\"./results/admet_ecfp_results.csv\")\n",
    "df_admet = pd.concat([df_admet_gnn, df_admet_ecfp])\n",
    "df_admet = df_admet.convert_dtypes()\n",
    "df_admet\n"
   ],
   "id": "eb6e0e45bee3a96f",
   "outputs": [],
   "execution_count": null
  },
  {
   "metadata": {},
   "cell_type": "code",
   "source": [
    "# Group by target_task and find the row with minimum mean_val_loss for each group\n",
    "best_models = df_admet.loc[df_admet.groupby(['target_task', 'repr_model'])['mean_val_loss'].idxmin()].reset_index(drop=True)\n",
    "best_models_list = best_models.to_dict('records')\n",
    "best_models_list"
   ],
   "id": "ce791ecf7ed47216",
   "outputs": [],
   "execution_count": null
  },
  {
   "metadata": {},
   "cell_type": "code",
   "source": [
    "test_scaffold_preds = {}\n",
    "\n",
    "for model in best_models_list:\n",
    "    target_task = model['target_task']\n",
    "    pred = PolarisDispatcher.train_and_predict(model)\n",
    "    mae = pred[1]\n",
    "    print(mae)\n",
    "    d = {model['repr_model']: mae}\n",
    "    test_scaffold_preds.setdefault(target_task, {}).update(d)\n",
    "\n",
    "test_scaffold_preds\n"
   ],
   "id": "a02507e43f053fa8",
   "outputs": [],
   "execution_count": null
  },
  {
   "metadata": {},
   "cell_type": "code",
   "source": [
    "# Create a histogram of MAE for each target_task and model\n",
    "df_admet_hist = pd.DataFrame(test_scaffold_preds)\n",
    "df_admet_hist = df_admet_hist.reset_index().melt(id_vars=\"index\", var_name=\"target_task\", value_name=\"mean_average_error\")\n",
    "df_admet_hist.rename(columns={\"index\": \"model\", \"mean_average_error\": \"MAE\"}, inplace=True)\n",
    "g = sns.catplot(\n",
    "    data=df_admet_hist,\n",
    "    kind=\"bar\",\n",
    "    x=\"model\",\n",
    "    y=\"MAE\",\n",
    "    hue=\"target_task\",\n",
    "    aspect=1.8\n",
    ")\n"
   ],
   "id": "e0d7959a42a2c68c",
   "outputs": [],
   "execution_count": null
  }
 ],
 "metadata": {
  "kernelspec": {
   "name": "python3",
   "language": "python",
   "display_name": "Python 3 (ipykernel)"
  }
 },
 "nbformat": 5,
 "nbformat_minor": 9
}
